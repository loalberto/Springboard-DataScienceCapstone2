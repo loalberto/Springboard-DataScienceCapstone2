{
 "cells": [
  {
   "cell_type": "code",
   "execution_count": 1,
   "metadata": {},
   "outputs": [],
   "source": [
    "import pandas as pd\n",
    "import numpy as np\n",
    "import matplotlib.pyplot as plt\n",
    "import seaborn as sns\n",
    "from sklearn.linear_model import LinearRegression\n",
    "from sklearn.linear_model import LogisticRegression\n",
    "from sklearn.linear_model import Ridge\n",
    "from sklearn.model_selection import train_test_split\n",
    "from sklearn.preprocessing import scale\n",
    "import random"
   ]
  },
  {
   "cell_type": "code",
   "execution_count": 11,
   "metadata": {},
   "outputs": [
    {
     "data": {
      "text/plain": [
       "<pandas.io.parsers.TextFileReader at 0x7fd201dbba10>"
      ]
     },
     "execution_count": 11,
     "metadata": {},
     "output_type": "execute_result"
    }
   ],
   "source": [
    "df_itr = pd.read_csv('datasets/Clean_Pandemic_Taxi_Data.csv', chunksize=10000, index_col=0)\n",
    "df_itr"
   ]
  },
  {
   "cell_type": "code",
   "execution_count": 13,
   "metadata": {
    "scrolled": false
   },
   "outputs": [
    {
     "data": {
      "text/html": [
       "<div>\n",
       "<style scoped>\n",
       "    .dataframe tbody tr th:only-of-type {\n",
       "        vertical-align: middle;\n",
       "    }\n",
       "\n",
       "    .dataframe tbody tr th {\n",
       "        vertical-align: top;\n",
       "    }\n",
       "\n",
       "    .dataframe thead th {\n",
       "        text-align: right;\n",
       "    }\n",
       "</style>\n",
       "<table border=\"1\" class=\"dataframe\">\n",
       "  <thead>\n",
       "    <tr style=\"text-align: right;\">\n",
       "      <th></th>\n",
       "      <th>VendorID</th>\n",
       "      <th>tpep_pickup_datetime</th>\n",
       "      <th>tpep_dropoff_datetime</th>\n",
       "      <th>passenger_count</th>\n",
       "      <th>trip_distance</th>\n",
       "      <th>RatecodeID</th>\n",
       "      <th>store_and_fwd_flag</th>\n",
       "      <th>PULocationID</th>\n",
       "      <th>DOLocationID</th>\n",
       "      <th>payment_type</th>\n",
       "      <th>...</th>\n",
       "      <th>Bronx_PU</th>\n",
       "      <th>Brooklyn_PU</th>\n",
       "      <th>Manhattan_PU</th>\n",
       "      <th>Queens_PU</th>\n",
       "      <th>Staten_Island_PU</th>\n",
       "      <th>Bronx_DO</th>\n",
       "      <th>Brooklyn_DO</th>\n",
       "      <th>Manhattan_DO</th>\n",
       "      <th>Queens_DO</th>\n",
       "      <th>Staten_Island_DO</th>\n",
       "    </tr>\n",
       "  </thead>\n",
       "  <tbody>\n",
       "    <tr>\n",
       "      <th>10034</th>\n",
       "      <td>2.0</td>\n",
       "      <td>2020-01-19 19:10:56</td>\n",
       "      <td>2020-01-19 19:15:13</td>\n",
       "      <td>2.0</td>\n",
       "      <td>0.76</td>\n",
       "      <td>1.0</td>\n",
       "      <td>N</td>\n",
       "      <td>238</td>\n",
       "      <td>239</td>\n",
       "      <td>1.0</td>\n",
       "      <td>...</td>\n",
       "      <td>0</td>\n",
       "      <td>0</td>\n",
       "      <td>1</td>\n",
       "      <td>0</td>\n",
       "      <td>0</td>\n",
       "      <td>0</td>\n",
       "      <td>0</td>\n",
       "      <td>1</td>\n",
       "      <td>0</td>\n",
       "      <td>0</td>\n",
       "    </tr>\n",
       "    <tr>\n",
       "      <th>10035</th>\n",
       "      <td>2.0</td>\n",
       "      <td>2020-01-19 19:46:55</td>\n",
       "      <td>2020-01-19 19:49:15</td>\n",
       "      <td>2.0</td>\n",
       "      <td>0.84</td>\n",
       "      <td>1.0</td>\n",
       "      <td>N</td>\n",
       "      <td>238</td>\n",
       "      <td>239</td>\n",
       "      <td>1.0</td>\n",
       "      <td>...</td>\n",
       "      <td>0</td>\n",
       "      <td>0</td>\n",
       "      <td>1</td>\n",
       "      <td>0</td>\n",
       "      <td>0</td>\n",
       "      <td>0</td>\n",
       "      <td>0</td>\n",
       "      <td>1</td>\n",
       "      <td>0</td>\n",
       "      <td>0</td>\n",
       "    </tr>\n",
       "    <tr>\n",
       "      <th>10036</th>\n",
       "      <td>2.0</td>\n",
       "      <td>2020-01-19 19:12:38</td>\n",
       "      <td>2020-01-19 19:17:28</td>\n",
       "      <td>1.0</td>\n",
       "      <td>0.85</td>\n",
       "      <td>1.0</td>\n",
       "      <td>N</td>\n",
       "      <td>238</td>\n",
       "      <td>239</td>\n",
       "      <td>1.0</td>\n",
       "      <td>...</td>\n",
       "      <td>0</td>\n",
       "      <td>0</td>\n",
       "      <td>1</td>\n",
       "      <td>0</td>\n",
       "      <td>0</td>\n",
       "      <td>0</td>\n",
       "      <td>0</td>\n",
       "      <td>1</td>\n",
       "      <td>0</td>\n",
       "      <td>0</td>\n",
       "    </tr>\n",
       "    <tr>\n",
       "      <th>10037</th>\n",
       "      <td>2.0</td>\n",
       "      <td>2020-01-19 19:12:50</td>\n",
       "      <td>2020-01-19 19:16:44</td>\n",
       "      <td>1.0</td>\n",
       "      <td>1.00</td>\n",
       "      <td>1.0</td>\n",
       "      <td>N</td>\n",
       "      <td>238</td>\n",
       "      <td>239</td>\n",
       "      <td>1.0</td>\n",
       "      <td>...</td>\n",
       "      <td>0</td>\n",
       "      <td>0</td>\n",
       "      <td>1</td>\n",
       "      <td>0</td>\n",
       "      <td>0</td>\n",
       "      <td>0</td>\n",
       "      <td>0</td>\n",
       "      <td>1</td>\n",
       "      <td>0</td>\n",
       "      <td>0</td>\n",
       "    </tr>\n",
       "    <tr>\n",
       "      <th>10038</th>\n",
       "      <td>2.0</td>\n",
       "      <td>2020-01-19 19:49:20</td>\n",
       "      <td>2020-01-19 19:51:25</td>\n",
       "      <td>1.0</td>\n",
       "      <td>0.63</td>\n",
       "      <td>1.0</td>\n",
       "      <td>N</td>\n",
       "      <td>238</td>\n",
       "      <td>239</td>\n",
       "      <td>1.0</td>\n",
       "      <td>...</td>\n",
       "      <td>0</td>\n",
       "      <td>0</td>\n",
       "      <td>1</td>\n",
       "      <td>0</td>\n",
       "      <td>0</td>\n",
       "      <td>0</td>\n",
       "      <td>0</td>\n",
       "      <td>1</td>\n",
       "      <td>0</td>\n",
       "      <td>0</td>\n",
       "    </tr>\n",
       "    <tr>\n",
       "      <th>...</th>\n",
       "      <td>...</td>\n",
       "      <td>...</td>\n",
       "      <td>...</td>\n",
       "      <td>...</td>\n",
       "      <td>...</td>\n",
       "      <td>...</td>\n",
       "      <td>...</td>\n",
       "      <td>...</td>\n",
       "      <td>...</td>\n",
       "      <td>...</td>\n",
       "      <td>...</td>\n",
       "      <td>...</td>\n",
       "      <td>...</td>\n",
       "      <td>...</td>\n",
       "      <td>...</td>\n",
       "      <td>...</td>\n",
       "      <td>...</td>\n",
       "      <td>...</td>\n",
       "      <td>...</td>\n",
       "      <td>...</td>\n",
       "      <td>...</td>\n",
       "    </tr>\n",
       "    <tr>\n",
       "      <th>20180</th>\n",
       "      <td>2.0</td>\n",
       "      <td>2020-01-08 17:02:00</td>\n",
       "      <td>2020-01-08 17:06:57</td>\n",
       "      <td>1.0</td>\n",
       "      <td>0.80</td>\n",
       "      <td>1.0</td>\n",
       "      <td>N</td>\n",
       "      <td>239</td>\n",
       "      <td>239</td>\n",
       "      <td>1.0</td>\n",
       "      <td>...</td>\n",
       "      <td>0</td>\n",
       "      <td>0</td>\n",
       "      <td>1</td>\n",
       "      <td>0</td>\n",
       "      <td>0</td>\n",
       "      <td>0</td>\n",
       "      <td>0</td>\n",
       "      <td>1</td>\n",
       "      <td>0</td>\n",
       "      <td>0</td>\n",
       "    </tr>\n",
       "    <tr>\n",
       "      <th>20181</th>\n",
       "      <td>2.0</td>\n",
       "      <td>2020-01-08 17:26:12</td>\n",
       "      <td>2020-01-08 17:28:54</td>\n",
       "      <td>2.0</td>\n",
       "      <td>0.42</td>\n",
       "      <td>1.0</td>\n",
       "      <td>N</td>\n",
       "      <td>239</td>\n",
       "      <td>239</td>\n",
       "      <td>1.0</td>\n",
       "      <td>...</td>\n",
       "      <td>0</td>\n",
       "      <td>0</td>\n",
       "      <td>1</td>\n",
       "      <td>0</td>\n",
       "      <td>0</td>\n",
       "      <td>0</td>\n",
       "      <td>0</td>\n",
       "      <td>1</td>\n",
       "      <td>0</td>\n",
       "      <td>0</td>\n",
       "    </tr>\n",
       "    <tr>\n",
       "      <th>20182</th>\n",
       "      <td>2.0</td>\n",
       "      <td>2020-01-08 17:41:45</td>\n",
       "      <td>2020-01-08 17:57:40</td>\n",
       "      <td>1.0</td>\n",
       "      <td>2.13</td>\n",
       "      <td>1.0</td>\n",
       "      <td>N</td>\n",
       "      <td>239</td>\n",
       "      <td>239</td>\n",
       "      <td>1.0</td>\n",
       "      <td>...</td>\n",
       "      <td>0</td>\n",
       "      <td>0</td>\n",
       "      <td>1</td>\n",
       "      <td>0</td>\n",
       "      <td>0</td>\n",
       "      <td>0</td>\n",
       "      <td>0</td>\n",
       "      <td>1</td>\n",
       "      <td>0</td>\n",
       "      <td>0</td>\n",
       "    </tr>\n",
       "    <tr>\n",
       "      <th>20183</th>\n",
       "      <td>2.0</td>\n",
       "      <td>2020-01-08 17:11:05</td>\n",
       "      <td>2020-01-08 17:16:30</td>\n",
       "      <td>6.0</td>\n",
       "      <td>0.82</td>\n",
       "      <td>1.0</td>\n",
       "      <td>N</td>\n",
       "      <td>239</td>\n",
       "      <td>239</td>\n",
       "      <td>1.0</td>\n",
       "      <td>...</td>\n",
       "      <td>0</td>\n",
       "      <td>0</td>\n",
       "      <td>1</td>\n",
       "      <td>0</td>\n",
       "      <td>0</td>\n",
       "      <td>0</td>\n",
       "      <td>0</td>\n",
       "      <td>1</td>\n",
       "      <td>0</td>\n",
       "      <td>0</td>\n",
       "    </tr>\n",
       "    <tr>\n",
       "      <th>20184</th>\n",
       "      <td>2.0</td>\n",
       "      <td>2020-01-08 17:12:39</td>\n",
       "      <td>2020-01-08 17:16:30</td>\n",
       "      <td>1.0</td>\n",
       "      <td>0.57</td>\n",
       "      <td>1.0</td>\n",
       "      <td>N</td>\n",
       "      <td>239</td>\n",
       "      <td>239</td>\n",
       "      <td>2.0</td>\n",
       "      <td>...</td>\n",
       "      <td>0</td>\n",
       "      <td>0</td>\n",
       "      <td>1</td>\n",
       "      <td>0</td>\n",
       "      <td>0</td>\n",
       "      <td>0</td>\n",
       "      <td>0</td>\n",
       "      <td>1</td>\n",
       "      <td>0</td>\n",
       "      <td>0</td>\n",
       "    </tr>\n",
       "  </tbody>\n",
       "</table>\n",
       "<p>10000 rows × 34 columns</p>\n",
       "</div>"
      ],
      "text/plain": [
       "       VendorID tpep_pickup_datetime tpep_dropoff_datetime  passenger_count  \\\n",
       "10034       2.0  2020-01-19 19:10:56   2020-01-19 19:15:13              2.0   \n",
       "10035       2.0  2020-01-19 19:46:55   2020-01-19 19:49:15              2.0   \n",
       "10036       2.0  2020-01-19 19:12:38   2020-01-19 19:17:28              1.0   \n",
       "10037       2.0  2020-01-19 19:12:50   2020-01-19 19:16:44              1.0   \n",
       "10038       2.0  2020-01-19 19:49:20   2020-01-19 19:51:25              1.0   \n",
       "...         ...                  ...                   ...              ...   \n",
       "20180       2.0  2020-01-08 17:02:00   2020-01-08 17:06:57              1.0   \n",
       "20181       2.0  2020-01-08 17:26:12   2020-01-08 17:28:54              2.0   \n",
       "20182       2.0  2020-01-08 17:41:45   2020-01-08 17:57:40              1.0   \n",
       "20183       2.0  2020-01-08 17:11:05   2020-01-08 17:16:30              6.0   \n",
       "20184       2.0  2020-01-08 17:12:39   2020-01-08 17:16:30              1.0   \n",
       "\n",
       "       trip_distance  RatecodeID store_and_fwd_flag  PULocationID  \\\n",
       "10034           0.76         1.0                  N           238   \n",
       "10035           0.84         1.0                  N           238   \n",
       "10036           0.85         1.0                  N           238   \n",
       "10037           1.00         1.0                  N           238   \n",
       "10038           0.63         1.0                  N           238   \n",
       "...              ...         ...                ...           ...   \n",
       "20180           0.80         1.0                  N           239   \n",
       "20181           0.42         1.0                  N           239   \n",
       "20182           2.13         1.0                  N           239   \n",
       "20183           0.82         1.0                  N           239   \n",
       "20184           0.57         1.0                  N           239   \n",
       "\n",
       "       DOLocationID  payment_type  ...  Bronx_PU  Brooklyn_PU  Manhattan_PU  \\\n",
       "10034           239           1.0  ...         0            0             1   \n",
       "10035           239           1.0  ...         0            0             1   \n",
       "10036           239           1.0  ...         0            0             1   \n",
       "10037           239           1.0  ...         0            0             1   \n",
       "10038           239           1.0  ...         0            0             1   \n",
       "...             ...           ...  ...       ...          ...           ...   \n",
       "20180           239           1.0  ...         0            0             1   \n",
       "20181           239           1.0  ...         0            0             1   \n",
       "20182           239           1.0  ...         0            0             1   \n",
       "20183           239           1.0  ...         0            0             1   \n",
       "20184           239           2.0  ...         0            0             1   \n",
       "\n",
       "       Queens_PU  Staten_Island_PU  Bronx_DO  Brooklyn_DO  Manhattan_DO  \\\n",
       "10034          0                 0         0            0             1   \n",
       "10035          0                 0         0            0             1   \n",
       "10036          0                 0         0            0             1   \n",
       "10037          0                 0         0            0             1   \n",
       "10038          0                 0         0            0             1   \n",
       "...          ...               ...       ...          ...           ...   \n",
       "20180          0                 0         0            0             1   \n",
       "20181          0                 0         0            0             1   \n",
       "20182          0                 0         0            0             1   \n",
       "20183          0                 0         0            0             1   \n",
       "20184          0                 0         0            0             1   \n",
       "\n",
       "      Queens_DO  Staten_Island_DO  \n",
       "10034         0                 0  \n",
       "10035         0                 0  \n",
       "10036         0                 0  \n",
       "10037         0                 0  \n",
       "10038         0                 0  \n",
       "...         ...               ...  \n",
       "20180         0                 0  \n",
       "20181         0                 0  \n",
       "20182         0                 0  \n",
       "20183         0                 0  \n",
       "20184         0                 0  \n",
       "\n",
       "[10000 rows x 34 columns]"
      ]
     },
     "execution_count": 13,
     "metadata": {},
     "output_type": "execute_result"
    }
   ],
   "source": [
    "for df in df_itr:\n",
    "    break\n",
    "df"
   ]
  },
  {
   "cell_type": "code",
   "execution_count": 23,
   "metadata": {},
   "outputs": [],
   "source": [
    "x_name = 'trip_distance'\n",
    "y_name = 'total_amount'"
   ]
  },
  {
   "cell_type": "code",
   "execution_count": 14,
   "metadata": {
    "scrolled": true
   },
   "outputs": [
    {
     "data": {
      "text/plain": [
       "10034    0.76\n",
       "10035    0.84\n",
       "10036    0.85\n",
       "10037    1.00\n",
       "10038    0.63\n",
       "         ... \n",
       "20180    0.80\n",
       "20181    0.42\n",
       "20182    2.13\n",
       "20183    0.82\n",
       "20184    0.57\n",
       "Name: trip_distance, Length: 10000, dtype: float64"
      ]
     },
     "execution_count": 14,
     "metadata": {},
     "output_type": "execute_result"
    }
   ],
   "source": [
    "x_trip_distance = df[x_name]\n",
    "x_trip_distance"
   ]
  },
  {
   "cell_type": "code",
   "execution_count": 15,
   "metadata": {
    "scrolled": true
   },
   "outputs": [
    {
     "data": {
      "text/plain": [
       "10034    10.79\n",
       "10035     8.58\n",
       "10036    11.00\n",
       "10037    11.80\n",
       "10038     8.76\n",
       "         ...  \n",
       "20180    10.30\n",
       "20181    11.30\n",
       "20182    16.80\n",
       "20183    13.80\n",
       "20184     8.80\n",
       "Name: total_amount, Length: 10000, dtype: float64"
      ]
     },
     "execution_count": 15,
     "metadata": {},
     "output_type": "execute_result"
    }
   ],
   "source": [
    "y_total_amount = df[y_name]\n",
    "y_total_amount"
   ]
  },
  {
   "cell_type": "code",
   "execution_count": 18,
   "metadata": {
    "scrolled": true
   },
   "outputs": [
    {
     "data": {
      "text/plain": [
       "Text(0, 0.5, 'total_amount')"
      ]
     },
     "execution_count": 18,
     "metadata": {},
     "output_type": "execute_result"
    },
    {
     "data": {
      "image/png": "[encoded data removed]",
      "text/plain": [
       "<Figure size 432x288 with 1 Axes>"
      ]
     },
     "metadata": {
      "needs_background": "light"
     },
     "output_type": "display_data"
    }
   ],
   "source": [
    "plt.scatter(x_trip_distance, y_total_amount)\n",
    "plt.xlabel(x_name)\n",
    "plt.ylabel(y_name)"
   ]
  },
  {
   "cell_type": "code",
   "execution_count": 22,
   "metadata": {
    "scrolled": true
   },
   "outputs": [
    {
     "data": {
      "text/plain": [
       "20104   -0.049139\n",
       "12460    0.064237\n",
       "10052   -1.979233\n",
       "17452   -0.635921\n",
       "17064    0.269757\n",
       "           ...   \n",
       "13502    0.536667\n",
       "11650    0.177076\n",
       "13018    0.064237\n",
       "18304   -0.292451\n",
       "18067   -0.016078\n",
       "Name: total_amount, Length: 2500, dtype: float64"
      ]
     },
     "execution_count": 22,
     "metadata": {},
     "output_type": "execute_result"
    }
   ],
   "source": [
    "X_train, X_test, y_train, y_test = train_test_split(pd.DataFrame(x_trip_distance), y_total_amount)\n",
    "linreg = LinearRegression()\n",
    "linreg.fit(X_train, y_train)\n",
    "y_pred = linreg.predict(X_test)\n",
    "residual = y_test - y_pred\n",
    "residual"
   ]
  },
  {
   "cell_type": "code",
   "execution_count": 32,
   "metadata": {
    "scrolled": true
   },
   "outputs": [
    {
     "data": {
      "image/png": "[encoded data removed]",
      "text/plain": [
       "<Figure size 432x288 with 1 Axes>"
      ]
     },
     "metadata": {
      "needs_background": "light"
     },
     "output_type": "display_data"
    }
   ],
   "source": [
    "plt.scatter(residual, residual.index, color='red')\n",
    "plt.xlabel('index')\n",
    "plt.ylabel('residuals')\n",
    "plt.show()"
   ]
  },
  {
   "cell_type": "code",
   "execution_count": 33,
   "metadata": {},
   "outputs": [
    {
     "data": {
      "image/png": "[encoded data removed]",
      "text/plain": [
       "<Figure size 432x288 with 1 Axes>"
      ]
     },
     "metadata": {
      "needs_background": "light"
     },
     "output_type": "display_data"
    }
   ],
   "source": [
    "# A scatter plot of y_test vs. y_pred\n",
    "plt.scatter(y_test, y_pred, color='green')\n",
    "plt.xlabel('y_test')\n",
    "plt.ylabel('y_predict')\n",
    "plt.show()"
   ]
  }
 ],
 "metadata": {
  "kernelspec": {
   "display_name": "Python 3",
   "language": "python",
   "name": "python3"
  }
 },
 "nbformat": 4,
 "nbformat_minor": 2
}
