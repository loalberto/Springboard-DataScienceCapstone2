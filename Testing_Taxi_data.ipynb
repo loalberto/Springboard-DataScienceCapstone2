{
 "cells": [
  {
   "cell_type": "code",
   "execution_count": 1,
   "metadata": {},
   "outputs": [],
   "source": [
    "import pandas as pd\n",
    "import numpy as np\n",
    "import matplotlib.pyplot as plt\n",
    "import seaborn as sns\n",
    "from sklearn.linear_model import LinearRegression\n",
    "from sklearn.linear_model import LogisticRegression\n",
    "from sklearn.linear_model import Ridge\n",
    "from sklearn.model_selection import train_test_split\n",
    "from sklearn.preprocessing import scale\n",
    "import random"
   ]
  },
  {
   "cell_type": "code",
   "execution_count": 2,
   "metadata": {},
   "outputs": [
    {
     "data": {
      "text/plain": [
       "<pandas.io.parsers.TextFileReader at 0x7ffd06d6d390>"
      ]
     },
     "execution_count": 2,
     "metadata": {},
     "output_type": "execute_result"
    }
   ],
   "source": [
    "df_itr = pd.read_csv('datasets/Clean_Pandemic_Taxi_Data.csv', chunksize=10000, index_col=0)\n",
    "df_itr"
   ]
  },
  {
   "cell_type": "code",
   "execution_count": 3,
   "metadata": {
    "scrolled": true
   },
   "outputs": [
    {
     "data": {
      "text/html": [
       "<div>\n",
       "<style scoped>\n",
       "    .dataframe tbody tr th:only-of-type {\n",
       "        vertical-align: middle;\n",
       "    }\n",
       "\n",
       "    .dataframe tbody tr th {\n",
       "        vertical-align: top;\n",
       "    }\n",
       "\n",
       "    .dataframe thead th {\n",
       "        text-align: right;\n",
       "    }\n",
       "</style>\n",
       "<table border=\"1\" class=\"dataframe\">\n",
       "  <thead>\n",
       "    <tr style=\"text-align: right;\">\n",
       "      <th></th>\n",
       "      <th>VendorID</th>\n",
       "      <th>tpep_pickup_datetime</th>\n",
       "      <th>tpep_dropoff_datetime</th>\n",
       "      <th>passenger_count</th>\n",
       "      <th>trip_distance</th>\n",
       "      <th>RatecodeID</th>\n",
       "      <th>store_and_fwd_flag</th>\n",
       "      <th>PULocationID</th>\n",
       "      <th>DOLocationID</th>\n",
       "      <th>payment_type</th>\n",
       "      <th>...</th>\n",
       "      <th>Bronx_PU</th>\n",
       "      <th>Brooklyn_PU</th>\n",
       "      <th>Manhattan_PU</th>\n",
       "      <th>Queens_PU</th>\n",
       "      <th>Staten_Island_PU</th>\n",
       "      <th>Bronx_DO</th>\n",
       "      <th>Brooklyn_DO</th>\n",
       "      <th>Manhattan_DO</th>\n",
       "      <th>Queens_DO</th>\n",
       "      <th>Staten_Island_DO</th>\n",
       "    </tr>\n",
       "  </thead>\n",
       "  <tbody>\n",
       "    <tr>\n",
       "      <th>0</th>\n",
       "      <td>1.0</td>\n",
       "      <td>2020-01-01 00:28:15</td>\n",
       "      <td>2020-01-01 00:33:03</td>\n",
       "      <td>1.0</td>\n",
       "      <td>1.20</td>\n",
       "      <td>1.0</td>\n",
       "      <td>N</td>\n",
       "      <td>238</td>\n",
       "      <td>239</td>\n",
       "      <td>1.0</td>\n",
       "      <td>...</td>\n",
       "      <td>0</td>\n",
       "      <td>0</td>\n",
       "      <td>1</td>\n",
       "      <td>0</td>\n",
       "      <td>0</td>\n",
       "      <td>0</td>\n",
       "      <td>0</td>\n",
       "      <td>1</td>\n",
       "      <td>0</td>\n",
       "      <td>0</td>\n",
       "    </tr>\n",
       "    <tr>\n",
       "      <th>1</th>\n",
       "      <td>2.0</td>\n",
       "      <td>2020-01-01 00:24:22</td>\n",
       "      <td>2020-01-01 00:25:54</td>\n",
       "      <td>1.0</td>\n",
       "      <td>0.56</td>\n",
       "      <td>1.0</td>\n",
       "      <td>N</td>\n",
       "      <td>238</td>\n",
       "      <td>239</td>\n",
       "      <td>1.0</td>\n",
       "      <td>...</td>\n",
       "      <td>0</td>\n",
       "      <td>0</td>\n",
       "      <td>1</td>\n",
       "      <td>0</td>\n",
       "      <td>0</td>\n",
       "      <td>0</td>\n",
       "      <td>0</td>\n",
       "      <td>1</td>\n",
       "      <td>0</td>\n",
       "      <td>0</td>\n",
       "    </tr>\n",
       "    <tr>\n",
       "      <th>2</th>\n",
       "      <td>2.0</td>\n",
       "      <td>2020-01-01 00:46:46</td>\n",
       "      <td>2020-01-01 00:49:17</td>\n",
       "      <td>1.0</td>\n",
       "      <td>0.62</td>\n",
       "      <td>1.0</td>\n",
       "      <td>N</td>\n",
       "      <td>238</td>\n",
       "      <td>239</td>\n",
       "      <td>1.0</td>\n",
       "      <td>...</td>\n",
       "      <td>0</td>\n",
       "      <td>0</td>\n",
       "      <td>1</td>\n",
       "      <td>0</td>\n",
       "      <td>0</td>\n",
       "      <td>0</td>\n",
       "      <td>0</td>\n",
       "      <td>1</td>\n",
       "      <td>0</td>\n",
       "      <td>0</td>\n",
       "    </tr>\n",
       "    <tr>\n",
       "      <th>3</th>\n",
       "      <td>1.0</td>\n",
       "      <td>2020-01-01 00:17:53</td>\n",
       "      <td>2020-01-01 00:22:47</td>\n",
       "      <td>1.0</td>\n",
       "      <td>0.80</td>\n",
       "      <td>1.0</td>\n",
       "      <td>Y</td>\n",
       "      <td>238</td>\n",
       "      <td>239</td>\n",
       "      <td>1.0</td>\n",
       "      <td>...</td>\n",
       "      <td>0</td>\n",
       "      <td>0</td>\n",
       "      <td>1</td>\n",
       "      <td>0</td>\n",
       "      <td>0</td>\n",
       "      <td>0</td>\n",
       "      <td>0</td>\n",
       "      <td>1</td>\n",
       "      <td>0</td>\n",
       "      <td>0</td>\n",
       "    </tr>\n",
       "    <tr>\n",
       "      <th>4</th>\n",
       "      <td>2.0</td>\n",
       "      <td>2020-01-01 00:49:45</td>\n",
       "      <td>2020-01-01 00:54:12</td>\n",
       "      <td>1.0</td>\n",
       "      <td>0.86</td>\n",
       "      <td>1.0</td>\n",
       "      <td>N</td>\n",
       "      <td>238</td>\n",
       "      <td>239</td>\n",
       "      <td>1.0</td>\n",
       "      <td>...</td>\n",
       "      <td>0</td>\n",
       "      <td>0</td>\n",
       "      <td>1</td>\n",
       "      <td>0</td>\n",
       "      <td>0</td>\n",
       "      <td>0</td>\n",
       "      <td>0</td>\n",
       "      <td>1</td>\n",
       "      <td>0</td>\n",
       "      <td>0</td>\n",
       "    </tr>\n",
       "    <tr>\n",
       "      <th>...</th>\n",
       "      <td>...</td>\n",
       "      <td>...</td>\n",
       "      <td>...</td>\n",
       "      <td>...</td>\n",
       "      <td>...</td>\n",
       "      <td>...</td>\n",
       "      <td>...</td>\n",
       "      <td>...</td>\n",
       "      <td>...</td>\n",
       "      <td>...</td>\n",
       "      <td>...</td>\n",
       "      <td>...</td>\n",
       "      <td>...</td>\n",
       "      <td>...</td>\n",
       "      <td>...</td>\n",
       "      <td>...</td>\n",
       "      <td>...</td>\n",
       "      <td>...</td>\n",
       "      <td>...</td>\n",
       "      <td>...</td>\n",
       "      <td>...</td>\n",
       "    </tr>\n",
       "    <tr>\n",
       "      <th>10029</th>\n",
       "      <td>2.0</td>\n",
       "      <td>2020-01-19 18:43:25</td>\n",
       "      <td>2020-01-19 18:46:55</td>\n",
       "      <td>2.0</td>\n",
       "      <td>0.67</td>\n",
       "      <td>1.0</td>\n",
       "      <td>N</td>\n",
       "      <td>238</td>\n",
       "      <td>239</td>\n",
       "      <td>1.0</td>\n",
       "      <td>...</td>\n",
       "      <td>0</td>\n",
       "      <td>0</td>\n",
       "      <td>1</td>\n",
       "      <td>0</td>\n",
       "      <td>0</td>\n",
       "      <td>0</td>\n",
       "      <td>0</td>\n",
       "      <td>1</td>\n",
       "      <td>0</td>\n",
       "      <td>0</td>\n",
       "    </tr>\n",
       "    <tr>\n",
       "      <th>10030</th>\n",
       "      <td>2.0</td>\n",
       "      <td>2020-01-19 18:43:55</td>\n",
       "      <td>2020-01-19 18:50:05</td>\n",
       "      <td>1.0</td>\n",
       "      <td>1.20</td>\n",
       "      <td>1.0</td>\n",
       "      <td>N</td>\n",
       "      <td>238</td>\n",
       "      <td>239</td>\n",
       "      <td>1.0</td>\n",
       "      <td>...</td>\n",
       "      <td>0</td>\n",
       "      <td>0</td>\n",
       "      <td>1</td>\n",
       "      <td>0</td>\n",
       "      <td>0</td>\n",
       "      <td>0</td>\n",
       "      <td>0</td>\n",
       "      <td>1</td>\n",
       "      <td>0</td>\n",
       "      <td>0</td>\n",
       "    </tr>\n",
       "    <tr>\n",
       "      <th>10031</th>\n",
       "      <td>2.0</td>\n",
       "      <td>2020-01-19 19:28:28</td>\n",
       "      <td>2020-01-19 19:31:28</td>\n",
       "      <td>2.0</td>\n",
       "      <td>0.43</td>\n",
       "      <td>1.0</td>\n",
       "      <td>N</td>\n",
       "      <td>238</td>\n",
       "      <td>239</td>\n",
       "      <td>1.0</td>\n",
       "      <td>...</td>\n",
       "      <td>0</td>\n",
       "      <td>0</td>\n",
       "      <td>1</td>\n",
       "      <td>0</td>\n",
       "      <td>0</td>\n",
       "      <td>0</td>\n",
       "      <td>0</td>\n",
       "      <td>1</td>\n",
       "      <td>0</td>\n",
       "      <td>0</td>\n",
       "    </tr>\n",
       "    <tr>\n",
       "      <th>10032</th>\n",
       "      <td>1.0</td>\n",
       "      <td>2020-01-19 19:20:10</td>\n",
       "      <td>2020-01-19 19:23:58</td>\n",
       "      <td>2.0</td>\n",
       "      <td>1.20</td>\n",
       "      <td>1.0</td>\n",
       "      <td>N</td>\n",
       "      <td>238</td>\n",
       "      <td>239</td>\n",
       "      <td>1.0</td>\n",
       "      <td>...</td>\n",
       "      <td>0</td>\n",
       "      <td>0</td>\n",
       "      <td>1</td>\n",
       "      <td>0</td>\n",
       "      <td>0</td>\n",
       "      <td>0</td>\n",
       "      <td>0</td>\n",
       "      <td>1</td>\n",
       "      <td>0</td>\n",
       "      <td>0</td>\n",
       "    </tr>\n",
       "    <tr>\n",
       "      <th>10033</th>\n",
       "      <td>2.0</td>\n",
       "      <td>2020-01-19 19:08:00</td>\n",
       "      <td>2020-01-19 19:11:52</td>\n",
       "      <td>1.0</td>\n",
       "      <td>1.22</td>\n",
       "      <td>1.0</td>\n",
       "      <td>N</td>\n",
       "      <td>238</td>\n",
       "      <td>239</td>\n",
       "      <td>1.0</td>\n",
       "      <td>...</td>\n",
       "      <td>0</td>\n",
       "      <td>0</td>\n",
       "      <td>1</td>\n",
       "      <td>0</td>\n",
       "      <td>0</td>\n",
       "      <td>0</td>\n",
       "      <td>0</td>\n",
       "      <td>1</td>\n",
       "      <td>0</td>\n",
       "      <td>0</td>\n",
       "    </tr>\n",
       "  </tbody>\n",
       "</table>\n",
       "<p>10000 rows × 34 columns</p>\n",
       "</div>"
      ],
      "text/plain": [
       "       VendorID tpep_pickup_datetime tpep_dropoff_datetime  passenger_count  \\\n",
       "0           1.0  2020-01-01 00:28:15   2020-01-01 00:33:03              1.0   \n",
       "1           2.0  2020-01-01 00:24:22   2020-01-01 00:25:54              1.0   \n",
       "2           2.0  2020-01-01 00:46:46   2020-01-01 00:49:17              1.0   \n",
       "3           1.0  2020-01-01 00:17:53   2020-01-01 00:22:47              1.0   \n",
       "4           2.0  2020-01-01 00:49:45   2020-01-01 00:54:12              1.0   \n",
       "...         ...                  ...                   ...              ...   \n",
       "10029       2.0  2020-01-19 18:43:25   2020-01-19 18:46:55              2.0   \n",
       "10030       2.0  2020-01-19 18:43:55   2020-01-19 18:50:05              1.0   \n",
       "10031       2.0  2020-01-19 19:28:28   2020-01-19 19:31:28              2.0   \n",
       "10032       1.0  2020-01-19 19:20:10   2020-01-19 19:23:58              2.0   \n",
       "10033       2.0  2020-01-19 19:08:00   2020-01-19 19:11:52              1.0   \n",
       "\n",
       "       trip_distance  RatecodeID store_and_fwd_flag  PULocationID  \\\n",
       "0               1.20         1.0                  N           238   \n",
       "1               0.56         1.0                  N           238   \n",
       "2               0.62         1.0                  N           238   \n",
       "3               0.80         1.0                  Y           238   \n",
       "4               0.86         1.0                  N           238   \n",
       "...              ...         ...                ...           ...   \n",
       "10029           0.67         1.0                  N           238   \n",
       "10030           1.20         1.0                  N           238   \n",
       "10031           0.43         1.0                  N           238   \n",
       "10032           1.20         1.0                  N           238   \n",
       "10033           1.22         1.0                  N           238   \n",
       "\n",
       "       DOLocationID  payment_type  ...  Bronx_PU  Brooklyn_PU  Manhattan_PU  \\\n",
       "0               239           1.0  ...         0            0             1   \n",
       "1               239           1.0  ...         0            0             1   \n",
       "2               239           1.0  ...         0            0             1   \n",
       "3               239           1.0  ...         0            0             1   \n",
       "4               239           1.0  ...         0            0             1   \n",
       "...             ...           ...  ...       ...          ...           ...   \n",
       "10029           239           1.0  ...         0            0             1   \n",
       "10030           239           1.0  ...         0            0             1   \n",
       "10031           239           1.0  ...         0            0             1   \n",
       "10032           239           1.0  ...         0            0             1   \n",
       "10033           239           1.0  ...         0            0             1   \n",
       "\n",
       "       Queens_PU  Staten_Island_PU  Bronx_DO  Brooklyn_DO  Manhattan_DO  \\\n",
       "0              0                 0         0            0             1   \n",
       "1              0                 0         0            0             1   \n",
       "2              0                 0         0            0             1   \n",
       "3              0                 0         0            0             1   \n",
       "4              0                 0         0            0             1   \n",
       "...          ...               ...       ...          ...           ...   \n",
       "10029          0                 0         0            0             1   \n",
       "10030          0                 0         0            0             1   \n",
       "10031          0                 0         0            0             1   \n",
       "10032          0                 0         0            0             1   \n",
       "10033          0                 0         0            0             1   \n",
       "\n",
       "      Queens_DO  Staten_Island_DO  \n",
       "0             0                 0  \n",
       "1             0                 0  \n",
       "2             0                 0  \n",
       "3             0                 0  \n",
       "4             0                 0  \n",
       "...         ...               ...  \n",
       "10029         0                 0  \n",
       "10030         0                 0  \n",
       "10031         0                 0  \n",
       "10032         0                 0  \n",
       "10033         0                 0  \n",
       "\n",
       "[10000 rows x 34 columns]"
      ]
     },
     "execution_count": 3,
     "metadata": {},
     "output_type": "execute_result"
    }
   ],
   "source": [
    "for df in df_itr:\n",
    "    break\n",
    "df"
   ]
  },
  {
   "cell_type": "code",
   "execution_count": 4,
   "metadata": {},
   "outputs": [],
   "source": [
    "x_name = 'trip_distance'\n",
    "y_name = 'total_amount'"
   ]
  },
  {
   "cell_type": "code",
   "execution_count": 5,
   "metadata": {
    "scrolled": true
   },
   "outputs": [
    {
     "data": {
      "text/plain": [
       "0        1.20\n",
       "1        0.56\n",
       "2        0.62\n",
       "3        0.80\n",
       "4        0.86\n",
       "         ... \n",
       "10029    0.67\n",
       "10030    1.20\n",
       "10031    0.43\n",
       "10032    1.20\n",
       "10033    1.22\n",
       "Name: trip_distance, Length: 10000, dtype: float64"
      ]
     },
     "execution_count": 5,
     "metadata": {},
     "output_type": "execute_result"
    }
   ],
   "source": [
    "x_trip_distance = df[x_name]\n",
    "x_trip_distance"
   ]
  },
  {
   "cell_type": "code",
   "execution_count": 6,
   "metadata": {
    "scrolled": true
   },
   "outputs": [
    {
     "data": {
      "text/plain": [
       "0        11.27\n",
       "1         9.00\n",
       "2         9.30\n",
       "3        11.15\n",
       "4        11.16\n",
       "         ...  \n",
       "10029     9.75\n",
       "10030    11.76\n",
       "10031     7.30\n",
       "10032    11.80\n",
       "10033     9.80\n",
       "Name: total_amount, Length: 10000, dtype: float64"
      ]
     },
     "execution_count": 6,
     "metadata": {},
     "output_type": "execute_result"
    }
   ],
   "source": [
    "y_total_amount = df[y_name]\n",
    "y_total_amount"
   ]
  },
  {
   "cell_type": "code",
   "execution_count": 7,
   "metadata": {
    "scrolled": true
   },
   "outputs": [
    {
     "data": {
      "text/plain": [
       "Text(0, 0.5, 'total_amount')"
      ]
     },
     "execution_count": 7,
     "metadata": {},
     "output_type": "execute_result"
    },
    {
     "data": {
      "image/png": "[encoded data removed]",
      "text/plain": [
       "<Figure size 432x288 with 1 Axes>"
      ]
     },
     "metadata": {
      "needs_background": "light"
     },
     "output_type": "display_data"
    }
   ],
   "source": [
    "plt.scatter(x_trip_distance, y_total_amount)\n",
    "plt.xlabel(x_name)\n",
    "plt.ylabel(y_name)"
   ]
  },
  {
   "cell_type": "code",
   "execution_count": 8,
   "metadata": {
    "scrolled": true
   },
   "outputs": [
    {
     "data": {
      "text/plain": [
       "3011    -1.694110\n",
       "37      -0.635194\n",
       "1795    -0.714436\n",
       "8336     1.032446\n",
       "5354     0.530334\n",
       "           ...   \n",
       "7637     2.565727\n",
       "7461    -0.043324\n",
       "7041     0.305890\n",
       "10010    0.782041\n",
       "5916     0.010659\n",
       "Name: total_amount, Length: 2500, dtype: float64"
      ]
     },
     "execution_count": 8,
     "metadata": {},
     "output_type": "execute_result"
    }
   ],
   "source": [
    "X_train, X_test, y_train, y_test = train_test_split(pd.DataFrame(x_trip_distance), y_total_amount)\n",
    "linreg = LinearRegression()\n",
    "linreg.fit(X_train, y_train)\n",
    "y_pred = linreg.predict(X_test)\n",
    "residual = y_test - y_pred\n",
    "residual"
   ]
  },
  {
   "cell_type": "code",
   "execution_count": 9,
   "metadata": {
    "scrolled": true
   },
   "outputs": [
    {
     "data": {
      "image/png": "[encoded data removed]",
      "text/plain": [
       "<Figure size 432x288 with 1 Axes>"
      ]
     },
     "metadata": {
      "needs_background": "light"
     },
     "output_type": "display_data"
    }
   ],
   "source": [
    "# A plot of the Linear Regression residuals\n",
    "plt.scatter(X_test, residual, color='red')\n",
    "plt.xlabel(x_name)\n",
    "plt.ylabel('Linear Regression residuals')\n",
    "plt.show()"
   ]
  },
  {
   "cell_type": "code",
   "execution_count": 10,
   "metadata": {},
   "outputs": [
    {
     "data": {
      "text/plain": [
       "-0.08189990805113243"
      ]
     },
     "execution_count": 10,
     "metadata": {},
     "output_type": "execute_result"
    }
   ],
   "source": [
    "np.mean(residual)"
   ]
  },
  {
   "cell_type": "code",
   "execution_count": 11,
   "metadata": {
    "scrolled": true
   },
   "outputs": [
    {
     "data": {
      "image/png": "[encoded data removed]",
      "text/plain": [
       "<Figure size 432x288 with 1 Axes>"
      ]
     },
     "metadata": {
      "needs_background": "light"
     },
     "output_type": "display_data"
    }
   ],
   "source": [
    "# A scatter plot of y_test vs. y_pred\n",
    "plt.scatter(y_test, y_pred, color='green')\n",
    "plt.xlabel('y_test')\n",
    "plt.ylabel('y_predict')\n",
    "plt.show()\n",
    "# The plot shows that it is close to forming a straight diagonal line.\n",
    "# It means the values are close to each other."
   ]
  },
  {
   "cell_type": "code",
   "execution_count": 12,
   "metadata": {
    "scrolled": false
   },
   "outputs": [
    {
     "data": {
      "text/plain": [
       "3011    -1.694256\n",
       "37      -0.634927\n",
       "1795    -0.713561\n",
       "8336     1.035630\n",
       "5354     0.531184\n",
       "           ...   \n",
       "7637     2.566092\n",
       "7461    -0.044441\n",
       "7041     0.305744\n",
       "10010    0.782017\n",
       "5916     0.010489\n",
       "Name: total_amount, Length: 2500, dtype: float64"
      ]
     },
     "execution_count": 12,
     "metadata": {},
     "output_type": "execute_result"
    }
   ],
   "source": [
    "ridge = Ridge(alpha=0.5)\n",
    "ridge.fit(X_train, y_train)\n",
    "ridge_y_pred = ridge.predict(X_test)\n",
    "ridge_residual = y_test - ridge_y_pred\n",
    "ridge_residual"
   ]
  },
  {
   "cell_type": "code",
   "execution_count": 13,
   "metadata": {
    "scrolled": false
   },
   "outputs": [
    {
     "data": {
      "image/png": "[encoded data removed]",
      "text/plain": [
       "<Figure size 432x288 with 1 Axes>"
      ]
     },
     "metadata": {
      "needs_background": "light"
     },
     "output_type": "display_data"
    }
   ],
   "source": [
    "# A plot of the Ridge Regression residuals\n",
    "plt.scatter(x=X_test, y=ridge_residual, color='red')\n",
    "plt.xlabel(x_name)\n",
    "plt.ylabel('Ridge Regression residuals')\n",
    "plt.show()"
   ]
  },
  {
   "cell_type": "code",
   "execution_count": 14,
   "metadata": {},
   "outputs": [
    {
     "data": {
      "text/plain": [
       "-0.08189701444235936"
      ]
     },
     "execution_count": 14,
     "metadata": {},
     "output_type": "execute_result"
    }
   ],
   "source": [
    "np.mean(ridge_residual)"
   ]
  },
  {
   "cell_type": "markdown",
   "metadata": {},
   "source": [
    "The residual data I have shows that the features with strong correlation to total_amount act as good measures to predicting total_amount. The residuals seem to be close to 0 in each case. "
   ]
  }
 ],
 "metadata": {
  "kernelspec": {
   "display_name": "Python 3",
   "language": "python",
   "name": "python3"
  },
  "language_info": {
   "codemirror_mode": {
    "name": "ipython",
    "version": 3
   },
   "file_extension": ".py",
   "mimetype": "text/x-python",
   "name": "python",
   "nbconvert_exporter": "python",
   "pygments_lexer": "ipython3",
   "version": "3.7.4"
  }
 },
 "nbformat": 4,
 "nbformat_minor": 2
}
