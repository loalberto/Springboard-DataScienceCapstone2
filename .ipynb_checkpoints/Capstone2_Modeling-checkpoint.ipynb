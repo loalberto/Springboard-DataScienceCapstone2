{
 "cells": [
  {
   "cell_type": "code",
   "execution_count": 1,
   "metadata": {},
   "outputs": [],
   "source": [
    "import pandas as pd"
   ]
  },
  {
   "cell_type": "code",
   "execution_count": 11,
   "metadata": {},
   "outputs": [],
   "source": [
    "training_data = pd.read_csv('./datasets/Train_Data.csv', index_col=0)\n",
    "testing_data = pd.read_csv('./datasets/Test_Data.csv', index_col=0)"
   ]
  },
  {
   "cell_type": "code",
   "execution_count": 12,
   "metadata": {},
   "outputs": [
    {
     "name": "stdout",
     "output_type": "stream",
     "text": [
      "(3056, 15)\n"
     ]
    },
    {
     "data": {
      "text/plain": [
       "(1311, 15)"
      ]
     },
     "execution_count": 12,
     "metadata": {},
     "output_type": "execute_result"
    }
   ],
   "source": [
    "print(training_data.shape)\n",
    "testing_data.shape"
   ]
  },
  {
   "cell_type": "code",
   "execution_count": 13,
   "metadata": {},
   "outputs": [
    {
     "data": {
      "text/html": [
       "<div>\n",
       "<style scoped>\n",
       "    .dataframe tbody tr th:only-of-type {\n",
       "        vertical-align: middle;\n",
       "    }\n",
       "\n",
       "    .dataframe tbody tr th {\n",
       "        vertical-align: top;\n",
       "    }\n",
       "\n",
       "    .dataframe thead th {\n",
       "        text-align: right;\n",
       "    }\n",
       "</style>\n",
       "<table border=\"1\" class=\"dataframe\">\n",
       "  <thead>\n",
       "    <tr style=\"text-align: right;\">\n",
       "      <th></th>\n",
       "      <th>total_amount</th>\n",
       "      <th>trip_distance</th>\n",
       "      <th>fare_amount</th>\n",
       "      <th>tolls_amount</th>\n",
       "      <th>tip_amount</th>\n",
       "      <th>Brooklyn_PU</th>\n",
       "      <th>Manhattan_PU</th>\n",
       "      <th>Queens_PU</th>\n",
       "      <th>Staten_Island_PU</th>\n",
       "      <th>Bronx_DO</th>\n",
       "      <th>Brooklyn_DO</th>\n",
       "      <th>Manhattan_DO</th>\n",
       "      <th>Queens_DO</th>\n",
       "      <th>Staten_Island_DO</th>\n",
       "      <th>Mins_In_Ride</th>\n",
       "    </tr>\n",
       "  </thead>\n",
       "  <tbody>\n",
       "    <tr>\n",
       "      <th>2020-01-01 01:00:00</th>\n",
       "      <td>2.076745</td>\n",
       "      <td>1.786938</td>\n",
       "      <td>-0.271462</td>\n",
       "      <td>-1.722694</td>\n",
       "      <td>1.822534</td>\n",
       "      <td>-1.978567</td>\n",
       "      <td>0.650450</td>\n",
       "      <td>-0.071594</td>\n",
       "      <td>2.882077</td>\n",
       "      <td>1.370892</td>\n",
       "      <td>-2.045501</td>\n",
       "      <td>1.029410</td>\n",
       "      <td>-0.069367</td>\n",
       "      <td>1.077101</td>\n",
       "      <td>0.283874</td>\n",
       "    </tr>\n",
       "    <tr>\n",
       "      <th>2020-01-01 02:00:00</th>\n",
       "      <td>0.147769</td>\n",
       "      <td>0.063804</td>\n",
       "      <td>-0.271462</td>\n",
       "      <td>0.968686</td>\n",
       "      <td>-0.223889</td>\n",
       "      <td>0.345188</td>\n",
       "      <td>-0.164488</td>\n",
       "      <td>-0.071594</td>\n",
       "      <td>-0.294097</td>\n",
       "      <td>-0.206284</td>\n",
       "      <td>0.213988</td>\n",
       "      <td>-0.047374</td>\n",
       "      <td>-0.069367</td>\n",
       "      <td>-0.067800</td>\n",
       "      <td>0.273015</td>\n",
       "    </tr>\n",
       "    <tr>\n",
       "      <th>2020-01-01 03:00:00</th>\n",
       "      <td>0.276777</td>\n",
       "      <td>0.197302</td>\n",
       "      <td>-0.271462</td>\n",
       "      <td>-0.766709</td>\n",
       "      <td>-0.486676</td>\n",
       "      <td>0.449591</td>\n",
       "      <td>-0.364679</td>\n",
       "      <td>-0.071594</td>\n",
       "      <td>1.271228</td>\n",
       "      <td>-0.356898</td>\n",
       "      <td>-0.270410</td>\n",
       "      <td>-0.182317</td>\n",
       "      <td>-0.069367</td>\n",
       "      <td>-0.113730</td>\n",
       "      <td>-0.508309</td>\n",
       "    </tr>\n",
       "    <tr>\n",
       "      <th>2020-01-01 04:00:00</th>\n",
       "      <td>-0.142964</td>\n",
       "      <td>0.090070</td>\n",
       "      <td>-0.128302</td>\n",
       "      <td>1.820984</td>\n",
       "      <td>-0.274385</td>\n",
       "      <td>0.487704</td>\n",
       "      <td>-0.445853</td>\n",
       "      <td>-0.071594</td>\n",
       "      <td>-0.737532</td>\n",
       "      <td>0.417925</td>\n",
       "      <td>0.279451</td>\n",
       "      <td>-0.427511</td>\n",
       "      <td>-0.069367</td>\n",
       "      <td>0.880148</td>\n",
       "      <td>0.590606</td>\n",
       "    </tr>\n",
       "    <tr>\n",
       "      <th>2020-01-01 05:00:00</th>\n",
       "      <td>-0.757931</td>\n",
       "      <td>-0.330759</td>\n",
       "      <td>-0.240520</td>\n",
       "      <td>1.566011</td>\n",
       "      <td>-0.580585</td>\n",
       "      <td>0.761446</td>\n",
       "      <td>-0.781517</td>\n",
       "      <td>-0.071594</td>\n",
       "      <td>-0.771470</td>\n",
       "      <td>-0.593837</td>\n",
       "      <td>0.844188</td>\n",
       "      <td>-0.805603</td>\n",
       "      <td>-0.069367</td>\n",
       "      <td>0.904820</td>\n",
       "      <td>0.504482</td>\n",
       "    </tr>\n",
       "  </tbody>\n",
       "</table>\n",
       "</div>"
      ],
      "text/plain": [
       "                     total_amount  trip_distance  fare_amount  tolls_amount  \\\n",
       "2020-01-01 01:00:00      2.076745       1.786938    -0.271462     -1.722694   \n",
       "2020-01-01 02:00:00      0.147769       0.063804    -0.271462      0.968686   \n",
       "2020-01-01 03:00:00      0.276777       0.197302    -0.271462     -0.766709   \n",
       "2020-01-01 04:00:00     -0.142964       0.090070    -0.128302      1.820984   \n",
       "2020-01-01 05:00:00     -0.757931      -0.330759    -0.240520      1.566011   \n",
       "\n",
       "                     tip_amount  Brooklyn_PU  Manhattan_PU  Queens_PU  \\\n",
       "2020-01-01 01:00:00    1.822534    -1.978567      0.650450  -0.071594   \n",
       "2020-01-01 02:00:00   -0.223889     0.345188     -0.164488  -0.071594   \n",
       "2020-01-01 03:00:00   -0.486676     0.449591     -0.364679  -0.071594   \n",
       "2020-01-01 04:00:00   -0.274385     0.487704     -0.445853  -0.071594   \n",
       "2020-01-01 05:00:00   -0.580585     0.761446     -0.781517  -0.071594   \n",
       "\n",
       "                     Staten_Island_PU  Bronx_DO  Brooklyn_DO  Manhattan_DO  \\\n",
       "2020-01-01 01:00:00          2.882077  1.370892    -2.045501      1.029410   \n",
       "2020-01-01 02:00:00         -0.294097 -0.206284     0.213988     -0.047374   \n",
       "2020-01-01 03:00:00          1.271228 -0.356898    -0.270410     -0.182317   \n",
       "2020-01-01 04:00:00         -0.737532  0.417925     0.279451     -0.427511   \n",
       "2020-01-01 05:00:00         -0.771470 -0.593837     0.844188     -0.805603   \n",
       "\n",
       "                     Queens_DO  Staten_Island_DO  Mins_In_Ride  \n",
       "2020-01-01 01:00:00  -0.069367          1.077101      0.283874  \n",
       "2020-01-01 02:00:00  -0.069367         -0.067800      0.273015  \n",
       "2020-01-01 03:00:00  -0.069367         -0.113730     -0.508309  \n",
       "2020-01-01 04:00:00  -0.069367          0.880148      0.590606  \n",
       "2020-01-01 05:00:00  -0.069367          0.904820      0.504482  "
      ]
     },
     "execution_count": 13,
     "metadata": {},
     "output_type": "execute_result"
    }
   ],
   "source": [
    "training_data.head()"
   ]
  },
  {
   "cell_type": "code",
   "execution_count": null,
   "metadata": {},
   "outputs": [],
   "source": []
  }
 ],
 "metadata": {
  "kernelspec": {
   "display_name": "Python 3",
   "language": "python",
   "name": "python3"
  },
  "language_info": {
   "codemirror_mode": {
    "name": "ipython",
    "version": 3
   },
   "file_extension": ".py",
   "mimetype": "text/x-python",
   "name": "python",
   "nbconvert_exporter": "python",
   "pygments_lexer": "ipython3",
   "version": "3.7.4"
  }
 },
 "nbformat": 4,
 "nbformat_minor": 2
}
