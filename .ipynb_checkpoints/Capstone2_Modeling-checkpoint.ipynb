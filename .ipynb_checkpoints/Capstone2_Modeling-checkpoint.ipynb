{
 "cells": [
  {
   "cell_type": "code",
   "execution_count": 1,
   "metadata": {},
   "outputs": [],
   "source": [
    "import pandas as pd\n",
    "import numpy as np\n",
    "import matplotlib.pyplot as plt\n",
    "# Types of models that will be used to test the methods\n",
    "from sklearn.linear_model import LinearRegression\n",
    "from sklearn.linear_model import Ridge\n",
    "from sklearn.linear_model import Lasso\n",
    "from sklearn.neighbors import KNeighborsRegressor\n",
    "from sklearn.tree import DecisionTreeRegressor\n",
    "from sklearn.ensemble import RandomForestRegressor\n",
    "from sklearn.ensemble import GradientBoostingRegressor\n",
    "from sklearn.ensemble import AdaBoostRegressor\n",
    "# Scoring metrics\n",
    "from sklearn.metrics import mean_squared_error\n",
    "from sklearn.metrics import r2_score\n",
    "from sklearn.model_selection import GridSearchCV"
   ]
  },
  {
   "cell_type": "code",
   "execution_count": 2,
   "metadata": {
    "scrolled": false
   },
   "outputs": [
    {
     "name": "stderr",
     "output_type": "stream",
     "text": [
      "/opt/anaconda3/lib/python3.7/site-packages/numpy/lib/arraysetops.py:568: FutureWarning: elementwise comparison failed; returning scalar instead, but in the future will perform elementwise comparison\n",
      "  mask |= (ar1 == a)\n"
     ]
    },
    {
     "data": {
      "text/html": [
       "<div>\n",
       "<style scoped>\n",
       "    .dataframe tbody tr th:only-of-type {\n",
       "        vertical-align: middle;\n",
       "    }\n",
       "\n",
       "    .dataframe tbody tr th {\n",
       "        vertical-align: top;\n",
       "    }\n",
       "\n",
       "    .dataframe thead th {\n",
       "        text-align: right;\n",
       "    }\n",
       "</style>\n",
       "<table border=\"1\" class=\"dataframe\">\n",
       "  <thead>\n",
       "    <tr style=\"text-align: right;\">\n",
       "      <th></th>\n",
       "      <th>passenger_count</th>\n",
       "      <th>trip_distance</th>\n",
       "      <th>fare_amount</th>\n",
       "      <th>extra</th>\n",
       "      <th>mta_tax</th>\n",
       "      <th>tip_amount</th>\n",
       "      <th>tolls_amount</th>\n",
       "      <th>improvement_surcharge</th>\n",
       "      <th>congestion_surcharge</th>\n",
       "      <th>VendorID_1</th>\n",
       "      <th>...</th>\n",
       "      <th>store_and_fwd_flag_NK</th>\n",
       "      <th>store_and_fwd_flag_Y</th>\n",
       "      <th>Monday</th>\n",
       "      <th>Tuesday</th>\n",
       "      <th>Wednesday</th>\n",
       "      <th>Thursday</th>\n",
       "      <th>Friday</th>\n",
       "      <th>Saturday</th>\n",
       "      <th>Sunday</th>\n",
       "      <th>total_amount</th>\n",
       "    </tr>\n",
       "  </thead>\n",
       "  <tbody>\n",
       "    <tr>\n",
       "      <th>6665106</th>\n",
       "      <td>6.0</td>\n",
       "      <td>2.04</td>\n",
       "      <td>10.5</td>\n",
       "      <td>0.0</td>\n",
       "      <td>0.5</td>\n",
       "      <td>1.00</td>\n",
       "      <td>0.0</td>\n",
       "      <td>0.3</td>\n",
       "      <td>2.5</td>\n",
       "      <td>0</td>\n",
       "      <td>...</td>\n",
       "      <td>0</td>\n",
       "      <td>0</td>\n",
       "      <td>1</td>\n",
       "      <td>0</td>\n",
       "      <td>0</td>\n",
       "      <td>0</td>\n",
       "      <td>0</td>\n",
       "      <td>0</td>\n",
       "      <td>0</td>\n",
       "      <td>14.80</td>\n",
       "    </tr>\n",
       "    <tr>\n",
       "      <th>3115270</th>\n",
       "      <td>3.0</td>\n",
       "      <td>1.19</td>\n",
       "      <td>7.5</td>\n",
       "      <td>1.0</td>\n",
       "      <td>0.5</td>\n",
       "      <td>1.50</td>\n",
       "      <td>0.0</td>\n",
       "      <td>0.3</td>\n",
       "      <td>2.5</td>\n",
       "      <td>0</td>\n",
       "      <td>...</td>\n",
       "      <td>0</td>\n",
       "      <td>0</td>\n",
       "      <td>0</td>\n",
       "      <td>1</td>\n",
       "      <td>0</td>\n",
       "      <td>0</td>\n",
       "      <td>0</td>\n",
       "      <td>0</td>\n",
       "      <td>0</td>\n",
       "      <td>13.30</td>\n",
       "    </tr>\n",
       "    <tr>\n",
       "      <th>16480546</th>\n",
       "      <td>2.0</td>\n",
       "      <td>7.99</td>\n",
       "      <td>27.0</td>\n",
       "      <td>0.5</td>\n",
       "      <td>0.5</td>\n",
       "      <td>0.00</td>\n",
       "      <td>0.0</td>\n",
       "      <td>0.3</td>\n",
       "      <td>2.5</td>\n",
       "      <td>0</td>\n",
       "      <td>...</td>\n",
       "      <td>0</td>\n",
       "      <td>0</td>\n",
       "      <td>0</td>\n",
       "      <td>0</td>\n",
       "      <td>0</td>\n",
       "      <td>1</td>\n",
       "      <td>0</td>\n",
       "      <td>0</td>\n",
       "      <td>0</td>\n",
       "      <td>30.80</td>\n",
       "    </tr>\n",
       "    <tr>\n",
       "      <th>13418577</th>\n",
       "      <td>1.0</td>\n",
       "      <td>1.84</td>\n",
       "      <td>11.0</td>\n",
       "      <td>1.0</td>\n",
       "      <td>0.5</td>\n",
       "      <td>3.06</td>\n",
       "      <td>0.0</td>\n",
       "      <td>0.3</td>\n",
       "      <td>2.5</td>\n",
       "      <td>0</td>\n",
       "      <td>...</td>\n",
       "      <td>0</td>\n",
       "      <td>0</td>\n",
       "      <td>0</td>\n",
       "      <td>0</td>\n",
       "      <td>1</td>\n",
       "      <td>0</td>\n",
       "      <td>0</td>\n",
       "      <td>0</td>\n",
       "      <td>0</td>\n",
       "      <td>18.36</td>\n",
       "    </tr>\n",
       "    <tr>\n",
       "      <th>4318540</th>\n",
       "      <td>2.0</td>\n",
       "      <td>1.50</td>\n",
       "      <td>8.0</td>\n",
       "      <td>3.5</td>\n",
       "      <td>0.5</td>\n",
       "      <td>2.46</td>\n",
       "      <td>0.0</td>\n",
       "      <td>0.3</td>\n",
       "      <td>2.5</td>\n",
       "      <td>1</td>\n",
       "      <td>...</td>\n",
       "      <td>0</td>\n",
       "      <td>0</td>\n",
       "      <td>0</td>\n",
       "      <td>0</td>\n",
       "      <td>0</td>\n",
       "      <td>0</td>\n",
       "      <td>1</td>\n",
       "      <td>0</td>\n",
       "      <td>0</td>\n",
       "      <td>14.76</td>\n",
       "    </tr>\n",
       "  </tbody>\n",
       "</table>\n",
       "<p>5 rows × 71 columns</p>\n",
       "</div>"
      ],
      "text/plain": [
       "          passenger_count  trip_distance  fare_amount  extra  mta_tax  \\\n",
       "6665106               6.0           2.04         10.5    0.0      0.5   \n",
       "3115270               3.0           1.19          7.5    1.0      0.5   \n",
       "16480546              2.0           7.99         27.0    0.5      0.5   \n",
       "13418577              1.0           1.84         11.0    1.0      0.5   \n",
       "4318540               2.0           1.50          8.0    3.5      0.5   \n",
       "\n",
       "          tip_amount  tolls_amount  improvement_surcharge  \\\n",
       "6665106         1.00           0.0                    0.3   \n",
       "3115270         1.50           0.0                    0.3   \n",
       "16480546        0.00           0.0                    0.3   \n",
       "13418577        3.06           0.0                    0.3   \n",
       "4318540         2.46           0.0                    0.3   \n",
       "\n",
       "          congestion_surcharge  VendorID_1  ...  store_and_fwd_flag_NK  \\\n",
       "6665106                    2.5           0  ...                      0   \n",
       "3115270                    2.5           0  ...                      0   \n",
       "16480546                   2.5           0  ...                      0   \n",
       "13418577                   2.5           0  ...                      0   \n",
       "4318540                    2.5           1  ...                      0   \n",
       "\n",
       "          store_and_fwd_flag_Y  Monday  Tuesday  Wednesday  Thursday  Friday  \\\n",
       "6665106                      0       1        0          0         0       0   \n",
       "3115270                      0       0        1          0         0       0   \n",
       "16480546                     0       0        0          0         1       0   \n",
       "13418577                     0       0        0          1         0       0   \n",
       "4318540                      0       0        0          0         0       1   \n",
       "\n",
       "          Saturday  Sunday  total_amount  \n",
       "6665106          0       0         14.80  \n",
       "3115270          0       0         13.30  \n",
       "16480546         0       0         30.80  \n",
       "13418577         0       0         18.36  \n",
       "4318540          0       0         14.76  \n",
       "\n",
       "[5 rows x 71 columns]"
      ]
     },
     "execution_count": 2,
     "metadata": {},
     "output_type": "execute_result"
    }
   ],
   "source": [
    "training_data = pd.read_csv('./datasets/Train_Data.csv', index_col=0)\n",
    "testing_data = pd.read_csv('./datasets/Test_Data.csv', index_col=0)\n",
    "training_data.head()"
   ]
  },
  {
   "cell_type": "code",
   "execution_count": 3,
   "metadata": {},
   "outputs": [
    {
     "data": {
      "text/html": [
       "<div>\n",
       "<style scoped>\n",
       "    .dataframe tbody tr th:only-of-type {\n",
       "        vertical-align: middle;\n",
       "    }\n",
       "\n",
       "    .dataframe tbody tr th {\n",
       "        vertical-align: top;\n",
       "    }\n",
       "\n",
       "    .dataframe thead th {\n",
       "        text-align: right;\n",
       "    }\n",
       "</style>\n",
       "<table border=\"1\" class=\"dataframe\">\n",
       "  <thead>\n",
       "    <tr style=\"text-align: right;\">\n",
       "      <th></th>\n",
       "      <th>passenger_count</th>\n",
       "      <th>trip_distance</th>\n",
       "      <th>fare_amount</th>\n",
       "      <th>extra</th>\n",
       "      <th>mta_tax</th>\n",
       "      <th>tip_amount</th>\n",
       "      <th>tolls_amount</th>\n",
       "      <th>improvement_surcharge</th>\n",
       "      <th>total_amount</th>\n",
       "      <th>congestion_surcharge</th>\n",
       "      <th>...</th>\n",
       "      <th>store_and_fwd_flag_N</th>\n",
       "      <th>store_and_fwd_flag_NK</th>\n",
       "      <th>store_and_fwd_flag_Y</th>\n",
       "      <th>Monday</th>\n",
       "      <th>Tuesday</th>\n",
       "      <th>Wednesday</th>\n",
       "      <th>Thursday</th>\n",
       "      <th>Friday</th>\n",
       "      <th>Saturday</th>\n",
       "      <th>Sunday</th>\n",
       "    </tr>\n",
       "  </thead>\n",
       "  <tbody>\n",
       "    <tr>\n",
       "      <th>6665106</th>\n",
       "      <td>3.965663</td>\n",
       "      <td>-0.006628</td>\n",
       "      <td>-0.008853</td>\n",
       "      <td>-0.877712</td>\n",
       "      <td>0.098219</td>\n",
       "      <td>-0.435445</td>\n",
       "      <td>-0.193567</td>\n",
       "      <td>0.060195</td>\n",
       "      <td>0.314756</td>\n",
       "      <td>-0.701261</td>\n",
       "      <td>...</td>\n",
       "      <td>-0.130153</td>\n",
       "      <td>-0.098888</td>\n",
       "      <td>2.634261</td>\n",
       "      <td>-0.403813</td>\n",
       "      <td>-0.427468</td>\n",
       "      <td>-0.439033</td>\n",
       "      <td>-0.440066</td>\n",
       "      <td>-0.40169</td>\n",
       "      <td>-0.363246</td>\n",
       "      <td>-0.015509</td>\n",
       "    </tr>\n",
       "    <tr>\n",
       "      <th>3115270</th>\n",
       "      <td>1.341061</td>\n",
       "      <td>-0.012098</td>\n",
       "      <td>-0.021701</td>\n",
       "      <td>-0.081851</td>\n",
       "      <td>0.098219</td>\n",
       "      <td>-0.243078</td>\n",
       "      <td>-0.193567</td>\n",
       "      <td>0.060195</td>\n",
       "      <td>0.314756</td>\n",
       "      <td>-0.701261</td>\n",
       "      <td>...</td>\n",
       "      <td>-0.130153</td>\n",
       "      <td>-0.098888</td>\n",
       "      <td>-0.379613</td>\n",
       "      <td>2.476392</td>\n",
       "      <td>-0.427468</td>\n",
       "      <td>-0.439033</td>\n",
       "      <td>-0.440066</td>\n",
       "      <td>-0.40169</td>\n",
       "      <td>-0.363246</td>\n",
       "      <td>-0.021930</td>\n",
       "    </tr>\n",
       "    <tr>\n",
       "      <th>16480546</th>\n",
       "      <td>0.466193</td>\n",
       "      <td>0.031663</td>\n",
       "      <td>0.061814</td>\n",
       "      <td>-0.479782</td>\n",
       "      <td>0.098219</td>\n",
       "      <td>-0.820178</td>\n",
       "      <td>-0.193567</td>\n",
       "      <td>0.060195</td>\n",
       "      <td>0.314756</td>\n",
       "      <td>-0.701261</td>\n",
       "      <td>...</td>\n",
       "      <td>-0.130153</td>\n",
       "      <td>-0.098888</td>\n",
       "      <td>-0.379613</td>\n",
       "      <td>-0.403813</td>\n",
       "      <td>-0.427468</td>\n",
       "      <td>2.277734</td>\n",
       "      <td>-0.440066</td>\n",
       "      <td>-0.40169</td>\n",
       "      <td>-0.363246</td>\n",
       "      <td>0.052976</td>\n",
       "    </tr>\n",
       "    <tr>\n",
       "      <th>13418577</th>\n",
       "      <td>-0.408674</td>\n",
       "      <td>-0.007915</td>\n",
       "      <td>-0.006711</td>\n",
       "      <td>-0.081851</td>\n",
       "      <td>0.098219</td>\n",
       "      <td>0.357106</td>\n",
       "      <td>-0.193567</td>\n",
       "      <td>0.060195</td>\n",
       "      <td>0.314756</td>\n",
       "      <td>-0.701261</td>\n",
       "      <td>...</td>\n",
       "      <td>-0.130153</td>\n",
       "      <td>-0.098888</td>\n",
       "      <td>-0.379613</td>\n",
       "      <td>-0.403813</td>\n",
       "      <td>2.339355</td>\n",
       "      <td>-0.439033</td>\n",
       "      <td>-0.440066</td>\n",
       "      <td>-0.40169</td>\n",
       "      <td>-0.363246</td>\n",
       "      <td>-0.000271</td>\n",
       "    </tr>\n",
       "    <tr>\n",
       "      <th>4318540</th>\n",
       "      <td>0.466193</td>\n",
       "      <td>-0.010103</td>\n",
       "      <td>-0.019560</td>\n",
       "      <td>1.907801</td>\n",
       "      <td>0.098219</td>\n",
       "      <td>0.126266</td>\n",
       "      <td>-0.193567</td>\n",
       "      <td>0.060195</td>\n",
       "      <td>0.314756</td>\n",
       "      <td>1.426003</td>\n",
       "      <td>...</td>\n",
       "      <td>-0.130153</td>\n",
       "      <td>-0.098888</td>\n",
       "      <td>-0.379613</td>\n",
       "      <td>-0.403813</td>\n",
       "      <td>-0.427468</td>\n",
       "      <td>-0.439033</td>\n",
       "      <td>2.272386</td>\n",
       "      <td>-0.40169</td>\n",
       "      <td>-0.363246</td>\n",
       "      <td>-0.015681</td>\n",
       "    </tr>\n",
       "  </tbody>\n",
       "</table>\n",
       "<p>5 rows × 71 columns</p>\n",
       "</div>"
      ],
      "text/plain": [
       "          passenger_count  trip_distance  fare_amount     extra   mta_tax  \\\n",
       "6665106          3.965663      -0.006628    -0.008853 -0.877712  0.098219   \n",
       "3115270          1.341061      -0.012098    -0.021701 -0.081851  0.098219   \n",
       "16480546         0.466193       0.031663     0.061814 -0.479782  0.098219   \n",
       "13418577        -0.408674      -0.007915    -0.006711 -0.081851  0.098219   \n",
       "4318540          0.466193      -0.010103    -0.019560  1.907801  0.098219   \n",
       "\n",
       "          tip_amount  tolls_amount  improvement_surcharge  total_amount  \\\n",
       "6665106    -0.435445     -0.193567               0.060195      0.314756   \n",
       "3115270    -0.243078     -0.193567               0.060195      0.314756   \n",
       "16480546   -0.820178     -0.193567               0.060195      0.314756   \n",
       "13418577    0.357106     -0.193567               0.060195      0.314756   \n",
       "4318540     0.126266     -0.193567               0.060195      0.314756   \n",
       "\n",
       "          congestion_surcharge  ...  store_and_fwd_flag_N  \\\n",
       "6665106              -0.701261  ...             -0.130153   \n",
       "3115270              -0.701261  ...             -0.130153   \n",
       "16480546             -0.701261  ...             -0.130153   \n",
       "13418577             -0.701261  ...             -0.130153   \n",
       "4318540               1.426003  ...             -0.130153   \n",
       "\n",
       "          store_and_fwd_flag_NK  store_and_fwd_flag_Y    Monday   Tuesday  \\\n",
       "6665106               -0.098888              2.634261 -0.403813 -0.427468   \n",
       "3115270               -0.098888             -0.379613  2.476392 -0.427468   \n",
       "16480546              -0.098888             -0.379613 -0.403813 -0.427468   \n",
       "13418577              -0.098888             -0.379613 -0.403813  2.339355   \n",
       "4318540               -0.098888             -0.379613 -0.403813 -0.427468   \n",
       "\n",
       "          Wednesday  Thursday   Friday  Saturday    Sunday  \n",
       "6665106   -0.439033 -0.440066 -0.40169 -0.363246 -0.015509  \n",
       "3115270   -0.439033 -0.440066 -0.40169 -0.363246 -0.021930  \n",
       "16480546   2.277734 -0.440066 -0.40169 -0.363246  0.052976  \n",
       "13418577  -0.439033 -0.440066 -0.40169 -0.363246 -0.000271  \n",
       "4318540   -0.439033  2.272386 -0.40169 -0.363246 -0.015681  \n",
       "\n",
       "[5 rows x 71 columns]"
      ]
     },
     "execution_count": 3,
     "metadata": {},
     "output_type": "execute_result"
    }
   ],
   "source": [
    "scaled_training_data = pd.read_csv('./datasets/Scaled_Train_Data.csv', index_col=0)\n",
    "scaled_testing_data = pd.read_csv('./datasets/Scaled_Test_Data.csv', index_col=0)\n",
    "scaled_training_data.head()"
   ]
  },
  {
   "cell_type": "code",
   "execution_count": 4,
   "metadata": {
    "scrolled": true
   },
   "outputs": [],
   "source": [
    "training_data = training_data.dropna()\n",
    "testing_data = testing_data.dropna()\n",
    "scaled_training_data = scaled_training_data.dropna()\n",
    "scaled_testing_data = scaled_testing_data.dropna()"
   ]
  },
  {
   "cell_type": "code",
   "execution_count": 5,
   "metadata": {},
   "outputs": [
    {
     "name": "stdout",
     "output_type": "stream",
     "text": [
      "(11671252, 71)\n"
     ]
    },
    {
     "data": {
      "text/plain": [
       "(5001966, 71)"
      ]
     },
     "execution_count": 5,
     "metadata": {},
     "output_type": "execute_result"
    }
   ],
   "source": [
    "print(training_data.shape)\n",
    "testing_data.shape"
   ]
  },
  {
   "cell_type": "code",
   "execution_count": 6,
   "metadata": {
    "scrolled": true
   },
   "outputs": [
    {
     "name": "stdout",
     "output_type": "stream",
     "text": [
      "(11671252, 71)\n"
     ]
    },
    {
     "data": {
      "text/plain": [
       "(5001966, 71)"
      ]
     },
     "execution_count": 6,
     "metadata": {},
     "output_type": "execute_result"
    }
   ],
   "source": [
    "print(scaled_training_data.shape)\n",
    "scaled_testing_data.shape"
   ]
  },
  {
   "cell_type": "code",
   "execution_count": 7,
   "metadata": {},
   "outputs": [],
   "source": [
    "# splitting the data into training and testing variables\n",
    "X_train = training_data.drop(['total_amount'], axis=1)\n",
    "X_test = testing_data.drop(['total_amount'], axis=1)\n",
    "y_train = training_data[['total_amount']]\n",
    "y_test = testing_data[['total_amount']]"
   ]
  },
  {
   "cell_type": "code",
   "execution_count": 8,
   "metadata": {},
   "outputs": [],
   "source": [
    "# splitting the scaled data into training and testing variables\n",
    "scaled_X_train = scaled_training_data.drop(['total_amount'], axis=1)\n",
    "scaled_X_test = scaled_testing_data.drop(['total_amount'], axis=1)\n",
    "scaled_y_train = scaled_training_data['total_amount']\n",
    "scaled_y_test = scaled_testing_data['total_amount']"
   ]
  },
  {
   "cell_type": "code",
   "execution_count": 9,
   "metadata": {},
   "outputs": [],
   "source": [
    "def get_metrics(model, X_train_param, X_test_param, y_train_param, y_test_param):\n",
    "    model.fit(X_train_param, y_train_param)\n",
    "    model_train_pred = model.predict(X_train_param)\n",
    "    model_test_pred = model.predict(X_test_param)\n",
    "    \n",
    "    model_train_RMSE = mean_squared_error(y_train_param, model_train_pred, squared=False)\n",
    "    model_train_R2 = r2_score(y_train_param, model_train_pred)\n",
    "    model_test_RMSE = mean_squared_error(y_test_param, model_test_pred, squared=False)\n",
    "    model_test_R2 = r2_score(y_test_param, model_test_pred)\n",
    "    return model, model_train_RMSE, model_test_RMSE, model_train_R2, model_test_R2"
   ]
  },
  {
   "cell_type": "code",
   "execution_count": 10,
   "metadata": {},
   "outputs": [
    {
     "data": {
      "text/plain": [
       "0.8879021543847992"
      ]
     },
     "execution_count": 10,
     "metadata": {},
     "output_type": "execute_result"
    }
   ],
   "source": [
    "linreg = LinearRegression()\n",
    "lin_metrics = get_metrics(linreg, X_train, X_test, y_train, y_test)\n",
    "lin_metrics[4]"
   ]
  },
  {
   "cell_type": "code",
   "execution_count": 11,
   "metadata": {},
   "outputs": [],
   "source": [
    "linreg_parameters = {'RMSE_train': lin_metrics[1], 'RMSE_test': lin_metrics[2], \n",
    "                    'r2_train': lin_metrics[3], 'r2_test': lin_metrics[4]}"
   ]
  },
  {
   "cell_type": "code",
   "execution_count": 12,
   "metadata": {},
   "outputs": [
    {
     "data": {
      "text/plain": [
       "{'passenger_count_coef': 0.0010140987583700898,\n",
       " 'trip_distance_coef': -2.755065277554314e-06,\n",
       " 'fare_amount_coef': 1.0000143246154896,\n",
       " 'extra_coef': 0.6869719846780284,\n",
       " 'mta_tax_coef': 0.6431153641701794,\n",
       " 'tip_amount_coef': 0.99847231550015,\n",
       " 'tolls_amount_coef': 1.0022625237294935,\n",
       " 'improvement_surcharge_coef': 3.7649383131935177,\n",
       " 'congestion_surcharge_coef': 0.7678819360907848,\n",
       " 'VendorID_1_coef': -0.8073319175067712,\n",
       " 'VendorID_2_coef': 0.7921318061864712,\n",
       " 'RateCode_1_coef': -0.13233165390187895,\n",
       " 'RateCode_2_coef': 0.0499497614681601,\n",
       " 'RateCode_3_coef': -0.3224291379658477,\n",
       " 'RateCode_4_coef': 0.025056968066723195,\n",
       " 'RateCode_5_coef': -0.12601175741838272,\n",
       " 'RateCode_6_coef': 0.372174582729602,\n",
       " 'RateCode_99_coef': 0.11839112570082488,\n",
       " 'payment_type_1_coef': -0.37854995029314276,\n",
       " 'payment_type_2_coef': -0.40365375327865927,\n",
       " 'payment_type_3_coef': -0.17567500434111238,\n",
       " 'payment_type_4_coef': -0.26303143931464734,\n",
       " 'payment_type_5_coef': 1.205710035908169,\n",
       " 'Bronx_PU_coef': 0.07913950428717165,\n",
       " 'Brooklyn_PU_coef': 0.1372669848531155,\n",
       " 'Manhattan_PU_coef': 0.06609464059010717,\n",
       " 'Queens_PU_coef': 0.02091512810294327,\n",
       " 'Staten_Island_PU_coef': -0.24559138491718885,\n",
       " 'Bronx_DO_coef': 0.04702715815430014,\n",
       " 'Brooklyn_DO_coef': 0.039105080990770036,\n",
       " 'Manhattan_DO_coef': 0.0038951442023937854,\n",
       " 'Queens_DO_coef': 0.021957329826988503,\n",
       " 'Staten_Island_DO_coef': -0.10684408845123841,\n",
       " 'VendorID_isna_coef': 0.015200111322360321,\n",
       " 'passenger_count_isna_coef': 0.015200111322344279,\n",
       " 'RatecodeID_isna_coef': 0.015200111321470519,\n",
       " 'payment_type_isna_coef': 0.015200111321492876,\n",
       " 'Manhattan_PU_isna_coef': 0.0,\n",
       " 'Queens_PU_isna_coef': -2.220446049250313e-15,\n",
       " 'Bronx_PU_isna_coef': -2.4424906541753444e-15,\n",
       " 'Brooklyn_PU_isna_coef': 6.106226635438361e-16,\n",
       " 'Staten_Island_PU_isna_coef': -1.3877787807814457e-17,\n",
       " 'Manhattan_DO_isna_coef': -1.3322676295501878e-15,\n",
       " 'Queens_DO_isna_coef': -3.3306690738754696e-16,\n",
       " 'Bronx_DO_isna_coef': 1.1102230246251565e-15,\n",
       " 'Brooklyn_DO_isna_coef': -3.191891195797325e-16,\n",
       " 'Staten_Island_DO_isna_coef': 9.213550061781817e-16,\n",
       " 'Mins_In_Ride_coef': 1.542261117848387e-05,\n",
       " 'PU_Year_coef': -0.44842506694128415,\n",
       " 'PU_Month_coef': -0.04617711166027738,\n",
       " 'PU_Day_coef': -0.0005416385953140868,\n",
       " 'PU_Hour_coef': 0.005942129819113684,\n",
       " 'PU_Minute_coef': -8.930922918887196e-05,\n",
       " 'PU_Second_coef': -1.2104744135807421e-05,\n",
       " 'DO_Year_coef': 0.45498487508477814,\n",
       " 'DO_Month_coef': 0.04251251491353536,\n",
       " 'DO_Day_coef': 0.00040061721831274877,\n",
       " 'DO_Hour_coef': 0.002082277397217558,\n",
       " 'DO_Minute_coef': -2.4829259177239216e-05,\n",
       " 'DO_Second_coef': -9.231136649190397e-06,\n",
       " 'store_and_fwd_flag_N_coef': -0.010919639359688399,\n",
       " 'store_and_fwd_flag_NK_coef': 0.01520011132147496,\n",
       " 'store_and_fwd_flag_Y_coef': -0.004280471960552007,\n",
       " 'Monday_coef': 0.00739618870475206,\n",
       " 'Tuesday_coef': 0.016478024885606457,\n",
       " 'Wednesday_coef': 0.01742414418838978,\n",
       " 'Thursday_coef': 0.020450577411937065,\n",
       " 'Friday_coef': 0.02297788551440738,\n",
       " 'Saturday_coef': -0.04497341730551985,\n",
       " 'Sunday_coef': -0.03975340339805644,\n",
       " 'Intercept': -13.689957083705764}"
      ]
     },
     "execution_count": 12,
     "metadata": {},
     "output_type": "execute_result"
    }
   ],
   "source": [
    "linreg_coef = {}\n",
    "for i in range(len(X_train.columns)):\n",
    "    key = '{}_coef'.format(X_train.columns[i])\n",
    "    linreg_coef[key] = lin_metrics[0].coef_[0][i]\n",
    "linreg_coef['Intercept'] = lin_metrics[0].intercept_[0]\n",
    "linreg_coef"
   ]
  },
  {
   "cell_type": "code",
   "execution_count": 13,
   "metadata": {
    "scrolled": false
   },
   "outputs": [
    {
     "data": {
      "text/plain": [
       "-105176.60888984652"
      ]
     },
     "execution_count": 13,
     "metadata": {},
     "output_type": "execute_result"
    }
   ],
   "source": [
    "linreg_scaled = LinearRegression()\n",
    "scaled_lin_metrics = get_metrics(linreg_scaled, scaled_X_train, scaled_X_test, scaled_y_train, scaled_y_test)\n",
    "scaled_lin_metrics[4]"
   ]
  },
  {
   "cell_type": "code",
   "execution_count": 14,
   "metadata": {},
   "outputs": [],
   "source": [
    "scaled_linreg_parameters = {'RMSE_train': scaled_lin_metrics[1], 'RMSE_test': scaled_lin_metrics[2], \n",
    "                    'r2_train': scaled_lin_metrics[3], 'r2_test': scaled_lin_metrics[4]}"
   ]
  },
  {
   "cell_type": "code",
   "execution_count": 15,
   "metadata": {},
   "outputs": [
    {
     "data": {
      "text/plain": [
       "{'passenger_count_coef': 0.00020378634322531223,\n",
       " 'trip_distance_coef': 0.0007117353807072763,\n",
       " 'fare_amount_coef': -257.5202631108437,\n",
       " 'extra_coef': -0.8118620294768008,\n",
       " 'mta_tax_coef': -0.007657645184876938,\n",
       " 'tip_amount_coef': -2.82837147238977,\n",
       " 'tolls_amount_coef': -1.8001088370328453,\n",
       " 'improvement_surcharge_coef': -0.07404733912002398,\n",
       " 'congestion_surcharge_coef': 8623338795.783451,\n",
       " 'VendorID_1_coef': 8728018946.786913,\n",
       " 'VendorID_2_coef': 78182417435.04703,\n",
       " 'RateCode_1_coef': 55699227643.58955,\n",
       " 'RateCode_2_coef': 16376387581.421568,\n",
       " 'RateCode_3_coef': 3900635210.3651886,\n",
       " 'RateCode_4_coef': 22131607922.14804,\n",
       " 'RateCode_5_coef': 775974109.7791394,\n",
       " 'RateCode_6_coef': 2370599439.5047107,\n",
       " 'RateCode_99_coef': 173139876477.19528,\n",
       " 'payment_type_1_coef': 167810373100.50708,\n",
       " 'payment_type_2_coef': 28622580504.26202,\n",
       " 'payment_type_3_coef': 21327002860.13546,\n",
       " 'payment_type_4_coef': 113738850.5897848,\n",
       " 'payment_type_5_coef': -0.026105560408711703,\n",
       " 'Bronx_PU_coef': -0.05777958481844081,\n",
       " 'Brooklyn_PU_coef': 0.02399464197723944,\n",
       " 'Manhattan_PU_coef': -0.1003342677263035,\n",
       " 'Queens_PU_coef': -0.0022202553191021934,\n",
       " 'Staten_Island_PU_coef': 0.024883244838548535,\n",
       " 'Bronx_DO_coef': 0.08484840466216781,\n",
       " 'Brooklyn_DO_coef': 0.21379027148207186,\n",
       " 'Manhattan_DO_coef': 0.08200529906201837,\n",
       " 'Queens_DO_coef': 0.006040989237419581,\n",
       " 'Staten_Island_DO_coef': -208919011446.053,\n",
       " 'VendorID_isna_coef': 145846174504.09082,\n",
       " 'passenger_count_isna_coef': 170121990436.88327,\n",
       " 'RatecodeID_isna_coef': -209464151241.7176,\n",
       " 'payment_type_isna_coef': 19288658450.4252,\n",
       " 'Manhattan_PU_isna_coef': 8002578873.444179,\n",
       " 'Queens_PU_isna_coef': -28717353480.88266,\n",
       " 'Bronx_PU_isna_coef': -32177292650.38685,\n",
       " 'Brooklyn_PU_isna_coef': -47322899589.594055,\n",
       " 'Staten_Island_PU_isna_coef': -90228351121.84448,\n",
       " 'Manhattan_DO_isna_coef': 50473032064.48682,\n",
       " 'Queens_DO_isna_coef': 74684570221.18842,\n",
       " 'Bronx_DO_isna_coef': -106855043759.55818,\n",
       " 'Brooklyn_DO_isna_coef': -27123125282.533222,\n",
       " 'Staten_Island_DO_isna_coef': 0.001888275146484375,\n",
       " 'Mins_In_Ride_coef': 0.01775360107421875,\n",
       " 'PU_Year_coef': 0.07208251953125,\n",
       " 'PU_Month_coef': 0.008892059326171875,\n",
       " 'PU_Day_coef': -0.04412841796875,\n",
       " 'PU_Hour_coef': 0.0020751953125,\n",
       " 'PU_Minute_coef': 0.0016021728515625,\n",
       " 'PU_Second_coef': -0.0176849365234375,\n",
       " 'DO_Year_coef': -0.074249267578125,\n",
       " 'DO_Month_coef': -0.009143829345703125,\n",
       " 'DO_Day_coef': -0.02347564697265625,\n",
       " 'DO_Hour_coef': 0.000919342041015625,\n",
       " 'DO_Minute_coef': 0.0015716552734375,\n",
       " 'DO_Second_coef': -522183677143.60876,\n",
       " 'store_and_fwd_flag_N_coef': -213841733919.71176,\n",
       " 'store_and_fwd_flag_NK_coef': -319312841449.4842,\n",
       " 'store_and_fwd_flag_Y_coef': -33820001592.946735,\n",
       " 'Monday_coef': -35389568427.68266,\n",
       " 'Tuesday_coef': -36839807653.68919,\n",
       " 'Wednesday_coef': -37518571551.46944,\n",
       " 'Thursday_coef': -37578259813.08868,\n",
       " 'Friday_coef': -35255306033.64395,\n",
       " 'Saturday_coef': -32709458382.830734,\n",
       " 'Sunday_coef': 257.6681671142578,\n",
       " 'Intercept': -0.00013941769029795446}"
      ]
     },
     "execution_count": 15,
     "metadata": {},
     "output_type": "execute_result"
    }
   ],
   "source": [
    "scaled_linreg_coef = {}\n",
    "for i in range(len(scaled_X_train.columns)):\n",
    "    key = '{}_coef'.format(scaled_X_train.columns[i])\n",
    "    scaled_linreg_coef[key] = scaled_lin_metrics[0].coef_[i]\n",
    "scaled_linreg_coef['Intercept'] = scaled_lin_metrics[0].intercept_\n",
    "scaled_linreg_coef"
   ]
  },
  {
   "cell_type": "markdown",
   "metadata": {},
   "source": [
    "# Ridge Regression"
   ]
  },
  {
   "cell_type": "code",
   "execution_count": 18,
   "metadata": {},
   "outputs": [
    {
     "data": {
      "text/plain": [
       "{'alpha': 1}"
      ]
     },
     "execution_count": 18,
     "metadata": {},
     "output_type": "execute_result"
    }
   ],
   "source": [
    "ridge = Ridge()\n",
    "params = {'alpha': [1, 0.1, 0.01, 0.001]}\n",
    "ridge_cv = GridSearchCV(ridge, param_grid=params, cv=5)\n",
    "ridge_cv.fit(X_train, y_train)\n",
    "ridge_cv.best_params_"
   ]
  },
  {
   "cell_type": "code",
   "execution_count": 20,
   "metadata": {},
   "outputs": [
    {
     "data": {
      "text/plain": [
       "0.8880707725776429"
      ]
     },
     "execution_count": 20,
     "metadata": {},
     "output_type": "execute_result"
    }
   ],
   "source": [
    "ridgereg = Ridge(alpha=ridge_cv.best_params_['alpha'])\n",
    "ridge_metrics = get_metrics(ridgereg, X_train, X_test, y_train, y_test)\n",
    "ridge_metrics[4]"
   ]
  },
  {
   "cell_type": "code",
   "execution_count": 21,
   "metadata": {},
   "outputs": [],
   "source": [
    "ridge_parameters = {'RMSE_train': ridge_metrics[1], 'RMSE_test': ridge_metrics[2], \n",
    "                    'r2_train': ridge_metrics[3], 'r2_test': ridge_metrics[4], 'alpha': 0.1}"
   ]
  },
  {
   "cell_type": "code",
   "execution_count": 22,
   "metadata": {
    "scrolled": true
   },
   "outputs": [
    {
     "data": {
      "text/plain": [
       "{'passenger_count_coef': 0.0010142223469673899,\n",
       " 'trip_distance_coef': -2.7554298464738226e-06,\n",
       " 'fare_amount_coef': 1.0000143252238143,\n",
       " 'extra_coef': 0.6869707964731465,\n",
       " 'mta_tax_coef': 0.6436205873107322,\n",
       " 'tip_amount_coef': 0.9984719949953605,\n",
       " 'tolls_amount_coef': 1.0022622091174014,\n",
       " 'improvement_surcharge_coef': 3.763698174686881,\n",
       " 'congestion_surcharge_coef': 0.7678882111834207,\n",
       " 'VendorID_1_coef': -0.8179436857074434,\n",
       " 'VendorID_2_coef': 0.7815142962059208,\n",
       " 'RateCode_1_coef': -0.1343051120342748,\n",
       " 'RateCode_2_coef': 0.04797360754784556,\n",
       " 'RateCode_3_coef': -0.32409210424543294,\n",
       " 'RateCode_4_coef': 0.023076613599855536,\n",
       " 'RateCode_5_coef': -0.12780748391913485,\n",
       " 'RateCode_6_coef': 0.3626643002251231,\n",
       " 'RateCode_99_coef': 0.11605948042204121,\n",
       " 'payment_type_1_coef': -0.24925243257635085,\n",
       " 'payment_type_2_coef': -0.27435705817707856,\n",
       " 'payment_type_3_coef': -0.0464202173919956,\n",
       " 'payment_type_4_coef': -0.13384142214870626,\n",
       " 'payment_type_5_coef': 0.6674411853870007,\n",
       " 'Bronx_PU_coef': 0.07900342233864226,\n",
       " 'Brooklyn_PU_coef': 0.1371368316478273,\n",
       " 'Manhattan_PU_coef': 0.06595839504060536,\n",
       " 'Queens_PU_coef': 0.02078750452275861,\n",
       " 'Staten_Island_PU_coef': -0.24553285894578253,\n",
       " 'Bronx_DO_coef': 0.04706832436980992,\n",
       " 'Brooklyn_DO_coef': 0.03914449178235385,\n",
       " 'Manhattan_DO_coef': 0.003931390727655827,\n",
       " 'Queens_DO_coef': 0.021998079626429603,\n",
       " 'Staten_Island_DO_coef': -0.10679831120544456,\n",
       " 'VendorID_isna_coef': 0.03642969324257788,\n",
       " 'passenger_count_isna_coef': 0.03642969324257788,\n",
       " 'RatecodeID_isna_coef': 0.03642969324257786,\n",
       " 'payment_type_isna_coef': 0.03642969350851742,\n",
       " 'Manhattan_PU_isna_coef': 0.0,\n",
       " 'Queens_PU_isna_coef': 0.0,\n",
       " 'Bronx_PU_isna_coef': 0.0,\n",
       " 'Brooklyn_PU_isna_coef': 0.0,\n",
       " 'Staten_Island_PU_isna_coef': 0.0,\n",
       " 'Manhattan_DO_isna_coef': 0.0,\n",
       " 'Queens_DO_isna_coef': 0.0,\n",
       " 'Bronx_DO_isna_coef': 0.0,\n",
       " 'Brooklyn_DO_isna_coef': 0.0,\n",
       " 'Staten_Island_DO_isna_coef': 0.0,\n",
       " 'Mins_In_Ride_coef': 1.5991330594260317e-05,\n",
       " 'PU_Year_coef': -0.15214544640346178,\n",
       " 'PU_Month_coef': -0.021577301385505062,\n",
       " 'PU_Day_coef': 0.00027903509271984993,\n",
       " 'PU_Hour_coef': 0.005976407057326324,\n",
       " 'PU_Minute_coef': -8.873387469723385e-05,\n",
       " 'PU_Second_coef': -1.2044740839753154e-05,\n",
       " 'DO_Year_coef': 0.1587213355548948,\n",
       " 'DO_Month_coef': 0.01791201443821595,\n",
       " 'DO_Day_coef': -0.0004200705119799279,\n",
       " 'DO_Hour_coef': 0.002048050363004435,\n",
       " 'DO_Minute_coef': -2.5396641162370597e-05,\n",
       " 'DO_Second_coef': -9.196475911938626e-06,\n",
       " 'store_and_fwd_flag_N_coef': -0.021534466860093523,\n",
       " 'store_and_fwd_flag_NK_coef': 0.03642969317939233,\n",
       " 'store_and_fwd_flag_Y_coef': -0.014895026139440602,\n",
       " 'Monday_coef': 0.007396274550635408,\n",
       " 'Tuesday_coef': 0.016478466397674328,\n",
       " 'Wednesday_coef': 0.017424120690821297,\n",
       " 'Thursday_coef': 0.020450556312693647,\n",
       " 'Friday_coef': 0.022977008380458307,\n",
       " 'Saturday_coef': -0.04497259467049136,\n",
       " 'Sunday_coef': -0.039753752354742475,\n",
       " 'Intercept': -13.828330541309725}"
      ]
     },
     "execution_count": 22,
     "metadata": {},
     "output_type": "execute_result"
    }
   ],
   "source": [
    "ridgereg_coef = {}\n",
    "for i in range(len(X_train.columns)):\n",
    "    key = '{}_coef'.format(X_train.columns[i])\n",
    "    ridgereg_coef[key] = ridge_metrics[0].coef_[0][i]\n",
    "ridgereg_coef['Intercept'] = ridge_metrics[0].intercept_[0]\n",
    "ridgereg_coef"
   ]
  },
  {
   "cell_type": "code",
   "execution_count": 24,
   "metadata": {
    "scrolled": true
   },
   "outputs": [
    {
     "data": {
      "text/plain": [
       "-108886.95302625443"
      ]
     },
     "execution_count": 24,
     "metadata": {},
     "output_type": "execute_result"
    }
   ],
   "source": [
    "scaled_ridgereg = Ridge(alpha=ridge_cv.best_params_['alpha'])\n",
    "scaled_ridge_metrics = get_metrics(scaled_ridgereg, scaled_X_train, scaled_X_test, scaled_y_train, scaled_y_test)\n",
    "scaled_ridge_metrics[4]"
   ]
  },
  {
   "cell_type": "code",
   "execution_count": 25,
   "metadata": {},
   "outputs": [],
   "source": [
    "scaled_ridge_parameters = {'RMSE_train': scaled_ridge_metrics[1], 'RMSE_test': scaled_ridge_metrics[2], \n",
    "                    'r2_train': scaled_ridge_metrics[3], 'r2_test': scaled_ridge_metrics[4], 'alpha': 0.1}"
   ]
  },
  {
   "cell_type": "code",
   "execution_count": 26,
   "metadata": {},
   "outputs": [
    {
     "data": {
      "text/plain": [
       "{'passenger_count_coef': 0.00036959347076250643,\n",
       " 'trip_distance_coef': 0.0008693604921295292,\n",
       " 'fare_amount_coef': -247.277286605363,\n",
       " 'extra_coef': -0.7641097336080122,\n",
       " 'mta_tax_coef': -0.0023280036103667757,\n",
       " 'tip_amount_coef': -2.712070563652221,\n",
       " 'tolls_amount_coef': -1.7249341244748437,\n",
       " 'improvement_surcharge_coef': -0.06302780636845079,\n",
       " 'congestion_surcharge_coef': 0.3400781401790996,\n",
       " 'VendorID_1_coef': -0.32968673171190493,\n",
       " 'VendorID_2_coef': 0.016657768005778555,\n",
       " 'RateCode_1_coef': 0.0020136266825534843,\n",
       " 'RateCode_2_coef': -0.009497829192261614,\n",
       " 'RateCode_3_coef': -0.001853051797742237,\n",
       " 'RateCode_4_coef': -0.004412801808336983,\n",
       " 'RateCode_5_coef': -0.001955915943966158,\n",
       " 'RateCode_6_coef': -0.00042980716809392527,\n",
       " 'RateCode_99_coef': 0.002610950055111721,\n",
       " 'payment_type_1_coef': 0.008229087891629495,\n",
       " 'payment_type_2_coef': -0.015444375384061527,\n",
       " 'payment_type_3_coef': -0.01054716510199002,\n",
       " 'payment_type_4_coef': -0.00019693011141439155,\n",
       " 'payment_type_5_coef': -0.027805511233545726,\n",
       " 'Bronx_PU_coef': -0.060541366743036555,\n",
       " 'Brooklyn_PU_coef': 0.026311835992320662,\n",
       " 'Manhattan_PU_coef': -0.10818063007005861,\n",
       " 'Queens_PU_coef': -0.002545471448166181,\n",
       " 'Staten_Island_PU_coef': 0.027295423810932456,\n",
       " 'Bronx_DO_coef': 0.09212046142416805,\n",
       " 'Brooklyn_DO_coef': 0.22943384402048467,\n",
       " 'Manhattan_DO_coef': 0.08862654142566694,\n",
       " 'Queens_DO_coef': 0.006252682293679362,\n",
       " 'Staten_Island_DO_coef': -0.023512694559086656,\n",
       " 'VendorID_isna_coef': -0.0235126945590866,\n",
       " 'passenger_count_isna_coef': -0.023512694559086597,\n",
       " 'RatecodeID_isna_coef': -0.023512694559086597,\n",
       " 'payment_type_isna_coef': 0.0,\n",
       " 'Manhattan_PU_isna_coef': 0.0,\n",
       " 'Queens_PU_isna_coef': 0.0,\n",
       " 'Bronx_PU_isna_coef': 0.0,\n",
       " 'Brooklyn_PU_isna_coef': 0.0,\n",
       " 'Staten_Island_PU_isna_coef': 0.0,\n",
       " 'Manhattan_DO_isna_coef': 0.0,\n",
       " 'Queens_DO_isna_coef': 0.0,\n",
       " 'Bronx_DO_isna_coef': 0.0,\n",
       " 'Brooklyn_DO_isna_coef': 0.0,\n",
       " 'Staten_Island_DO_isna_coef': 0.002121489811598035,\n",
       " 'Mins_In_Ride_coef': 0.021265634956985306,\n",
       " 'PU_Year_coef': 0.08264043715683697,\n",
       " 'PU_Month_coef': 0.01218217012436075,\n",
       " 'PU_Day_coef': -0.043013563044328545,\n",
       " 'PU_Hour_coef': 0.0020752695697804973,\n",
       " 'PU_Minute_coef': 0.0016921328463176532,\n",
       " 'PU_Second_coef': -0.02114840216782458,\n",
       " 'DO_Year_coef': -0.08554925594827197,\n",
       " 'DO_Month_coef': -0.012567014818977911,\n",
       " 'DO_Day_coef': -0.02364192932132549,\n",
       " 'DO_Hour_coef': 0.0008071799227880372,\n",
       " 'DO_Minute_coef': 0.0016955527626123722,\n",
       " 'DO_Second_coef': 0.013803931410368139,\n",
       " 'store_and_fwd_flag_N_coef': -0.02351268678566673,\n",
       " 'store_and_fwd_flag_NK_coef': 0.00808154842002065,\n",
       " 'store_and_fwd_flag_Y_coef': -0.0030771714305422118,\n",
       " 'Monday_coef': -0.007421751862749714,\n",
       " 'Tuesday_coef': -0.007856068267921188,\n",
       " 'Wednesday_coef': -0.009379629752335443,\n",
       " 'Thursday_coef': -0.012213807625963687,\n",
       " 'Friday_coef': 0.023661553109387518,\n",
       " 'Saturday_coef': 0.019347182219042053,\n",
       " 'Sunday_coef': 247.4190577400081,\n",
       " 'Intercept': 1.7986141494156798e-14}"
      ]
     },
     "execution_count": 26,
     "metadata": {},
     "output_type": "execute_result"
    }
   ],
   "source": [
    "scaled_ridgereg_coef = {}\n",
    "for i in range(len(scaled_X_train.columns)):\n",
    "    key = '{}_coef'.format(scaled_X_train.columns[i])\n",
    "    scaled_ridgereg_coef[key] = scaled_ridge_metrics[0].coef_[i]\n",
    "scaled_ridgereg_coef['Intercept'] = scaled_ridge_metrics[0].intercept_\n",
    "scaled_ridgereg_coef"
   ]
  },
  {
   "cell_type": "markdown",
   "metadata": {},
   "source": [
    "# Lasso Regression"
   ]
  },
  {
   "cell_type": "code",
   "execution_count": 27,
   "metadata": {
    "scrolled": true
   },
   "outputs": [
    {
     "data": {
      "text/plain": [
       "{'alpha': 0.001}"
      ]
     },
     "execution_count": 27,
     "metadata": {},
     "output_type": "execute_result"
    }
   ],
   "source": [
    "lasso = Lasso()\n",
    "params = {'alpha': [1, 0.1, 0.01, 0.001]}\n",
    "lasso_cv = GridSearchCV(lasso, param_grid=params, cv=5)\n",
    "lasso_cv.fit(X_train, y_train)\n",
    "lasso_cv.best_params_"
   ]
  },
  {
   "cell_type": "code",
   "execution_count": 28,
   "metadata": {},
   "outputs": [
    {
     "data": {
      "text/plain": [
       "(Lasso(alpha=0.001),\n",
       " 0.288453983994175,\n",
       " 29.333617782659687,\n",
       " 0.9999984755688047,\n",
       " 0.9956997801324088)"
      ]
     },
     "execution_count": 28,
     "metadata": {},
     "output_type": "execute_result"
    }
   ],
   "source": [
    "lassoreg = Lasso(alpha=lasso_cv.best_params_['alpha'])\n",
    "lassoreg_metrics = get_metrics(lassoreg, X_train, X_test, y_train, y_test)\n",
    "lassoreg_metrics"
   ]
  },
  {
   "cell_type": "code",
   "execution_count": 29,
   "metadata": {},
   "outputs": [],
   "source": [
    "lasso_parameters = {'RMSE_train': lassoreg_metrics[1], 'RMSE_test': lassoreg_metrics[2], \n",
    "                    'r2_train': lassoreg_metrics[3], 'r2_test': lassoreg_metrics[4], 'alpha': 0.001}"
   ]
  },
  {
   "cell_type": "code",
   "execution_count": 30,
   "metadata": {
    "scrolled": true
   },
   "outputs": [
    {
     "data": {
      "text/plain": [
       "{'passenger_count_coef': 0.0008215327970705915,\n",
       " 'trip_distance_coef': -2.9112501005916087e-06,\n",
       " 'fare_amount_coef': 1.0000161001981938,\n",
       " 'extra_coef': 0.6771094335135825,\n",
       " 'mta_tax_coef': 1.1916867168594378,\n",
       " 'tip_amount_coef': 0.9998425174014166,\n",
       " 'tolls_amount_coef': 1.0016874362307344,\n",
       " 'improvement_surcharge_coef': 1.694447098206617,\n",
       " 'congestion_surcharge_coef': 0.7873860833933782,\n",
       " 'VendorID_1_coef': -1.3965806661268128,\n",
       " 'VendorID_2_coef': 0.16818407953427328,\n",
       " 'RateCode_1_coef': -0.11070911958621127,\n",
       " 'RateCode_2_coef': 0.0,\n",
       " 'RateCode_3_coef': -0.0,\n",
       " 'RateCode_4_coef': 0.0,\n",
       " 'RateCode_5_coef': 0.0,\n",
       " 'RateCode_6_coef': 0.0,\n",
       " 'RateCode_99_coef': -0.0,\n",
       " 'payment_type_1_coef': 0.016763605221925732,\n",
       " 'payment_type_2_coef': -0.0,\n",
       " 'payment_type_3_coef': 0.0,\n",
       " 'payment_type_4_coef': -0.0,\n",
       " 'payment_type_5_coef': 0.0,\n",
       " 'Bronx_PU_coef': 0.0,\n",
       " 'Brooklyn_PU_coef': 0.017875412441330406,\n",
       " 'Manhattan_PU_coef': -0.0,\n",
       " 'Queens_PU_coef': -0.0,\n",
       " 'Staten_Island_PU_coef': -0.0,\n",
       " 'Bronx_DO_coef': 0.0,\n",
       " 'Brooklyn_DO_coef': 0.0,\n",
       " 'Manhattan_DO_coef': -0.023538947325611008,\n",
       " 'Queens_DO_coef': -0.0,\n",
       " 'Staten_Island_DO_coef': -0.0,\n",
       " 'VendorID_isna_coef': -0.0,\n",
       " 'passenger_count_isna_coef': -0.0,\n",
       " 'RatecodeID_isna_coef': -0.0,\n",
       " 'payment_type_isna_coef': -0.0,\n",
       " 'Manhattan_PU_isna_coef': 0.0,\n",
       " 'Queens_PU_isna_coef': 0.0,\n",
       " 'Bronx_PU_isna_coef': 0.0,\n",
       " 'Brooklyn_PU_isna_coef': 0.0,\n",
       " 'Staten_Island_PU_isna_coef': 0.0,\n",
       " 'Manhattan_DO_isna_coef': 0.0,\n",
       " 'Queens_DO_isna_coef': 0.0,\n",
       " 'Bronx_DO_isna_coef': 0.0,\n",
       " 'Brooklyn_DO_isna_coef': 0.0,\n",
       " 'Staten_Island_DO_isna_coef': 0.0,\n",
       " 'Mins_In_Ride_coef': 1.9830791992432775e-05,\n",
       " 'PU_Year_coef': 0.0,\n",
       " 'PU_Month_coef': -0.003858311323665515,\n",
       " 'PU_Day_coef': -0.0,\n",
       " 'PU_Hour_coef': 0.006188051144008151,\n",
       " 'PU_Minute_coef': -8.786843657371578e-05,\n",
       " 'PU_Second_coef': 3.495435055225677e-05,\n",
       " 'DO_Year_coef': 0.0,\n",
       " 'DO_Month_coef': -0.0,\n",
       " 'DO_Day_coef': -7.845135977894783e-05,\n",
       " 'DO_Hour_coef': 0.002101568711694229,\n",
       " 'DO_Minute_coef': -2.5158138225962132e-05,\n",
       " 'DO_Second_coef': 3.813519541745233e-05,\n",
       " 'store_and_fwd_flag_N_coef': -0.0,\n",
       " 'store_and_fwd_flag_NK_coef': -0.0,\n",
       " 'store_and_fwd_flag_Y_coef': 0.0,\n",
       " 'Monday_coef': -0.0,\n",
       " 'Tuesday_coef': 0.0,\n",
       " 'Wednesday_coef': 0.0,\n",
       " 'Thursday_coef': 0.00021818314763495647,\n",
       " 'Friday_coef': 0.0030209878554084196,\n",
       " 'Saturday_coef': -0.05331983158352276,\n",
       " 'Sunday_coef': -0.045890983158377516,\n",
       " 'Intercept': 0.153425223138278}"
      ]
     },
     "execution_count": 30,
     "metadata": {},
     "output_type": "execute_result"
    }
   ],
   "source": [
    "lassoreg_coef = {}\n",
    "for i in range(len(X_train.columns)):\n",
    "    key = '{}_coef'.format(X_train.columns[i])\n",
    "    lassoreg_coef[key] = lassoreg_metrics[0].coef_[i]\n",
    "lassoreg_coef['Intercept'] = lassoreg_metrics[0].intercept_[0]\n",
    "lassoreg_coef"
   ]
  },
  {
   "cell_type": "code",
   "execution_count": 31,
   "metadata": {
    "scrolled": true
   },
   "outputs": [
    {
     "data": {
      "text/plain": [
       "-207139.56174785877"
      ]
     },
     "execution_count": 31,
     "metadata": {},
     "output_type": "execute_result"
    }
   ],
   "source": [
    "scaled_lassoreg = Lasso(alpha=lasso_cv.best_params_['alpha'])\n",
    "scaled_lassoreg_metrics = get_metrics(scaled_lassoreg, scaled_X_train, scaled_X_test, scaled_y_train, scaled_y_test)\n",
    "scaled_lassoreg_metrics[4]"
   ]
  },
  {
   "cell_type": "code",
   "execution_count": 32,
   "metadata": {},
   "outputs": [],
   "source": [
    "scaled_lasso_parameters = {'RMSE_train': scaled_lassoreg_metrics[1], 'RMSE_test': scaled_lassoreg_metrics[2], \n",
    "                    'r2_train': scaled_lassoreg_metrics[3], 'r2_test': scaled_lassoreg_metrics[4], 'alpha': 0.001}"
   ]
  },
  {
   "cell_type": "code",
   "execution_count": 33,
   "metadata": {},
   "outputs": [
    {
     "data": {
      "text/plain": [
       "{'passenger_count_coef': 0.003522797446363571,\n",
       " 'trip_distance_coef': 5.18992732493148e-05,\n",
       " 'fare_amount_coef': -0.0013181043627843534,\n",
       " 'extra_coef': 0.3822313100918155,\n",
       " 'mta_tax_coef': 0.12296333501886231,\n",
       " 'tip_amount_coef': 0.092847862559871,\n",
       " 'tolls_amount_coef': 0.08690554401418935,\n",
       " 'improvement_surcharge_coef': 0.19124105790654164,\n",
       " 'congestion_surcharge_coef': -0.0,\n",
       " 'VendorID_1_coef': 0.3355633314275071,\n",
       " 'VendorID_2_coef': 0.0,\n",
       " 'RateCode_1_coef': 0.04885343902947463,\n",
       " 'RateCode_2_coef': -0.09069672365349764,\n",
       " 'RateCode_3_coef': -0.003186924174351682,\n",
       " 'RateCode_4_coef': -0.02243555063788705,\n",
       " 'RateCode_5_coef': -0.001711041177154665,\n",
       " 'RateCode_6_coef': 0.0007504133583742504,\n",
       " 'RateCode_99_coef': 0.015644682494990885,\n",
       " 'payment_type_1_coef': -0.0,\n",
       " 'payment_type_2_coef': 0.001184239713315311,\n",
       " 'payment_type_3_coef': -0.00829959556870274,\n",
       " 'payment_type_4_coef': 0.0,\n",
       " 'payment_type_5_coef': 0.0,\n",
       " 'Bronx_PU_coef': -0.0,\n",
       " 'Brooklyn_PU_coef': 0.38456959244029565,\n",
       " 'Manhattan_PU_coef': -0.024194872796558103,\n",
       " 'Queens_PU_coef': -0.002357340862453292,\n",
       " 'Staten_Island_PU_coef': -0.023479618628099105,\n",
       " 'Bronx_DO_coef': 0.038392382122381385,\n",
       " 'Brooklyn_DO_coef': 0.2600240647988718,\n",
       " 'Manhattan_DO_coef': 0.0,\n",
       " 'Queens_DO_coef': -0.008652906701647057,\n",
       " 'Staten_Island_DO_coef': -0.10188120913096535,\n",
       " 'VendorID_isna_coef': -2.5026889781044695e-14,\n",
       " 'passenger_count_isna_coef': -0.0,\n",
       " 'RatecodeID_isna_coef': -1.0909648617664161e-18,\n",
       " 'payment_type_isna_coef': 0.0,\n",
       " 'Manhattan_PU_isna_coef': 0.0,\n",
       " 'Queens_PU_isna_coef': 0.0,\n",
       " 'Bronx_PU_isna_coef': 0.0,\n",
       " 'Brooklyn_PU_isna_coef': 0.0,\n",
       " 'Staten_Island_PU_isna_coef': 0.0,\n",
       " 'Manhattan_DO_isna_coef': 0.0,\n",
       " 'Queens_DO_isna_coef': 0.0,\n",
       " 'Bronx_DO_isna_coef': 0.0,\n",
       " 'Brooklyn_DO_isna_coef': 0.0,\n",
       " 'Staten_Island_DO_isna_coef': 0.0070001769180758865,\n",
       " 'Mins_In_Ride_coef': 0.0,\n",
       " 'PU_Year_coef': -0.018578470776007983,\n",
       " 'PU_Month_coef': -0.002801825349694533,\n",
       " 'PU_Day_coef': -0.015460895133890195,\n",
       " 'PU_Hour_coef': 0.00021382875053446577,\n",
       " 'PU_Minute_coef': 0.0030058409992063983,\n",
       " 'PU_Second_coef': 0.0,\n",
       " 'DO_Year_coef': -0.0,\n",
       " 'DO_Month_coef': -0.0007460142206193178,\n",
       " 'DO_Day_coef': -0.026371628554781153,\n",
       " 'DO_Hour_coef': 4.81832178109776e-05,\n",
       " 'DO_Minute_coef': 0.003155681757226597,\n",
       " 'DO_Second_coef': 0.0,\n",
       " 'store_and_fwd_flag_N_coef': -0.0016410688349507874,\n",
       " 'store_and_fwd_flag_NK_coef': 0.0,\n",
       " 'store_and_fwd_flag_Y_coef': 0.0005268707469828264,\n",
       " 'Monday_coef': -0.0,\n",
       " 'Tuesday_coef': -0.0,\n",
       " 'Wednesday_coef': -0.0,\n",
       " 'Thursday_coef': -0.004586968134949775,\n",
       " 'Friday_coef': 0.020252037875554654,\n",
       " 'Saturday_coef': 0.016654314420387676,\n",
       " 'Sunday_coef': 0.0,\n",
       " 'Intercept': 1.3710575786664662e-15}"
      ]
     },
     "execution_count": 33,
     "metadata": {},
     "output_type": "execute_result"
    }
   ],
   "source": [
    "scaled_lassoreg_coef = {}\n",
    "for i in range(len(scaled_X_train.columns)):\n",
    "    key = '{}_coef'.format(scaled_X_train.columns[i])\n",
    "    scaled_lassoreg_coef[key] = scaled_lassoreg_metrics[0].coef_[i]\n",
    "scaled_lassoreg_coef['Intercept'] = scaled_lassoreg_metrics[0].intercept_\n",
    "scaled_lassoreg_coef"
   ]
  },
  {
   "cell_type": "markdown",
   "metadata": {},
   "source": [
    "# Random Forest Regressor"
   ]
  },
  {
   "cell_type": "code",
   "execution_count": 35,
   "metadata": {
    "scrolled": false
   },
   "outputs": [
    {
     "name": "stderr",
     "output_type": "stream",
     "text": [
      "/opt/anaconda3/lib/python3.7/site-packages/ipykernel_launcher.py:2: DataConversionWarning: A column-vector y was passed when a 1d array was expected. Please change the shape of y to (n_samples,), for example using ravel().\n",
      "  \n"
     ]
    },
    {
     "data": {
      "text/plain": [
       "0.0008373738699121169"
      ]
     },
     "execution_count": 35,
     "metadata": {},
     "output_type": "execute_result"
    }
   ],
   "source": [
    "rfrreg = RandomForestRegressor(max_depth=5,\n",
    "                               n_estimators=5)\n",
    "rfrreg_metrics = get_metrics(rfrreg, X_train, X_test, y_train, y_test)\n",
    "rfrreg_metrics[4]"
   ]
  },
  {
   "cell_type": "code",
   "execution_count": 36,
   "metadata": {},
   "outputs": [],
   "source": [
    "rfrtrees_parameters = {'RMSE_train': rfrreg_metrics[1], 'RMSE_test': rfrreg_metrics[2], \n",
    "                    'r2_train': rfrreg_metrics[3], 'r2_test': rfrreg_metrics[4], 'n_estimators': 5, 'max_depth': 9}"
   ]
  },
  {
   "cell_type": "code",
   "execution_count": 37,
   "metadata": {},
   "outputs": [
    {
     "data": {
      "text/plain": [
       "0.6915049418013793"
      ]
     },
     "execution_count": 37,
     "metadata": {},
     "output_type": "execute_result"
    }
   ],
   "source": [
    "scaled_rfrreg_metrics = get_metrics(rfrreg, scaled_X_train, scaled_X_test, scaled_y_train, scaled_y_test)\n",
    "scaled_rfrreg_metrics[4]"
   ]
  },
  {
   "cell_type": "code",
   "execution_count": 38,
   "metadata": {},
   "outputs": [],
   "source": [
    "scaled_rfrtrees_parameters = {'RMSE_train': scaled_rfrreg_metrics[1], 'RMSE_test': scaled_rfrreg_metrics[2], \n",
    "                              'r2_train': scaled_rfrreg_metrics[3], 'r2_test': scaled_rfrreg_metrics[4],\n",
    "                              'n_estimators': 5, 'max_depth': 9}"
   ]
  },
  {
   "cell_type": "markdown",
   "metadata": {},
   "source": [
    "# Gradient Boosting"
   ]
  },
  {
   "cell_type": "code",
   "execution_count": 39,
   "metadata": {
    "scrolled": false
   },
   "outputs": [
    {
     "name": "stderr",
     "output_type": "stream",
     "text": [
      "/opt/anaconda3/lib/python3.7/site-packages/sklearn/utils/validation.py:63: DataConversionWarning: A column-vector y was passed when a 1d array was expected. Please change the shape of y to (n_samples, ), for example using ravel().\n",
      "  return f(*args, **kwargs)\n"
     ]
    },
    {
     "data": {
      "text/plain": [
       "0.0005472288027202898"
      ]
     },
     "execution_count": 39,
     "metadata": {},
     "output_type": "execute_result"
    }
   ],
   "source": [
    "gradientboost = GradientBoostingRegressor(max_depth=5, n_estimators=5)\n",
    "gradient_metrics = get_metrics(gradientboost, X_train, X_test, y_train, y_test)\n",
    "gradient_metrics[4]"
   ]
  },
  {
   "cell_type": "code",
   "execution_count": 40,
   "metadata": {},
   "outputs": [],
   "source": [
    "gradientboosting_parameters = {'RMSE_train': gradient_metrics[1], 'RMSE_test': gradient_metrics[2], \n",
    "                               'r2_train': gradient_metrics[3], 'r2_test': gradient_metrics[4],\n",
    "                              'n_estimators': 9, 'max_depth': 9}"
   ]
  },
  {
   "cell_type": "code",
   "execution_count": 41,
   "metadata": {},
   "outputs": [
    {
     "data": {
      "text/plain": [
       "0.45926421152749974"
      ]
     },
     "execution_count": 41,
     "metadata": {},
     "output_type": "execute_result"
    }
   ],
   "source": [
    "scaled_gradient_metrics = get_metrics(gradientboost, scaled_X_train, scaled_X_test, scaled_y_train, scaled_y_test)\n",
    "scaled_gradient_metrics[4]"
   ]
  },
  {
   "cell_type": "code",
   "execution_count": 42,
   "metadata": {},
   "outputs": [],
   "source": [
    "scaled_gradientboosting_parameters = {'RMSE_train': scaled_gradient_metrics[1], 'RMSE_test': scaled_gradient_metrics[2], \n",
    "                               'r2_train': scaled_gradient_metrics[3], 'r2_test': scaled_gradient_metrics[4],\n",
    "                              'n_estimators': 9, 'max_depth': 9}"
   ]
  },
  {
   "cell_type": "code",
   "execution_count": 43,
   "metadata": {},
   "outputs": [],
   "source": [
    "n_nearest_params = {'RMSE_train': 'DNF', 'RMSE_test': 'DNF',\n",
    "                    'r2_train': 'DNF', 'r2_test': 'DNF', 'n_neighbors': '1 - 10'}\n",
    "\n",
    "scaled_n_nearest_params = {'RMSE_train': 'DNF', 'RMSE_test': 'DNF',\n",
    "                    'r2_train': 'DNF', 'r2_test': 'DNF', 'n_neighbors': '1 - 10'}\n",
    "\n",
    "adaboosting_params = {'RMSE_train': 'DNF', 'RMSE_test': 'DNF',\n",
    "                    'r2_train': 'DNF', 'r2_test': 'DNF', 'n_estimators': '1 - 10'}\n",
    "\n",
    "scaled_adaboosting_params = {'RMSE_train': 'DNF', 'RMSE_test': 'DNF',\n",
    "                    'r2_train': 'DNF', 'r2_test': 'DNF', 'n_estimators': '1 - 10'}"
   ]
  },
  {
   "cell_type": "code",
   "execution_count": 44,
   "metadata": {
    "scrolled": true
   },
   "outputs": [],
   "source": [
    "df = pd.DataFrame([linreg_parameters, ridge_parameters, lasso_parameters, n_nearest_params,\n",
    "                   rfrtrees_parameters, gradientboosting_parameters, adaboosting_params],\n",
    "                 index=['Linear Regression', 'Ridge Regression', 'Lasso Regression',\n",
    "                        'N_nearest_neighbors', 'Random Forest', 'Gradient Boosting', 'Ada Boosting'])\n",
    "\n",
    "df_scaled = pd.DataFrame([scaled_linreg_parameters, scaled_ridge_parameters, scaled_lasso_parameters,\n",
    "                          scaled_n_nearest_params, scaled_rfrtrees_parameters, \n",
    "                          scaled_gradientboosting_parameters, scaled_adaboosting_params],\n",
    "                 index=['Scaled Linear Regression', 'Scaled Ridge Regression', 'Scaled Lasso Regression',\n",
    "                        'Scaled N Nearest Neighbors','Scaled Random Forest',\n",
    "                        'Scaled Gradient Boosting', 'Ada Boosting'])"
   ]
  },
  {
   "cell_type": "code",
   "execution_count": 45,
   "metadata": {
    "scrolled": false
   },
   "outputs": [],
   "source": [
    "df_coef = pd.DataFrame([linreg_coef, ridgereg_coef, lassoreg_coef], index=['Linear Regression Coefficients',\n",
    "                                                                          'Ridge Regression Coefficients',\n",
    "                                                                          'Lasso Regression Coefficients'])\n",
    "\n",
    "df_coef_scaled = pd.DataFrame([scaled_linreg_coef, scaled_ridgereg_coef, scaled_lassoreg_coef],\n",
    "                              index=['Scaled Linear Regression Coefficients', 'Scaled Ridge Regression Coefficients',\n",
    "                                    'Scaled Lasso Regression Coefficients'])"
   ]
  },
  {
   "cell_type": "code",
   "execution_count": 46,
   "metadata": {
    "scrolled": false
   },
   "outputs": [
    {
     "data": {
      "text/html": [
       "<div>\n",
       "<style scoped>\n",
       "    .dataframe tbody tr th:only-of-type {\n",
       "        vertical-align: middle;\n",
       "    }\n",
       "\n",
       "    .dataframe tbody tr th {\n",
       "        vertical-align: top;\n",
       "    }\n",
       "\n",
       "    .dataframe thead th {\n",
       "        text-align: right;\n",
       "    }\n",
       "</style>\n",
       "<table border=\"1\" class=\"dataframe\">\n",
       "  <thead>\n",
       "    <tr style=\"text-align: right;\">\n",
       "      <th></th>\n",
       "      <th>RMSE_train</th>\n",
       "      <th>RMSE_test</th>\n",
       "      <th>r2_train</th>\n",
       "      <th>r2_test</th>\n",
       "      <th>alpha</th>\n",
       "      <th>n_neighbors</th>\n",
       "      <th>n_estimators</th>\n",
       "      <th>max_depth</th>\n",
       "    </tr>\n",
       "  </thead>\n",
       "  <tbody>\n",
       "    <tr>\n",
       "      <th>Linear Regression</th>\n",
       "      <td>0.285299</td>\n",
       "      <td>149.768</td>\n",
       "      <td>0.999999</td>\n",
       "      <td>0.887902</td>\n",
       "      <td>NaN</td>\n",
       "      <td>NaN</td>\n",
       "      <td>NaN</td>\n",
       "      <td>NaN</td>\n",
       "    </tr>\n",
       "    <tr>\n",
       "      <th>Ridge Regression</th>\n",
       "      <td>0.285299</td>\n",
       "      <td>149.655</td>\n",
       "      <td>0.999999</td>\n",
       "      <td>0.888071</td>\n",
       "      <td>0.100</td>\n",
       "      <td>NaN</td>\n",
       "      <td>NaN</td>\n",
       "      <td>NaN</td>\n",
       "    </tr>\n",
       "    <tr>\n",
       "      <th>Lasso Regression</th>\n",
       "      <td>0.288454</td>\n",
       "      <td>29.3336</td>\n",
       "      <td>0.999998</td>\n",
       "      <td>0.9957</td>\n",
       "      <td>0.001</td>\n",
       "      <td>NaN</td>\n",
       "      <td>NaN</td>\n",
       "      <td>NaN</td>\n",
       "    </tr>\n",
       "    <tr>\n",
       "      <th>N_nearest_neighbors</th>\n",
       "      <td>DNF</td>\n",
       "      <td>DNF</td>\n",
       "      <td>DNF</td>\n",
       "      <td>DNF</td>\n",
       "      <td>NaN</td>\n",
       "      <td>1 - 10</td>\n",
       "      <td>NaN</td>\n",
       "      <td>NaN</td>\n",
       "    </tr>\n",
       "    <tr>\n",
       "      <th>Random Forest</th>\n",
       "      <td>58.7649</td>\n",
       "      <td>447.135</td>\n",
       "      <td>0.936731</td>\n",
       "      <td>0.000837374</td>\n",
       "      <td>NaN</td>\n",
       "      <td>NaN</td>\n",
       "      <td>5</td>\n",
       "      <td>9.0</td>\n",
       "    </tr>\n",
       "    <tr>\n",
       "      <th>Gradient Boosting</th>\n",
       "      <td>137.981</td>\n",
       "      <td>447.2</td>\n",
       "      <td>0.651187</td>\n",
       "      <td>0.000547229</td>\n",
       "      <td>NaN</td>\n",
       "      <td>NaN</td>\n",
       "      <td>9</td>\n",
       "      <td>9.0</td>\n",
       "    </tr>\n",
       "    <tr>\n",
       "      <th>Ada Boosting</th>\n",
       "      <td>DNF</td>\n",
       "      <td>DNF</td>\n",
       "      <td>DNF</td>\n",
       "      <td>DNF</td>\n",
       "      <td>NaN</td>\n",
       "      <td>NaN</td>\n",
       "      <td>1 - 10</td>\n",
       "      <td>NaN</td>\n",
       "    </tr>\n",
       "  </tbody>\n",
       "</table>\n",
       "</div>"
      ],
      "text/plain": [
       "                    RMSE_train RMSE_test  r2_train      r2_test  alpha  \\\n",
       "Linear Regression     0.285299   149.768  0.999999     0.887902    NaN   \n",
       "Ridge Regression      0.285299   149.655  0.999999     0.888071  0.100   \n",
       "Lasso Regression      0.288454   29.3336  0.999998       0.9957  0.001   \n",
       "N_nearest_neighbors        DNF       DNF       DNF          DNF    NaN   \n",
       "Random Forest          58.7649   447.135  0.936731  0.000837374    NaN   \n",
       "Gradient Boosting      137.981     447.2  0.651187  0.000547229    NaN   \n",
       "Ada Boosting               DNF       DNF       DNF          DNF    NaN   \n",
       "\n",
       "                    n_neighbors n_estimators  max_depth  \n",
       "Linear Regression           NaN          NaN        NaN  \n",
       "Ridge Regression            NaN          NaN        NaN  \n",
       "Lasso Regression            NaN          NaN        NaN  \n",
       "N_nearest_neighbors      1 - 10          NaN        NaN  \n",
       "Random Forest               NaN            5        9.0  \n",
       "Gradient Boosting           NaN            9        9.0  \n",
       "Ada Boosting                NaN       1 - 10        NaN  "
      ]
     },
     "execution_count": 46,
     "metadata": {},
     "output_type": "execute_result"
    }
   ],
   "source": [
    "df"
   ]
  },
  {
   "cell_type": "code",
   "execution_count": 47,
   "metadata": {
    "scrolled": true
   },
   "outputs": [
    {
     "data": {
      "text/html": [
       "<div>\n",
       "<style scoped>\n",
       "    .dataframe tbody tr th:only-of-type {\n",
       "        vertical-align: middle;\n",
       "    }\n",
       "\n",
       "    .dataframe tbody tr th {\n",
       "        vertical-align: top;\n",
       "    }\n",
       "\n",
       "    .dataframe thead th {\n",
       "        text-align: right;\n",
       "    }\n",
       "</style>\n",
       "<table border=\"1\" class=\"dataframe\">\n",
       "  <thead>\n",
       "    <tr style=\"text-align: right;\">\n",
       "      <th></th>\n",
       "      <th>RMSE_train</th>\n",
       "      <th>RMSE_test</th>\n",
       "      <th>r2_train</th>\n",
       "      <th>r2_test</th>\n",
       "      <th>alpha</th>\n",
       "      <th>n_neighbors</th>\n",
       "      <th>n_estimators</th>\n",
       "      <th>max_depth</th>\n",
       "    </tr>\n",
       "  </thead>\n",
       "  <tbody>\n",
       "    <tr>\n",
       "      <th>Scaled Linear Regression</th>\n",
       "      <td>0.393475</td>\n",
       "      <td>324.557</td>\n",
       "      <td>0.845178</td>\n",
       "      <td>-105177</td>\n",
       "      <td>NaN</td>\n",
       "      <td>NaN</td>\n",
       "      <td>NaN</td>\n",
       "      <td>NaN</td>\n",
       "    </tr>\n",
       "    <tr>\n",
       "      <th>Scaled Ridge Regression</th>\n",
       "      <td>0.394026</td>\n",
       "      <td>330.232</td>\n",
       "      <td>0.844743</td>\n",
       "      <td>-108887</td>\n",
       "      <td>0.100</td>\n",
       "      <td>NaN</td>\n",
       "      <td>NaN</td>\n",
       "      <td>NaN</td>\n",
       "    </tr>\n",
       "    <tr>\n",
       "      <th>Scaled Lasso Regression</th>\n",
       "      <td>0.655668</td>\n",
       "      <td>455.473</td>\n",
       "      <td>0.5701</td>\n",
       "      <td>-207140</td>\n",
       "      <td>0.001</td>\n",
       "      <td>NaN</td>\n",
       "      <td>NaN</td>\n",
       "      <td>NaN</td>\n",
       "    </tr>\n",
       "    <tr>\n",
       "      <th>Scaled N Nearest Neighbors</th>\n",
       "      <td>DNF</td>\n",
       "      <td>DNF</td>\n",
       "      <td>DNF</td>\n",
       "      <td>DNF</td>\n",
       "      <td>NaN</td>\n",
       "      <td>1 - 10</td>\n",
       "      <td>NaN</td>\n",
       "      <td>NaN</td>\n",
       "    </tr>\n",
       "    <tr>\n",
       "      <th>Scaled Random Forest</th>\n",
       "      <td>0.555123</td>\n",
       "      <td>0.555845</td>\n",
       "      <td>0.691839</td>\n",
       "      <td>0.691505</td>\n",
       "      <td>NaN</td>\n",
       "      <td>NaN</td>\n",
       "      <td>5</td>\n",
       "      <td>9.0</td>\n",
       "    </tr>\n",
       "    <tr>\n",
       "      <th>Scaled Gradient Boosting</th>\n",
       "      <td>0.735088</td>\n",
       "      <td>0.735906</td>\n",
       "      <td>0.459646</td>\n",
       "      <td>0.459264</td>\n",
       "      <td>NaN</td>\n",
       "      <td>NaN</td>\n",
       "      <td>9</td>\n",
       "      <td>9.0</td>\n",
       "    </tr>\n",
       "    <tr>\n",
       "      <th>Ada Boosting</th>\n",
       "      <td>DNF</td>\n",
       "      <td>DNF</td>\n",
       "      <td>DNF</td>\n",
       "      <td>DNF</td>\n",
       "      <td>NaN</td>\n",
       "      <td>NaN</td>\n",
       "      <td>1 - 10</td>\n",
       "      <td>NaN</td>\n",
       "    </tr>\n",
       "  </tbody>\n",
       "</table>\n",
       "</div>"
      ],
      "text/plain": [
       "                           RMSE_train RMSE_test  r2_train   r2_test  alpha  \\\n",
       "Scaled Linear Regression     0.393475   324.557  0.845178   -105177    NaN   \n",
       "Scaled Ridge Regression      0.394026   330.232  0.844743   -108887  0.100   \n",
       "Scaled Lasso Regression      0.655668   455.473    0.5701   -207140  0.001   \n",
       "Scaled N Nearest Neighbors        DNF       DNF       DNF       DNF    NaN   \n",
       "Scaled Random Forest         0.555123  0.555845  0.691839  0.691505    NaN   \n",
       "Scaled Gradient Boosting     0.735088  0.735906  0.459646  0.459264    NaN   \n",
       "Ada Boosting                      DNF       DNF       DNF       DNF    NaN   \n",
       "\n",
       "                           n_neighbors n_estimators  max_depth  \n",
       "Scaled Linear Regression           NaN          NaN        NaN  \n",
       "Scaled Ridge Regression            NaN          NaN        NaN  \n",
       "Scaled Lasso Regression            NaN          NaN        NaN  \n",
       "Scaled N Nearest Neighbors      1 - 10          NaN        NaN  \n",
       "Scaled Random Forest               NaN            5        9.0  \n",
       "Scaled Gradient Boosting           NaN            9        9.0  \n",
       "Ada Boosting                       NaN       1 - 10        NaN  "
      ]
     },
     "execution_count": 47,
     "metadata": {},
     "output_type": "execute_result"
    }
   ],
   "source": [
    "df_scaled"
   ]
  },
  {
   "cell_type": "code",
   "execution_count": 48,
   "metadata": {},
   "outputs": [
    {
     "data": {
      "text/html": [
       "<div>\n",
       "<style scoped>\n",
       "    .dataframe tbody tr th:only-of-type {\n",
       "        vertical-align: middle;\n",
       "    }\n",
       "\n",
       "    .dataframe tbody tr th {\n",
       "        vertical-align: top;\n",
       "    }\n",
       "\n",
       "    .dataframe thead th {\n",
       "        text-align: right;\n",
       "    }\n",
       "</style>\n",
       "<table border=\"1\" class=\"dataframe\">\n",
       "  <thead>\n",
       "    <tr style=\"text-align: right;\">\n",
       "      <th></th>\n",
       "      <th>Linear Regression Coefficients</th>\n",
       "      <th>Ridge Regression Coefficients</th>\n",
       "      <th>Lasso Regression Coefficients</th>\n",
       "    </tr>\n",
       "  </thead>\n",
       "  <tbody>\n",
       "    <tr>\n",
       "      <th>passenger_count_coef</th>\n",
       "      <td>0.001014</td>\n",
       "      <td>0.001014</td>\n",
       "      <td>0.000822</td>\n",
       "    </tr>\n",
       "    <tr>\n",
       "      <th>trip_distance_coef</th>\n",
       "      <td>-0.000003</td>\n",
       "      <td>-0.000003</td>\n",
       "      <td>-0.000003</td>\n",
       "    </tr>\n",
       "    <tr>\n",
       "      <th>fare_amount_coef</th>\n",
       "      <td>1.000014</td>\n",
       "      <td>1.000014</td>\n",
       "      <td>1.000016</td>\n",
       "    </tr>\n",
       "    <tr>\n",
       "      <th>extra_coef</th>\n",
       "      <td>0.686972</td>\n",
       "      <td>0.686971</td>\n",
       "      <td>0.677109</td>\n",
       "    </tr>\n",
       "    <tr>\n",
       "      <th>mta_tax_coef</th>\n",
       "      <td>0.643115</td>\n",
       "      <td>0.643621</td>\n",
       "      <td>1.191687</td>\n",
       "    </tr>\n",
       "    <tr>\n",
       "      <th>...</th>\n",
       "      <td>...</td>\n",
       "      <td>...</td>\n",
       "      <td>...</td>\n",
       "    </tr>\n",
       "    <tr>\n",
       "      <th>Thursday_coef</th>\n",
       "      <td>0.020451</td>\n",
       "      <td>0.020451</td>\n",
       "      <td>0.000218</td>\n",
       "    </tr>\n",
       "    <tr>\n",
       "      <th>Friday_coef</th>\n",
       "      <td>0.022978</td>\n",
       "      <td>0.022977</td>\n",
       "      <td>0.003021</td>\n",
       "    </tr>\n",
       "    <tr>\n",
       "      <th>Saturday_coef</th>\n",
       "      <td>-0.044973</td>\n",
       "      <td>-0.044973</td>\n",
       "      <td>-0.053320</td>\n",
       "    </tr>\n",
       "    <tr>\n",
       "      <th>Sunday_coef</th>\n",
       "      <td>-0.039753</td>\n",
       "      <td>-0.039754</td>\n",
       "      <td>-0.045891</td>\n",
       "    </tr>\n",
       "    <tr>\n",
       "      <th>Intercept</th>\n",
       "      <td>-13.689957</td>\n",
       "      <td>-13.828331</td>\n",
       "      <td>0.153425</td>\n",
       "    </tr>\n",
       "  </tbody>\n",
       "</table>\n",
       "<p>71 rows × 3 columns</p>\n",
       "</div>"
      ],
      "text/plain": [
       "                      Linear Regression Coefficients  \\\n",
       "passenger_count_coef                        0.001014   \n",
       "trip_distance_coef                         -0.000003   \n",
       "fare_amount_coef                            1.000014   \n",
       "extra_coef                                  0.686972   \n",
       "mta_tax_coef                                0.643115   \n",
       "...                                              ...   \n",
       "Thursday_coef                               0.020451   \n",
       "Friday_coef                                 0.022978   \n",
       "Saturday_coef                              -0.044973   \n",
       "Sunday_coef                                -0.039753   \n",
       "Intercept                                 -13.689957   \n",
       "\n",
       "                      Ridge Regression Coefficients  \\\n",
       "passenger_count_coef                       0.001014   \n",
       "trip_distance_coef                        -0.000003   \n",
       "fare_amount_coef                           1.000014   \n",
       "extra_coef                                 0.686971   \n",
       "mta_tax_coef                               0.643621   \n",
       "...                                             ...   \n",
       "Thursday_coef                              0.020451   \n",
       "Friday_coef                                0.022977   \n",
       "Saturday_coef                             -0.044973   \n",
       "Sunday_coef                               -0.039754   \n",
       "Intercept                                -13.828331   \n",
       "\n",
       "                      Lasso Regression Coefficients  \n",
       "passenger_count_coef                       0.000822  \n",
       "trip_distance_coef                        -0.000003  \n",
       "fare_amount_coef                           1.000016  \n",
       "extra_coef                                 0.677109  \n",
       "mta_tax_coef                               1.191687  \n",
       "...                                             ...  \n",
       "Thursday_coef                              0.000218  \n",
       "Friday_coef                                0.003021  \n",
       "Saturday_coef                             -0.053320  \n",
       "Sunday_coef                               -0.045891  \n",
       "Intercept                                  0.153425  \n",
       "\n",
       "[71 rows x 3 columns]"
      ]
     },
     "execution_count": 48,
     "metadata": {},
     "output_type": "execute_result"
    }
   ],
   "source": [
    "df_coef.T"
   ]
  },
  {
   "cell_type": "code",
   "execution_count": 49,
   "metadata": {
    "scrolled": false
   },
   "outputs": [
    {
     "data": {
      "text/html": [
       "<div>\n",
       "<style scoped>\n",
       "    .dataframe tbody tr th:only-of-type {\n",
       "        vertical-align: middle;\n",
       "    }\n",
       "\n",
       "    .dataframe tbody tr th {\n",
       "        vertical-align: top;\n",
       "    }\n",
       "\n",
       "    .dataframe thead th {\n",
       "        text-align: right;\n",
       "    }\n",
       "</style>\n",
       "<table border=\"1\" class=\"dataframe\">\n",
       "  <thead>\n",
       "    <tr style=\"text-align: right;\">\n",
       "      <th></th>\n",
       "      <th>Scaled Linear Regression Coefficients</th>\n",
       "      <th>Scaled Ridge Regression Coefficients</th>\n",
       "      <th>Scaled Lasso Regression Coefficients</th>\n",
       "    </tr>\n",
       "  </thead>\n",
       "  <tbody>\n",
       "    <tr>\n",
       "      <th>passenger_count_coef</th>\n",
       "      <td>2.037863e-04</td>\n",
       "      <td>3.695935e-04</td>\n",
       "      <td>3.522797e-03</td>\n",
       "    </tr>\n",
       "    <tr>\n",
       "      <th>trip_distance_coef</th>\n",
       "      <td>7.117354e-04</td>\n",
       "      <td>8.693605e-04</td>\n",
       "      <td>5.189927e-05</td>\n",
       "    </tr>\n",
       "    <tr>\n",
       "      <th>fare_amount_coef</th>\n",
       "      <td>-2.575203e+02</td>\n",
       "      <td>-2.472773e+02</td>\n",
       "      <td>-1.318104e-03</td>\n",
       "    </tr>\n",
       "    <tr>\n",
       "      <th>extra_coef</th>\n",
       "      <td>-8.118620e-01</td>\n",
       "      <td>-7.641097e-01</td>\n",
       "      <td>3.822313e-01</td>\n",
       "    </tr>\n",
       "    <tr>\n",
       "      <th>mta_tax_coef</th>\n",
       "      <td>-7.657645e-03</td>\n",
       "      <td>-2.328004e-03</td>\n",
       "      <td>1.229633e-01</td>\n",
       "    </tr>\n",
       "    <tr>\n",
       "      <th>...</th>\n",
       "      <td>...</td>\n",
       "      <td>...</td>\n",
       "      <td>...</td>\n",
       "    </tr>\n",
       "    <tr>\n",
       "      <th>Thursday_coef</th>\n",
       "      <td>-3.757826e+10</td>\n",
       "      <td>-1.221381e-02</td>\n",
       "      <td>-4.586968e-03</td>\n",
       "    </tr>\n",
       "    <tr>\n",
       "      <th>Friday_coef</th>\n",
       "      <td>-3.525531e+10</td>\n",
       "      <td>2.366155e-02</td>\n",
       "      <td>2.025204e-02</td>\n",
       "    </tr>\n",
       "    <tr>\n",
       "      <th>Saturday_coef</th>\n",
       "      <td>-3.270946e+10</td>\n",
       "      <td>1.934718e-02</td>\n",
       "      <td>1.665431e-02</td>\n",
       "    </tr>\n",
       "    <tr>\n",
       "      <th>Sunday_coef</th>\n",
       "      <td>2.576682e+02</td>\n",
       "      <td>2.474191e+02</td>\n",
       "      <td>0.000000e+00</td>\n",
       "    </tr>\n",
       "    <tr>\n",
       "      <th>Intercept</th>\n",
       "      <td>-1.394177e-04</td>\n",
       "      <td>1.798614e-14</td>\n",
       "      <td>1.371058e-15</td>\n",
       "    </tr>\n",
       "  </tbody>\n",
       "</table>\n",
       "<p>71 rows × 3 columns</p>\n",
       "</div>"
      ],
      "text/plain": [
       "                      Scaled Linear Regression Coefficients  \\\n",
       "passenger_count_coef                           2.037863e-04   \n",
       "trip_distance_coef                             7.117354e-04   \n",
       "fare_amount_coef                              -2.575203e+02   \n",
       "extra_coef                                    -8.118620e-01   \n",
       "mta_tax_coef                                  -7.657645e-03   \n",
       "...                                                     ...   \n",
       "Thursday_coef                                 -3.757826e+10   \n",
       "Friday_coef                                   -3.525531e+10   \n",
       "Saturday_coef                                 -3.270946e+10   \n",
       "Sunday_coef                                    2.576682e+02   \n",
       "Intercept                                     -1.394177e-04   \n",
       "\n",
       "                      Scaled Ridge Regression Coefficients  \\\n",
       "passenger_count_coef                          3.695935e-04   \n",
       "trip_distance_coef                            8.693605e-04   \n",
       "fare_amount_coef                             -2.472773e+02   \n",
       "extra_coef                                   -7.641097e-01   \n",
       "mta_tax_coef                                 -2.328004e-03   \n",
       "...                                                    ...   \n",
       "Thursday_coef                                -1.221381e-02   \n",
       "Friday_coef                                   2.366155e-02   \n",
       "Saturday_coef                                 1.934718e-02   \n",
       "Sunday_coef                                   2.474191e+02   \n",
       "Intercept                                     1.798614e-14   \n",
       "\n",
       "                      Scaled Lasso Regression Coefficients  \n",
       "passenger_count_coef                          3.522797e-03  \n",
       "trip_distance_coef                            5.189927e-05  \n",
       "fare_amount_coef                             -1.318104e-03  \n",
       "extra_coef                                    3.822313e-01  \n",
       "mta_tax_coef                                  1.229633e-01  \n",
       "...                                                    ...  \n",
       "Thursday_coef                                -4.586968e-03  \n",
       "Friday_coef                                   2.025204e-02  \n",
       "Saturday_coef                                 1.665431e-02  \n",
       "Sunday_coef                                   0.000000e+00  \n",
       "Intercept                                     1.371058e-15  \n",
       "\n",
       "[71 rows x 3 columns]"
      ]
     },
     "execution_count": 49,
     "metadata": {},
     "output_type": "execute_result"
    }
   ],
   "source": [
    "df_coef_scaled.T"
   ]
  },
  {
   "cell_type": "code",
   "execution_count": 50,
   "metadata": {},
   "outputs": [],
   "source": [
    "df.to_csv('./datasets/Model_Metrics.csv')\n",
    "df_scaled.to_csv('./datasets/Scaled_Model_Metrics.csv')\n",
    "df_coef.to_csv('./datasets/Coef_Metrics.csv')\n",
    "df_coef_scaled.to_csv('./datasets/Scaled_Coef_Metrics.csv')"
   ]
  }
 ],
 "metadata": {
  "kernelspec": {
   "display_name": "Python 3",
   "language": "python",
   "name": "python3"
  }
 },
 "nbformat": 4,
 "nbformat_minor": 2
}
