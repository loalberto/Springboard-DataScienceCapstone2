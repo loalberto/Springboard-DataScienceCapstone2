{
 "cells": [
  {
   "cell_type": "code",
   "execution_count": 93,
   "metadata": {},
   "outputs": [],
   "source": [
    "import pandas as pd\n",
    "import numpy as np\n",
    "from sklearn.linear_model import LinearRegression\n",
    "from sklearn.model_selection import train_test_split"
   ]
  },
  {
   "cell_type": "code",
   "execution_count": 45,
   "metadata": {},
   "outputs": [],
   "source": [
    "df = pd.read_csv('Clean_Pandemic_Taxi_Data.csv')\n",
    "truth_table = pd.read_csv('TFNullTable.csv')"
   ]
  },
  {
   "cell_type": "code",
   "execution_count": 87,
   "metadata": {},
   "outputs": [],
   "source": [
    "truth_table = truth_table.drop(['Unnamed: 0'], axis=1)"
   ]
  },
  {
   "cell_type": "code",
   "execution_count": 88,
   "metadata": {},
   "outputs": [],
   "source": [
    "cols = ['VendorID', 'passenger_count', 'trip_distance', 'RatecodeID', 'PULocationID',\n",
    "       'DOLocationID', 'payment_type', 'fare_amount', 'extra', 'mta_tax', 'tip_amount',\n",
    "       'tolls_amount', 'improvement_surcharge', 'total_amount', 'congestion_surcharge']\n",
    "t_cols = truth_table.columns"
   ]
  },
  {
   "cell_type": "code",
   "execution_count": 49,
   "metadata": {},
   "outputs": [],
   "source": [
    "model = LinearRegression()"
   ]
  },
  {
   "cell_type": "code",
   "execution_count": 50,
   "metadata": {
    "scrolled": true
   },
   "outputs": [
    {
     "name": "stdout",
     "output_type": "stream",
     "text": [
      "The score on VendorID before NULL table is: 0.88769\n",
      "The score on passenger_count before NULL table is: 0.04603\n",
      "The score on trip_distance before NULL table is: 0.00164\n",
      "The score on RatecodeID before NULL table is: 0.07903\n",
      "The score on PULocationID before NULL table is: 0.0325\n",
      "The score on DOLocationID before NULL table is: 0.03849\n",
      "The score on payment_type before NULL table is: 0.48331\n",
      "The score on fare_amount before NULL table is: 0.999\n",
      "The score on extra before NULL table is: 0.90263\n",
      "The score on mta_tax before NULL table is: 0.65634\n",
      "The score on tip_amount before NULL table is: 0.98352\n",
      "The score on tolls_amount before NULL table is: 0.95884\n",
      "The score on improvement_surcharge before NULL table is: 0.67862\n",
      "The score on total_amount before NULL table is: 0.99934\n",
      "The score on congestion_surcharge before NULL table is: 0.73557\n"
     ]
    }
   ],
   "source": [
    "for i in range(len(cols)):\n",
    "    y = df[cols[i]]\n",
    "    X_cols = []\n",
    "    for j in range(len(cols)):\n",
    "        if i != j:\n",
    "            X_cols.append(cols[j])\n",
    "    X = df[X_cols]\n",
    "    model.fit(X, y)\n",
    "    print('The score on {} before NULL table is: {}'.format(cols[i], round(model.score(X, y), 5)))"
   ]
  },
  {
   "cell_type": "code",
   "execution_count": 60,
   "metadata": {
    "scrolled": true
   },
   "outputs": [],
   "source": [
    "df = df[cols].join(truth_table)"
   ]
  },
  {
   "cell_type": "code",
   "execution_count": 90,
   "metadata": {},
   "outputs": [
    {
     "name": "stdout",
     "output_type": "stream",
     "text": [
      "['VendorID', 'passenger_count', 'trip_distance', 'RatecodeID', 'PULocationID', 'DOLocationID', 'payment_type', 'fare_amount', 'extra', 'mta_tax', 'tip_amount', 'tolls_amount', 'improvement_surcharge', 'total_amount', 'congestion_surcharge', 'V', 'p', 'R', 'p_type', 'Man_PU', 'Q_PU', 'BX_PU', 'BK_PU', 'SI_PU', 'Man_DO', 'Q_DO', 'BX_DO', 'BK_DO', 'SI_DO']\n"
     ]
    }
   ],
   "source": [
    "cols = cols + list(t_cols)\n",
    "print(cols)"
   ]
  },
  {
   "cell_type": "code",
   "execution_count": 92,
   "metadata": {
    "scrolled": true
   },
   "outputs": [
    {
     "name": "stdout",
     "output_type": "stream",
     "text": [
      "The score on VendorID after NULL table is: 0.88769\n",
      "The score on passenger_count after NULL table is: 0.04603\n",
      "The score on trip_distance after NULL table is: 0.00164\n",
      "The score on RatecodeID after NULL table is: 0.07903\n",
      "The score on PULocationID after NULL table is: 0.0325\n",
      "The score on DOLocationID after NULL table is: 0.03849\n",
      "The score on payment_type after NULL table is: 0.48331\n",
      "The score on fare_amount after NULL table is: 0.999\n",
      "The score on extra after NULL table is: 0.90263\n",
      "The score on mta_tax after NULL table is: 0.65634\n",
      "The score on tip_amount after NULL table is: 0.98352\n",
      "The score on tolls_amount after NULL table is: 0.95884\n",
      "The score on improvement_surcharge after NULL table is: 0.67862\n",
      "The score on total_amount after NULL table is: 0.99934\n",
      "The score on congestion_surcharge after NULL table is: 0.73557\n",
      "The score on V after NULL table is: 1.0\n",
      "The score on p after NULL table is: 1.0\n",
      "The score on R after NULL table is: 1.0\n",
      "The score on p_type after NULL table is: 1.0\n",
      "The score on Man_PU after NULL table is: 1.0\n",
      "The score on Q_PU after NULL table is: 1.0\n",
      "The score on BX_PU after NULL table is: 1.0\n",
      "The score on BK_PU after NULL table is: 1.0\n",
      "The score on SI_PU after NULL table is: 1.0\n",
      "The score on Man_DO after NULL table is: 1.0\n",
      "The score on Q_DO after NULL table is: 1.0\n",
      "The score on BX_DO after NULL table is: 1.0\n",
      "The score on BK_DO after NULL table is: 1.0\n",
      "The score on SI_DO after NULL table is: 1.0\n"
     ]
    }
   ],
   "source": [
    "for i in range(len(cols)):\n",
    "    y = df[cols[i]]\n",
    "    X_cols = []\n",
    "    for j in range(len(cols)):\n",
    "        if i != j:\n",
    "            X_cols.append(cols[j])\n",
    "    X = df[X_cols]\n",
    "    model.fit(X, y)\n",
    "    print('The score on {} after NULL table is: {}'.format(cols[i], round(model.score(X, y), 5)))"
   ]
  },
  {
   "cell_type": "code",
   "execution_count": 94,
   "metadata": {},
   "outputs": [],
   "source": [
    "# X_train, X_test, y_train, y_test = train_test_split(X, y, test_size=0.33, random_state=42)\n",
    "# Will save for the future."
   ]
  }
 ],
 "metadata": {
  "kernelspec": {
   "display_name": "Python 3",
   "language": "python",
   "name": "python3"
  },
  "language_info": {
   "codemirror_mode": {
    "name": "ipython",
    "version": 3
   },
   "file_extension": ".py",
   "mimetype": "text/x-python",
   "name": "python",
   "nbconvert_exporter": "python",
   "pygments_lexer": "ipython3",
   "version": "3.7.4"
  }
 },
 "nbformat": 4,
 "nbformat_minor": 2
}
