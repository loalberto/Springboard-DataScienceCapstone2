{
 "cells": [
  {
   "cell_type": "markdown",
   "metadata": {},
   "source": [
    "# Data Wrangling\n",
    "* [1 Data Collection](#1_Data_Collection)\n",
    "    * [1.1 Importing Taxi Trip Datasets](#1.1_Importing_Taxi_Trip_Datasets)\n",
    "    * [1.2 Concatinating Into One DataFrame](#1.2_Concatinating_Into_One_DataFrame)\n",
    "    * [1.3 Importing Additional Datasets](#1.3_Importing_Additional_Datasets)\n",
    "    * [1.4 Data Merging](#1.4_Data_Merging)\n",
    "    * [1.5 Applying Merge On Zones And Population](#1.5_Applying_Merge_On_All_Datasets)\n",
    "    * [1.6 Removing Whitespaces](#1.6_Removing_whitespaces)\n",
    "    * [1.7_Merging_on_boroughs](#1.7_Merging_on_boroughs)\n",
    "    * [1.8 Merging on Taxi Data](#1.8_Merging_On_Taxi_Data)\n",
    "* [2 Data Definition](#2_Data_Definition)\n",
    "    * [2.1 Data Columns](#2.1_Data_Columns)\n",
    "    * [2.2 Data Types](#2.2_Data_Types)\n",
    "    * [2.3 Descriptions_Of_Columns](#2.3_Descriptions_Of_Columns)\n",
    "    * [2.4 Counts_And_Percents](#2.4_Counts_And_Percents)\n",
    "* [3 Data Cleaning](#3_Data_Cleaning)\n",
    "    * [3.1 Filling NULL_Values](#3.1_Filling_NULL_values)\n",
    "    * [3.2_Checking_For_Duplicates](#3.2_Checking_For_Duplicates)\n",
    "    * [3.3_Finished_Cleaning](#3.3_Finished_Cleaning)"
   ]
  },
  {
   "cell_type": "markdown",
   "metadata": {},
   "source": [
    "# 1 Data Collection<a id='1_Data_Collection'></a>"
   ]
  },
  {
   "cell_type": "code",
   "execution_count": null,
   "metadata": {},
   "outputs": [],
   "source": [
    "import pandas as pd\n",
    "import csv\n",
    "from datetime import datetime"
   ]
  },
  {
   "cell_type": "markdown",
   "metadata": {},
   "source": [
    "# 1.1  Importing Taxi Trip Datasets <a id='1.1_Importing_Taxi_Trip_Datasets'></a>\n",
    "The data is stored in a dataset folder in my directory and the data for each month is stored in a separate file. I will be importing each file in its own dataframe and then concatinating them into one big dataframe."
   ]
  },
  {
   "cell_type": "code",
   "execution_count": null,
   "metadata": {
    "scrolled": true
   },
   "outputs": [],
   "source": [
    "# The data is stored in a dataset folder in my directory.\n",
    "# The data for each month is stored in a separate file.\n",
    "january_data = pd.read_csv('./datasets/yellow_tripdata_2020-01.csv')\n",
    "february_data = pd.read_csv('./datasets/yellow_tripdata_2020-02.csv')\n",
    "march_data = pd.read_csv('./datasets/yellow_tripdata_2020-03.csv')\n",
    "april_data = pd.read_csv('./datasets/yellow_tripdata_2020-04.csv')\n",
    "may_data = pd.read_csv('./datasets/yellow_tripdata_2020-05.csv')\n",
    "june_data = pd.read_csv('./datasets/yellow_tripdata_2020-06.csv')"
   ]
  },
  {
   "cell_type": "markdown",
   "metadata": {},
   "source": [
    "# 1.2 Concatinating Into One DataFrame <a id='1.2_Concatinating_Into_One_DataFrame'></a>\n",
    "The following cell will combine the entire taxi data into one big dataframe by concating all the monthly data that was imported/"
   ]
  },
  {
   "cell_type": "code",
   "execution_count": null,
   "metadata": {
    "scrolled": true
   },
   "outputs": [],
   "source": [
    "pandemic_taxi_data = january_data\n",
    "pandemic_taxi_data = pandemic_taxi_data.append([february_data, march_data, april_data,\n",
    "                                                may_data, june_data]).reset_index(drop=True)\n",
    "pandemic_taxi_data.tail()"
   ]
  },
  {
   "cell_type": "markdown",
   "metadata": {},
   "source": [
    "# 1.3 Importing Additional Datasets<a id='1.3_Importing_Additional_Datasets'></a>\n",
    "\n",
    "The next two datasets are the taxi zones, which holds data that lets us know where a LocationID is located in the city and a population dataset that lets us know how many people are in each borough."
   ]
  },
  {
   "cell_type": "code",
   "execution_count": null,
   "metadata": {
    "scrolled": true
   },
   "outputs": [],
   "source": [
    "taxi_zones = pd.read_csv('./datasets/taxi_zones.csv')\n",
    "taxi_zones.head(10)"
   ]
  },
  {
   "cell_type": "code",
   "execution_count": null,
   "metadata": {
    "scrolled": true
   },
   "outputs": [],
   "source": [
    "borough_population = pd.read_csv('./datasets/2020_borough_population.csv')\n",
    "borough_population"
   ]
  },
  {
   "cell_type": "markdown",
   "metadata": {},
   "source": [
    "# 1.4. Data Merging <a id='1.4_Data_Merging'></a>"
   ]
  },
  {
   "cell_type": "markdown",
   "metadata": {},
   "source": [
    "# 1.5 Applying Merge On All Datasets <a id='1.5_Applying_Merge_On_All_Datasets'></a>\n",
    "The next cells will focus on merging taxi_zones and borough_population based off their boroughs. The idea is to have the columns merge and have a population entry for each borough entry in taxi_zones."
   ]
  },
  {
   "cell_type": "code",
   "execution_count": null,
   "metadata": {},
   "outputs": [],
   "source": [
    "borough_population['Borough'].unique()"
   ]
  },
  {
   "cell_type": "code",
   "execution_count": null,
   "metadata": {
    "scrolled": true
   },
   "outputs": [],
   "source": [
    "taxi_zones['borough'].unique()"
   ]
  },
  {
   "cell_type": "markdown",
   "metadata": {},
   "source": [
    "# 1.6 Removing Whitespaces <a id = '1.6_Removing_whitespaces'></a>\n",
    "It seems that they have the merging conditions we want but the values of borough_population has their row values with extra whitespace. Data cleaning will need to be used before merging them"
   ]
  },
  {
   "cell_type": "code",
   "execution_count": 8,
   "metadata": {
    "scrolled": false
   },
   "outputs": [
    {
     "data": {
      "text/plain": [
       "array(['New York City', 'Bronx', 'Brooklyn', 'Manhattan', 'Queens',\n",
       "       'Staten Island'], dtype=object)"
      ]
     },
     "execution_count": 8,
     "metadata": {},
     "output_type": "execute_result"
    }
   ],
   "source": [
    "# In order to elimimate whitespaces, we must convert the values in the 'Borough' column to strings,\n",
    "# then we can strip the whitespaces out.\n",
    "borough_population['Borough'] = borough_population['Borough'].str.strip()\n",
    "# The borough population data needs to remove the values that do not have the total population of a borough\n",
    "borough_population = borough_population.loc[borough_population['Age Group'] == 'Total']\n",
    "borough_population['Borough'].unique()"
   ]
  },
  {
   "cell_type": "markdown",
   "metadata": {},
   "source": [
    "# 1.7 Merging on boroughs <a id='1.7_Merging_on_boroughs'></a>\n",
    "The next step is to merge taxi_zones and borough_population on their 'borough's. The only columns that will be needed from the taxis data is 'Borough' and '2020'."
   ]
  },
  {
   "cell_type": "code",
   "execution_count": 9,
   "metadata": {
    "scrolled": false
   },
   "outputs": [
    {
     "data": {
      "text/html": [
       "<div>\n",
       "<style scoped>\n",
       "    .dataframe tbody tr th:only-of-type {\n",
       "        vertical-align: middle;\n",
       "    }\n",
       "\n",
       "    .dataframe tbody tr th {\n",
       "        vertical-align: top;\n",
       "    }\n",
       "\n",
       "    .dataframe thead th {\n",
       "        text-align: right;\n",
       "    }\n",
       "</style>\n",
       "<table border=\"1\" class=\"dataframe\">\n",
       "  <thead>\n",
       "    <tr style=\"text-align: right;\">\n",
       "      <th></th>\n",
       "      <th>OBJECTID</th>\n",
       "      <th>Shape_Leng</th>\n",
       "      <th>the_geom</th>\n",
       "      <th>Shape_Area</th>\n",
       "      <th>zone</th>\n",
       "      <th>LocationID</th>\n",
       "      <th>borough</th>\n",
       "      <th>Borough</th>\n",
       "      <th>2020</th>\n",
       "    </tr>\n",
       "  </thead>\n",
       "  <tbody>\n",
       "    <tr>\n",
       "      <th>0</th>\n",
       "      <td>1</td>\n",
       "      <td>0.116357</td>\n",
       "      <td>MULTIPOLYGON (((-74.18445299999996 40.69499599...</td>\n",
       "      <td>0.000782</td>\n",
       "      <td>Newark Airport</td>\n",
       "      <td>1</td>\n",
       "      <td>EWR</td>\n",
       "      <td>NaN</td>\n",
       "      <td>NaN</td>\n",
       "    </tr>\n",
       "    <tr>\n",
       "      <th>1</th>\n",
       "      <td>2</td>\n",
       "      <td>0.433470</td>\n",
       "      <td>MULTIPOLYGON (((-73.82337597260663 40.63898704...</td>\n",
       "      <td>0.004866</td>\n",
       "      <td>Jamaica Bay</td>\n",
       "      <td>2</td>\n",
       "      <td>Queens</td>\n",
       "      <td>Queens</td>\n",
       "      <td>2330295.0</td>\n",
       "    </tr>\n",
       "    <tr>\n",
       "      <th>2</th>\n",
       "      <td>3</td>\n",
       "      <td>0.084341</td>\n",
       "      <td>MULTIPOLYGON (((-73.84792614099985 40.87134223...</td>\n",
       "      <td>0.000314</td>\n",
       "      <td>Allerton/Pelham Gardens</td>\n",
       "      <td>3</td>\n",
       "      <td>Bronx</td>\n",
       "      <td>Bronx</td>\n",
       "      <td>1446788.0</td>\n",
       "    </tr>\n",
       "    <tr>\n",
       "      <th>3</th>\n",
       "      <td>4</td>\n",
       "      <td>0.043567</td>\n",
       "      <td>MULTIPOLYGON (((-73.97177410965318 40.72582128...</td>\n",
       "      <td>0.000112</td>\n",
       "      <td>Alphabet City</td>\n",
       "      <td>4</td>\n",
       "      <td>Manhattan</td>\n",
       "      <td>Manhattan</td>\n",
       "      <td>1638281.0</td>\n",
       "    </tr>\n",
       "    <tr>\n",
       "      <th>4</th>\n",
       "      <td>5</td>\n",
       "      <td>0.092146</td>\n",
       "      <td>MULTIPOLYGON (((-74.17421738099989 40.56256808...</td>\n",
       "      <td>0.000498</td>\n",
       "      <td>Arden Heights</td>\n",
       "      <td>5</td>\n",
       "      <td>Staten Island</td>\n",
       "      <td>Staten Island</td>\n",
       "      <td>487155.0</td>\n",
       "    </tr>\n",
       "  </tbody>\n",
       "</table>\n",
       "</div>"
      ],
      "text/plain": [
       "   OBJECTID  Shape_Leng                                           the_geom  \\\n",
       "0         1    0.116357  MULTIPOLYGON (((-74.18445299999996 40.69499599...   \n",
       "1         2    0.433470  MULTIPOLYGON (((-73.82337597260663 40.63898704...   \n",
       "2         3    0.084341  MULTIPOLYGON (((-73.84792614099985 40.87134223...   \n",
       "3         4    0.043567  MULTIPOLYGON (((-73.97177410965318 40.72582128...   \n",
       "4         5    0.092146  MULTIPOLYGON (((-74.17421738099989 40.56256808...   \n",
       "\n",
       "   Shape_Area                     zone  LocationID        borough  \\\n",
       "0    0.000782           Newark Airport           1            EWR   \n",
       "1    0.004866              Jamaica Bay           2         Queens   \n",
       "2    0.000314  Allerton/Pelham Gardens           3          Bronx   \n",
       "3    0.000112            Alphabet City           4      Manhattan   \n",
       "4    0.000498            Arden Heights           5  Staten Island   \n",
       "\n",
       "         Borough       2020  \n",
       "0            NaN        NaN  \n",
       "1         Queens  2330295.0  \n",
       "2          Bronx  1446788.0  \n",
       "3      Manhattan  1638281.0  \n",
       "4  Staten Island   487155.0  "
      ]
     },
     "execution_count": 9,
     "metadata": {},
     "output_type": "execute_result"
    }
   ],
   "source": [
    "# Next step, we merge. We will merge them based off their 'borough' columns.\n",
    "# Keeping the keys in order of the taxi_zones.\n",
    "taxi_zones = taxi_zones.merge(borough_population[['Borough','2020']], left_on='borough',\n",
    "                              right_on='Borough', how='left')\n",
    "taxi_zones.head()"
   ]
  },
  {
   "cell_type": "markdown",
   "metadata": {},
   "source": [
    "# 1.8 Merging on Taxi ID <a id='1.8_Merging_On_Taxi_Data'></a>\n",
    "\n",
    "The final merges consists of bringing the LocationID, zones and Borough into the taxi data table."
   ]
  },
  {
   "cell_type": "code",
   "execution_count": 10,
   "metadata": {},
   "outputs": [],
   "source": [
    "# The next step is to merge the taxi ride data into the taxi zones\n",
    "# To avoid \n",
    "pandemic_taxi_data = pandemic_taxi_data.merge(taxi_zones[['zone', 'LocationID', 'Borough']],\n",
    "                                              left_on=['PULocationID'],\n",
    "                                              right_on=['LocationID'])\n",
    "pandemic_taxi_data = pandemic_taxi_data.rename(columns={'zone': 'zone_PU',\n",
    "                                  'LocationID': 'LocationID_PU',\n",
    "                                  'Borough': 'Borough_PU'})"
   ]
  },
  {
   "cell_type": "code",
   "execution_count": 11,
   "metadata": {
    "scrolled": false
   },
   "outputs": [
    {
     "data": {
      "text/html": [
       "<div>\n",
       "<style scoped>\n",
       "    .dataframe tbody tr th:only-of-type {\n",
       "        vertical-align: middle;\n",
       "    }\n",
       "\n",
       "    .dataframe tbody tr th {\n",
       "        vertical-align: top;\n",
       "    }\n",
       "\n",
       "    .dataframe thead th {\n",
       "        text-align: right;\n",
       "    }\n",
       "</style>\n",
       "<table border=\"1\" class=\"dataframe\">\n",
       "  <thead>\n",
       "    <tr style=\"text-align: right;\">\n",
       "      <th></th>\n",
       "      <th>VendorID</th>\n",
       "      <th>tpep_pickup_datetime</th>\n",
       "      <th>tpep_dropoff_datetime</th>\n",
       "      <th>passenger_count</th>\n",
       "      <th>trip_distance</th>\n",
       "      <th>RatecodeID</th>\n",
       "      <th>store_and_fwd_flag</th>\n",
       "      <th>PULocationID</th>\n",
       "      <th>DOLocationID</th>\n",
       "      <th>payment_type</th>\n",
       "      <th>...</th>\n",
       "      <th>tolls_amount</th>\n",
       "      <th>improvement_surcharge</th>\n",
       "      <th>total_amount</th>\n",
       "      <th>congestion_surcharge</th>\n",
       "      <th>zone_PU</th>\n",
       "      <th>LocationID_PU</th>\n",
       "      <th>Borough_PU</th>\n",
       "      <th>zone_DO</th>\n",
       "      <th>LocationID_DO</th>\n",
       "      <th>Borough_DO</th>\n",
       "    </tr>\n",
       "  </thead>\n",
       "  <tbody>\n",
       "    <tr>\n",
       "      <th>0</th>\n",
       "      <td>1.0</td>\n",
       "      <td>2020-01-01 00:28:15</td>\n",
       "      <td>2020-01-01 00:33:03</td>\n",
       "      <td>1.0</td>\n",
       "      <td>1.20</td>\n",
       "      <td>1.0</td>\n",
       "      <td>N</td>\n",
       "      <td>238</td>\n",
       "      <td>239</td>\n",
       "      <td>1.0</td>\n",
       "      <td>...</td>\n",
       "      <td>0.0</td>\n",
       "      <td>0.3</td>\n",
       "      <td>11.27</td>\n",
       "      <td>2.5</td>\n",
       "      <td>Upper West Side North</td>\n",
       "      <td>238</td>\n",
       "      <td>Manhattan</td>\n",
       "      <td>Upper West Side South</td>\n",
       "      <td>239</td>\n",
       "      <td>Manhattan</td>\n",
       "    </tr>\n",
       "    <tr>\n",
       "      <th>1</th>\n",
       "      <td>2.0</td>\n",
       "      <td>2020-01-01 00:24:22</td>\n",
       "      <td>2020-01-01 00:25:54</td>\n",
       "      <td>1.0</td>\n",
       "      <td>0.56</td>\n",
       "      <td>1.0</td>\n",
       "      <td>N</td>\n",
       "      <td>238</td>\n",
       "      <td>239</td>\n",
       "      <td>1.0</td>\n",
       "      <td>...</td>\n",
       "      <td>0.0</td>\n",
       "      <td>0.3</td>\n",
       "      <td>9.00</td>\n",
       "      <td>2.5</td>\n",
       "      <td>Upper West Side North</td>\n",
       "      <td>238</td>\n",
       "      <td>Manhattan</td>\n",
       "      <td>Upper West Side South</td>\n",
       "      <td>239</td>\n",
       "      <td>Manhattan</td>\n",
       "    </tr>\n",
       "    <tr>\n",
       "      <th>2</th>\n",
       "      <td>2.0</td>\n",
       "      <td>2020-01-01 00:46:46</td>\n",
       "      <td>2020-01-01 00:49:17</td>\n",
       "      <td>1.0</td>\n",
       "      <td>0.62</td>\n",
       "      <td>1.0</td>\n",
       "      <td>N</td>\n",
       "      <td>238</td>\n",
       "      <td>239</td>\n",
       "      <td>1.0</td>\n",
       "      <td>...</td>\n",
       "      <td>0.0</td>\n",
       "      <td>0.3</td>\n",
       "      <td>9.30</td>\n",
       "      <td>2.5</td>\n",
       "      <td>Upper West Side North</td>\n",
       "      <td>238</td>\n",
       "      <td>Manhattan</td>\n",
       "      <td>Upper West Side South</td>\n",
       "      <td>239</td>\n",
       "      <td>Manhattan</td>\n",
       "    </tr>\n",
       "    <tr>\n",
       "      <th>3</th>\n",
       "      <td>1.0</td>\n",
       "      <td>2020-01-01 00:17:53</td>\n",
       "      <td>2020-01-01 00:22:47</td>\n",
       "      <td>1.0</td>\n",
       "      <td>0.80</td>\n",
       "      <td>1.0</td>\n",
       "      <td>Y</td>\n",
       "      <td>238</td>\n",
       "      <td>239</td>\n",
       "      <td>1.0</td>\n",
       "      <td>...</td>\n",
       "      <td>0.0</td>\n",
       "      <td>0.3</td>\n",
       "      <td>11.15</td>\n",
       "      <td>2.5</td>\n",
       "      <td>Upper West Side North</td>\n",
       "      <td>238</td>\n",
       "      <td>Manhattan</td>\n",
       "      <td>Upper West Side South</td>\n",
       "      <td>239</td>\n",
       "      <td>Manhattan</td>\n",
       "    </tr>\n",
       "    <tr>\n",
       "      <th>4</th>\n",
       "      <td>2.0</td>\n",
       "      <td>2020-01-01 00:49:45</td>\n",
       "      <td>2020-01-01 00:54:12</td>\n",
       "      <td>1.0</td>\n",
       "      <td>0.86</td>\n",
       "      <td>1.0</td>\n",
       "      <td>N</td>\n",
       "      <td>238</td>\n",
       "      <td>239</td>\n",
       "      <td>1.0</td>\n",
       "      <td>...</td>\n",
       "      <td>0.0</td>\n",
       "      <td>0.3</td>\n",
       "      <td>11.16</td>\n",
       "      <td>2.5</td>\n",
       "      <td>Upper West Side North</td>\n",
       "      <td>238</td>\n",
       "      <td>Manhattan</td>\n",
       "      <td>Upper West Side South</td>\n",
       "      <td>239</td>\n",
       "      <td>Manhattan</td>\n",
       "    </tr>\n",
       "  </tbody>\n",
       "</table>\n",
       "<p>5 rows × 24 columns</p>\n",
       "</div>"
      ],
      "text/plain": [
       "   VendorID tpep_pickup_datetime tpep_dropoff_datetime  passenger_count  \\\n",
       "0       1.0  2020-01-01 00:28:15   2020-01-01 00:33:03              1.0   \n",
       "1       2.0  2020-01-01 00:24:22   2020-01-01 00:25:54              1.0   \n",
       "2       2.0  2020-01-01 00:46:46   2020-01-01 00:49:17              1.0   \n",
       "3       1.0  2020-01-01 00:17:53   2020-01-01 00:22:47              1.0   \n",
       "4       2.0  2020-01-01 00:49:45   2020-01-01 00:54:12              1.0   \n",
       "\n",
       "   trip_distance  RatecodeID store_and_fwd_flag  PULocationID  DOLocationID  \\\n",
       "0           1.20         1.0                  N           238           239   \n",
       "1           0.56         1.0                  N           238           239   \n",
       "2           0.62         1.0                  N           238           239   \n",
       "3           0.80         1.0                  Y           238           239   \n",
       "4           0.86         1.0                  N           238           239   \n",
       "\n",
       "   payment_type  ...  tolls_amount  improvement_surcharge  total_amount  \\\n",
       "0           1.0  ...           0.0                    0.3         11.27   \n",
       "1           1.0  ...           0.0                    0.3          9.00   \n",
       "2           1.0  ...           0.0                    0.3          9.30   \n",
       "3           1.0  ...           0.0                    0.3         11.15   \n",
       "4           1.0  ...           0.0                    0.3         11.16   \n",
       "\n",
       "   congestion_surcharge                zone_PU  LocationID_PU  Borough_PU  \\\n",
       "0                   2.5  Upper West Side North            238   Manhattan   \n",
       "1                   2.5  Upper West Side North            238   Manhattan   \n",
       "2                   2.5  Upper West Side North            238   Manhattan   \n",
       "3                   2.5  Upper West Side North            238   Manhattan   \n",
       "4                   2.5  Upper West Side North            238   Manhattan   \n",
       "\n",
       "                 zone_DO LocationID_DO  Borough_DO  \n",
       "0  Upper West Side South           239   Manhattan  \n",
       "1  Upper West Side South           239   Manhattan  \n",
       "2  Upper West Side South           239   Manhattan  \n",
       "3  Upper West Side South           239   Manhattan  \n",
       "4  Upper West Side South           239   Manhattan  \n",
       "\n",
       "[5 rows x 24 columns]"
      ]
     },
     "execution_count": 11,
     "metadata": {},
     "output_type": "execute_result"
    }
   ],
   "source": [
    "pandemic_taxi_data = pandemic_taxi_data.merge(taxi_zones[['zone', 'LocationID', 'Borough']],\n",
    "                                             left_on=['DOLocationID'],\n",
    "                                             right_on=['LocationID'])\n",
    "pandemic_taxi_data = pandemic_taxi_data.rename(columns={'zone': 'zone_DO',\n",
    "                                                       'LocationID': 'LocationID_DO',\n",
    "                                                       'Borough': 'Borough_DO'})\n",
    "pandemic_taxi_data.head()"
   ]
  },
  {
   "cell_type": "markdown",
   "metadata": {},
   "source": [
    "# 1.9 Creating Dummy Variblaes <a id= '1.9Creating_Dummy_Variables'></a>\n",
    "\n",
    "This will create dummy variables for the Borough_PU and Borough_DP."
   ]
  },
  {
   "cell_type": "code",
   "execution_count": 12,
   "metadata": {},
   "outputs": [],
   "source": [
    "Borough_PU = pandemic_taxi_data['Borough_PU']\n",
    "Borough_DO = pandemic_taxi_data['Borough_DO']\n",
    "\n",
    "PU_dummies = pd.get_dummies(Borough_PU)\n",
    "DO_dummies = pd.get_dummies(Borough_DO)"
   ]
  },
  {
   "cell_type": "code",
   "execution_count": 13,
   "metadata": {},
   "outputs": [],
   "source": [
    "PU_dummies.columns = ['Bronx_PU', 'Brooklyn_PU', 'Manhattan_PU', 'Queens_PU', 'Staten_Island_PU']\n",
    "DO_dummies.columns = ['Bronx_DO', 'Brooklyn_DO', 'Manhattan_DO', 'Queens_DO', 'Staten_Island_DO']"
   ]
  },
  {
   "cell_type": "code",
   "execution_count": 14,
   "metadata": {
    "scrolled": true
   },
   "outputs": [],
   "source": [
    "pandemic_taxi_data = pandemic_taxi_data.join(PU_dummies)\n",
    "pandemic_taxi_data = pandemic_taxi_data.join(DO_dummies)"
   ]
  },
  {
   "cell_type": "markdown",
   "metadata": {},
   "source": [
    "# 2. Data Definition <a id='2_Data_Definition'></a>"
   ]
  },
  {
   "cell_type": "markdown",
   "metadata": {},
   "source": [
    "The following cells will begin to explore what the data holds and what the data looks like."
   ]
  },
  {
   "cell_type": "markdown",
   "metadata": {},
   "source": [
    "# 2.1 Data Columns <a id='2.1_Data_Columns'></a>\n",
    "\n",
    "The names of the Data Columns that are present in the data table."
   ]
  },
  {
   "cell_type": "code",
   "execution_count": 15,
   "metadata": {
    "scrolled": true
   },
   "outputs": [
    {
     "data": {
      "text/plain": [
       "34"
      ]
     },
     "execution_count": 15,
     "metadata": {},
     "output_type": "execute_result"
    }
   ],
   "source": [
    "len(pandemic_taxi_data.columns)"
   ]
  },
  {
   "cell_type": "code",
   "execution_count": 16,
   "metadata": {
    "scrolled": false
   },
   "outputs": [
    {
     "name": "stdout",
     "output_type": "stream",
     "text": [
      "1. VendorID\n",
      "2. tpep_pickup_datetime\n",
      "3. tpep_dropoff_datetime\n",
      "4. passenger_count\n",
      "5. trip_distance\n",
      "6. RatecodeID\n",
      "7. store_and_fwd_flag\n",
      "8. PULocationID\n",
      "9. DOLocationID\n",
      "10. payment_type\n",
      "11. fare_amount\n",
      "12. extra\n",
      "13. mta_tax\n",
      "14. tip_amount\n",
      "15. tolls_amount\n",
      "16. improvement_surcharge\n",
      "17. total_amount\n",
      "18. congestion_surcharge\n",
      "19. zone_PU\n",
      "20. LocationID_PU\n",
      "21. Borough_PU\n",
      "22. zone_DO\n",
      "23. LocationID_DO\n",
      "24. Borough_DO\n",
      "25. Bronx_PU\n",
      "26. Brooklyn_PU\n",
      "27. Manhattan_PU\n",
      "28. Queens_PU\n",
      "29. Staten_Island_PU\n",
      "30. Bronx_DO\n",
      "31. Brooklyn_DO\n",
      "32. Manhattan_DO\n",
      "33. Queens_DO\n",
      "34. Staten_Island_DO\n"
     ]
    }
   ],
   "source": [
    "for i in range(len(pandemic_taxi_data.columns)):\n",
    "    print('{}. {}'.format(i + 1, pandemic_taxi_data.columns[i]))"
   ]
  },
  {
   "cell_type": "markdown",
   "metadata": {},
   "source": [
    "# Do your column names correspond to what those columns store? \n",
    "\n",
    "The column names appeaer to each describe what each column holds. Each column is described as: \n",
    "1. VendorID: A code indicating the TPEP provider that provided the record. 1= Creative Mobile Technologies, LLC; 2= VeriFone Inc. : The date and time when the meter was engaged.\n",
    "2. tpep_pickup_datetime: The date and time when the meter was engaged.\n",
    "3. tpep_dropoff_datetime: The date and time when the meter was disengaged.\n",
    "4. passenger_count: The number of passengers in the vehicle. This is a driver-entered value.\n",
    "5. trip_distance: The elapsed trip distance in miles reported by the taximeter.\n",
    "6. RatecodeID:The final rate code in effect at the end of the trip. 1= Standard rate 2=JFK 3=Newark 4=Nassau or Westchester 5=Negotiated fare 6=Group ride\n",
    "7. store_and_fwd_flag: This flag indicates whether the trip record was held in vehicle memory before sending to the vendor, aka “store and forward,” because the vehicle did not have a connection to the server. Y= store and forward trip N= not a store and forward trip\n",
    "8. PULocationID: TLC Taxi Zone in which the taximeter was engaged\n",
    "9. DOLocationID: TLC Taxi Zone in which the taximeter was disengaged\n",
    "10. payment_type: A numeric code signifying how the passenger paid for the trip. 1= Credit card 2= Cash 3= No charge 4= Dispute 5= Unknown 6= Voided trip\n",
    "11. fare_amount: The time-and-distance fare calculated by the meter.\n",
    "12. extra: Miscellaneous extras and surcharges. Currently, this only includes the $0.50 and $1 rush hour and overnight charges.\n",
    "13. mta_tax: 0.50 cents MTA tax that is automatically triggered based on the metered rate in use.\n",
    "14. tip_amount: Tip amount – This field is automatically populated for credit card tips. Cash tips are not included.\n",
    "15. tolls_amount: Total amount of all tolls paid in trip.\n",
    "16. improvement_surcharge: 0.30 cents improvement surcharge assessed trips at the flag drop. The improvement surcharge began being levied in 2015.\n",
    "17. total_amount: The total amount charged to passengers. Does not include cash tips.\n",
    "18. congestion_surcharge: \n",
    "19. zone_PU: The area zone of where the pick up location was.\n",
    "20. LocationID_PU: The taxi zone number of where the pick up location was.\n",
    "21. Borough_PU: The borough of the pick up location.\n",
    "22. zone_DO: The area zone of where the pick up location was.\n",
    "23. LocationID_DO: The taxi zone number of where the pick up location was.\n",
    "24. Borough_DO: The borough of the pick up location."
   ]
  },
  {
   "cell_type": "markdown",
   "metadata": {},
   "source": [
    "# 2.2 Data Types <a id='2.2_Data_Types'></a>\n",
    "\n",
    "The next part is going to explore what the data types of each column. This will help gain a better understanding of what we may need to clean and how to clean it."
   ]
  },
  {
   "cell_type": "code",
   "execution_count": 17,
   "metadata": {
    "scrolled": false
   },
   "outputs": [
    {
     "data": {
      "text/plain": [
       "VendorID                 float64\n",
       "tpep_pickup_datetime      object\n",
       "tpep_dropoff_datetime     object\n",
       "passenger_count          float64\n",
       "trip_distance            float64\n",
       "RatecodeID               float64\n",
       "store_and_fwd_flag        object\n",
       "PULocationID               int64\n",
       "DOLocationID               int64\n",
       "payment_type             float64\n",
       "fare_amount              float64\n",
       "extra                    float64\n",
       "mta_tax                  float64\n",
       "tip_amount               float64\n",
       "tolls_amount             float64\n",
       "improvement_surcharge    float64\n",
       "total_amount             float64\n",
       "congestion_surcharge     float64\n",
       "zone_PU                   object\n",
       "LocationID_PU              int64\n",
       "Borough_PU                object\n",
       "zone_DO                   object\n",
       "LocationID_DO              int64\n",
       "Borough_DO                object\n",
       "Bronx_PU                   uint8\n",
       "Brooklyn_PU                uint8\n",
       "Manhattan_PU               uint8\n",
       "Queens_PU                  uint8\n",
       "Staten_Island_PU           uint8\n",
       "Bronx_DO                   uint8\n",
       "Brooklyn_DO                uint8\n",
       "Manhattan_DO               uint8\n",
       "Queens_DO                  uint8\n",
       "Staten_Island_DO           uint8\n",
       "dtype: object"
      ]
     },
     "execution_count": 17,
     "metadata": {},
     "output_type": "execute_result"
    }
   ],
   "source": [
    "pandemic_taxi_data.dtypes"
   ]
  },
  {
   "cell_type": "markdown",
   "metadata": {},
   "source": [
    "The .dtypes method shows and the datatypes of 'store_and_fwd_flag', 'PULocationID', 'DOLocationID', 'payment_type',\n",
    "'zone_PU', 'LocationID_PU', 'Borough_PU', 'zone_DO','LocationID_DO', and 'Borough_DO' are supposed to be categorical but are marked as in64 objects. The next cells will convert the categorical columns to a category object."
   ]
  },
  {
   "cell_type": "code",
   "execution_count": 18,
   "metadata": {},
   "outputs": [],
   "source": [
    "# Iterate through the columns and change them into category types\n",
    "list_of_categorical = ['store_and_fwd_flag', 'PULocationID', 'DOLocationID', 'payment_type',\n",
    "                      'zone_PU', 'LocationID_PU', 'Borough_PU',\n",
    "                      'zone_DO', 'LocationID_DO', 'Borough_DO']\n",
    "for item in list_of_categorical:\n",
    "    pandemic_taxi_data[item] = pandemic_taxi_data[item].astype('category')"
   ]
  },
  {
   "cell_type": "code",
   "execution_count": 19,
   "metadata": {},
   "outputs": [
    {
     "data": {
      "text/plain": [
       "VendorID                  float64\n",
       "tpep_pickup_datetime       object\n",
       "tpep_dropoff_datetime      object\n",
       "passenger_count           float64\n",
       "trip_distance             float64\n",
       "RatecodeID                float64\n",
       "store_and_fwd_flag       category\n",
       "PULocationID             category\n",
       "DOLocationID             category\n",
       "payment_type             category\n",
       "fare_amount               float64\n",
       "extra                     float64\n",
       "mta_tax                   float64\n",
       "tip_amount                float64\n",
       "tolls_amount              float64\n",
       "improvement_surcharge     float64\n",
       "total_amount              float64\n",
       "congestion_surcharge      float64\n",
       "zone_PU                  category\n",
       "LocationID_PU            category\n",
       "Borough_PU               category\n",
       "zone_DO                  category\n",
       "LocationID_DO            category\n",
       "Borough_DO               category\n",
       "Bronx_PU                    uint8\n",
       "Brooklyn_PU                 uint8\n",
       "Manhattan_PU                uint8\n",
       "Queens_PU                   uint8\n",
       "Staten_Island_PU            uint8\n",
       "Bronx_DO                    uint8\n",
       "Brooklyn_DO                 uint8\n",
       "Manhattan_DO                uint8\n",
       "Queens_DO                   uint8\n",
       "Staten_Island_DO            uint8\n",
       "dtype: object"
      ]
     },
     "execution_count": 19,
     "metadata": {},
     "output_type": "execute_result"
    }
   ],
   "source": [
    "pandemic_taxi_data.dtypes"
   ]
  },
  {
   "cell_type": "markdown",
   "metadata": {},
   "source": [
    "The appropriate datatypes have been changed from int64s into categorical data types."
   ]
  },
  {
   "cell_type": "markdown",
   "metadata": {},
   "source": [
    "# 2.3 Description Of Columns <a id= '2.3_Descriptions_Of_Columns'></a>\n",
    "\n",
    "The next cell will describe what the columns statistical values look like. It'll give us an idea of how the data is behaving."
   ]
  },
  {
   "cell_type": "code",
   "execution_count": 20,
   "metadata": {},
   "outputs": [
    {
     "data": {
      "text/html": [
       "<div>\n",
       "<style scoped>\n",
       "    .dataframe tbody tr th:only-of-type {\n",
       "        vertical-align: middle;\n",
       "    }\n",
       "\n",
       "    .dataframe tbody tr th {\n",
       "        vertical-align: top;\n",
       "    }\n",
       "\n",
       "    .dataframe thead th {\n",
       "        text-align: right;\n",
       "    }\n",
       "</style>\n",
       "<table border=\"1\" class=\"dataframe\">\n",
       "  <thead>\n",
       "    <tr style=\"text-align: right;\">\n",
       "      <th></th>\n",
       "      <th>VendorID</th>\n",
       "      <th>passenger_count</th>\n",
       "      <th>trip_distance</th>\n",
       "      <th>RatecodeID</th>\n",
       "      <th>fare_amount</th>\n",
       "      <th>extra</th>\n",
       "      <th>mta_tax</th>\n",
       "      <th>tip_amount</th>\n",
       "      <th>tolls_amount</th>\n",
       "      <th>improvement_surcharge</th>\n",
       "      <th>...</th>\n",
       "      <th>Bronx_PU</th>\n",
       "      <th>Brooklyn_PU</th>\n",
       "      <th>Manhattan_PU</th>\n",
       "      <th>Queens_PU</th>\n",
       "      <th>Staten_Island_PU</th>\n",
       "      <th>Bronx_DO</th>\n",
       "      <th>Brooklyn_DO</th>\n",
       "      <th>Manhattan_DO</th>\n",
       "      <th>Queens_DO</th>\n",
       "      <th>Staten_Island_DO</th>\n",
       "    </tr>\n",
       "  </thead>\n",
       "  <tbody>\n",
       "    <tr>\n",
       "      <th>count</th>\n",
       "      <td>1.639500e+07</td>\n",
       "      <td>1.639500e+07</td>\n",
       "      <td>1.667322e+07</td>\n",
       "      <td>1.639500e+07</td>\n",
       "      <td>1.667322e+07</td>\n",
       "      <td>1.667322e+07</td>\n",
       "      <td>1.667322e+07</td>\n",
       "      <td>1.667322e+07</td>\n",
       "      <td>1.667322e+07</td>\n",
       "      <td>1.667322e+07</td>\n",
       "      <td>...</td>\n",
       "      <td>1.667322e+07</td>\n",
       "      <td>1.667322e+07</td>\n",
       "      <td>1.667322e+07</td>\n",
       "      <td>1.667322e+07</td>\n",
       "      <td>1.667322e+07</td>\n",
       "      <td>1.667322e+07</td>\n",
       "      <td>1.667322e+07</td>\n",
       "      <td>1.667322e+07</td>\n",
       "      <td>1.667322e+07</td>\n",
       "      <td>1.667322e+07</td>\n",
       "    </tr>\n",
       "    <tr>\n",
       "      <th>mean</th>\n",
       "      <td>1.664669e+00</td>\n",
       "      <td>1.491998e+00</td>\n",
       "      <td>3.073729e+00</td>\n",
       "      <td>1.043600e+00</td>\n",
       "      <td>1.253740e+01</td>\n",
       "      <td>1.133242e+00</td>\n",
       "      <td>5.230166e-01</td>\n",
       "      <td>2.132019e+00</td>\n",
       "      <td>3.209923e-01</td>\n",
       "      <td>2.979066e-01</td>\n",
       "      <td>...</td>\n",
       "      <td>3.664799e-03</td>\n",
       "      <td>1.332784e-02</td>\n",
       "      <td>9.207748e-01</td>\n",
       "      <td>6.203829e-02</td>\n",
       "      <td>1.057984e-04</td>\n",
       "      <td>9.930956e-03</td>\n",
       "      <td>4.272804e-02</td>\n",
       "      <td>8.926352e-01</td>\n",
       "      <td>5.258733e-02</td>\n",
       "      <td>3.726335e-04</td>\n",
       "    </tr>\n",
       "    <tr>\n",
       "      <th>std</th>\n",
       "      <td>4.721061e-01</td>\n",
       "      <td>1.136433e+00</td>\n",
       "      <td>1.656767e+02</td>\n",
       "      <td>6.765441e-01</td>\n",
       "      <td>1.954438e+02</td>\n",
       "      <td>1.224568e+02</td>\n",
       "      <td>1.224504e+02</td>\n",
       "      <td>2.600147e+00</td>\n",
       "      <td>1.635388e+00</td>\n",
       "      <td>3.473591e-02</td>\n",
       "      <td>...</td>\n",
       "      <td>6.042656e-02</td>\n",
       "      <td>1.146744e-01</td>\n",
       "      <td>2.700899e-01</td>\n",
       "      <td>2.412251e-01</td>\n",
       "      <td>1.028529e-02</td>\n",
       "      <td>9.915812e-02</td>\n",
       "      <td>2.022433e-01</td>\n",
       "      <td>3.095764e-01</td>\n",
       "      <td>2.232082e-01</td>\n",
       "      <td>1.930012e-02</td>\n",
       "    </tr>\n",
       "    <tr>\n",
       "      <th>min</th>\n",
       "      <td>1.000000e+00</td>\n",
       "      <td>0.000000e+00</td>\n",
       "      <td>-3.062000e+01</td>\n",
       "      <td>1.000000e+00</td>\n",
       "      <td>-1.259000e+03</td>\n",
       "      <td>-2.700000e+01</td>\n",
       "      <td>-5.000000e-01</td>\n",
       "      <td>-4.932200e+02</td>\n",
       "      <td>-4.000000e+01</td>\n",
       "      <td>-3.000000e-01</td>\n",
       "      <td>...</td>\n",
       "      <td>0.000000e+00</td>\n",
       "      <td>0.000000e+00</td>\n",
       "      <td>0.000000e+00</td>\n",
       "      <td>0.000000e+00</td>\n",
       "      <td>0.000000e+00</td>\n",
       "      <td>0.000000e+00</td>\n",
       "      <td>0.000000e+00</td>\n",
       "      <td>0.000000e+00</td>\n",
       "      <td>0.000000e+00</td>\n",
       "      <td>0.000000e+00</td>\n",
       "    </tr>\n",
       "    <tr>\n",
       "      <th>25%</th>\n",
       "      <td>1.000000e+00</td>\n",
       "      <td>1.000000e+00</td>\n",
       "      <td>9.800000e-01</td>\n",
       "      <td>1.000000e+00</td>\n",
       "      <td>6.500000e+00</td>\n",
       "      <td>0.000000e+00</td>\n",
       "      <td>5.000000e-01</td>\n",
       "      <td>0.000000e+00</td>\n",
       "      <td>0.000000e+00</td>\n",
       "      <td>3.000000e-01</td>\n",
       "      <td>...</td>\n",
       "      <td>0.000000e+00</td>\n",
       "      <td>0.000000e+00</td>\n",
       "      <td>1.000000e+00</td>\n",
       "      <td>0.000000e+00</td>\n",
       "      <td>0.000000e+00</td>\n",
       "      <td>0.000000e+00</td>\n",
       "      <td>0.000000e+00</td>\n",
       "      <td>1.000000e+00</td>\n",
       "      <td>0.000000e+00</td>\n",
       "      <td>0.000000e+00</td>\n",
       "    </tr>\n",
       "    <tr>\n",
       "      <th>50%</th>\n",
       "      <td>2.000000e+00</td>\n",
       "      <td>1.000000e+00</td>\n",
       "      <td>1.620000e+00</td>\n",
       "      <td>1.000000e+00</td>\n",
       "      <td>9.000000e+00</td>\n",
       "      <td>5.000000e-01</td>\n",
       "      <td>5.000000e-01</td>\n",
       "      <td>1.920000e+00</td>\n",
       "      <td>0.000000e+00</td>\n",
       "      <td>3.000000e-01</td>\n",
       "      <td>...</td>\n",
       "      <td>0.000000e+00</td>\n",
       "      <td>0.000000e+00</td>\n",
       "      <td>1.000000e+00</td>\n",
       "      <td>0.000000e+00</td>\n",
       "      <td>0.000000e+00</td>\n",
       "      <td>0.000000e+00</td>\n",
       "      <td>0.000000e+00</td>\n",
       "      <td>1.000000e+00</td>\n",
       "      <td>0.000000e+00</td>\n",
       "      <td>0.000000e+00</td>\n",
       "    </tr>\n",
       "    <tr>\n",
       "      <th>75%</th>\n",
       "      <td>2.000000e+00</td>\n",
       "      <td>2.000000e+00</td>\n",
       "      <td>3.000000e+00</td>\n",
       "      <td>1.000000e+00</td>\n",
       "      <td>1.400000e+01</td>\n",
       "      <td>2.500000e+00</td>\n",
       "      <td>5.000000e-01</td>\n",
       "      <td>2.860000e+00</td>\n",
       "      <td>0.000000e+00</td>\n",
       "      <td>3.000000e-01</td>\n",
       "      <td>...</td>\n",
       "      <td>0.000000e+00</td>\n",
       "      <td>0.000000e+00</td>\n",
       "      <td>1.000000e+00</td>\n",
       "      <td>0.000000e+00</td>\n",
       "      <td>0.000000e+00</td>\n",
       "      <td>0.000000e+00</td>\n",
       "      <td>0.000000e+00</td>\n",
       "      <td>1.000000e+00</td>\n",
       "      <td>0.000000e+00</td>\n",
       "      <td>0.000000e+00</td>\n",
       "    </tr>\n",
       "    <tr>\n",
       "      <th>max</th>\n",
       "      <td>2.000000e+00</td>\n",
       "      <td>9.000000e+00</td>\n",
       "      <td>2.970045e+05</td>\n",
       "      <td>9.900000e+01</td>\n",
       "      <td>6.711001e+05</td>\n",
       "      <td>5.000008e+05</td>\n",
       "      <td>5.000005e+05</td>\n",
       "      <td>1.100000e+03</td>\n",
       "      <td>9.117500e+02</td>\n",
       "      <td>3.000000e-01</td>\n",
       "      <td>...</td>\n",
       "      <td>1.000000e+00</td>\n",
       "      <td>1.000000e+00</td>\n",
       "      <td>1.000000e+00</td>\n",
       "      <td>1.000000e+00</td>\n",
       "      <td>1.000000e+00</td>\n",
       "      <td>1.000000e+00</td>\n",
       "      <td>1.000000e+00</td>\n",
       "      <td>1.000000e+00</td>\n",
       "      <td>1.000000e+00</td>\n",
       "      <td>1.000000e+00</td>\n",
       "    </tr>\n",
       "  </tbody>\n",
       "</table>\n",
       "<p>8 rows × 22 columns</p>\n",
       "</div>"
      ],
      "text/plain": [
       "           VendorID  passenger_count  trip_distance    RatecodeID  \\\n",
       "count  1.639500e+07     1.639500e+07   1.667322e+07  1.639500e+07   \n",
       "mean   1.664669e+00     1.491998e+00   3.073729e+00  1.043600e+00   \n",
       "std    4.721061e-01     1.136433e+00   1.656767e+02  6.765441e-01   \n",
       "min    1.000000e+00     0.000000e+00  -3.062000e+01  1.000000e+00   \n",
       "25%    1.000000e+00     1.000000e+00   9.800000e-01  1.000000e+00   \n",
       "50%    2.000000e+00     1.000000e+00   1.620000e+00  1.000000e+00   \n",
       "75%    2.000000e+00     2.000000e+00   3.000000e+00  1.000000e+00   \n",
       "max    2.000000e+00     9.000000e+00   2.970045e+05  9.900000e+01   \n",
       "\n",
       "        fare_amount         extra       mta_tax    tip_amount  tolls_amount  \\\n",
       "count  1.667322e+07  1.667322e+07  1.667322e+07  1.667322e+07  1.667322e+07   \n",
       "mean   1.253740e+01  1.133242e+00  5.230166e-01  2.132019e+00  3.209923e-01   \n",
       "std    1.954438e+02  1.224568e+02  1.224504e+02  2.600147e+00  1.635388e+00   \n",
       "min   -1.259000e+03 -2.700000e+01 -5.000000e-01 -4.932200e+02 -4.000000e+01   \n",
       "25%    6.500000e+00  0.000000e+00  5.000000e-01  0.000000e+00  0.000000e+00   \n",
       "50%    9.000000e+00  5.000000e-01  5.000000e-01  1.920000e+00  0.000000e+00   \n",
       "75%    1.400000e+01  2.500000e+00  5.000000e-01  2.860000e+00  0.000000e+00   \n",
       "max    6.711001e+05  5.000008e+05  5.000005e+05  1.100000e+03  9.117500e+02   \n",
       "\n",
       "       improvement_surcharge  ...      Bronx_PU   Brooklyn_PU  Manhattan_PU  \\\n",
       "count           1.667322e+07  ...  1.667322e+07  1.667322e+07  1.667322e+07   \n",
       "mean            2.979066e-01  ...  3.664799e-03  1.332784e-02  9.207748e-01   \n",
       "std             3.473591e-02  ...  6.042656e-02  1.146744e-01  2.700899e-01   \n",
       "min            -3.000000e-01  ...  0.000000e+00  0.000000e+00  0.000000e+00   \n",
       "25%             3.000000e-01  ...  0.000000e+00  0.000000e+00  1.000000e+00   \n",
       "50%             3.000000e-01  ...  0.000000e+00  0.000000e+00  1.000000e+00   \n",
       "75%             3.000000e-01  ...  0.000000e+00  0.000000e+00  1.000000e+00   \n",
       "max             3.000000e-01  ...  1.000000e+00  1.000000e+00  1.000000e+00   \n",
       "\n",
       "          Queens_PU  Staten_Island_PU      Bronx_DO   Brooklyn_DO  \\\n",
       "count  1.667322e+07      1.667322e+07  1.667322e+07  1.667322e+07   \n",
       "mean   6.203829e-02      1.057984e-04  9.930956e-03  4.272804e-02   \n",
       "std    2.412251e-01      1.028529e-02  9.915812e-02  2.022433e-01   \n",
       "min    0.000000e+00      0.000000e+00  0.000000e+00  0.000000e+00   \n",
       "25%    0.000000e+00      0.000000e+00  0.000000e+00  0.000000e+00   \n",
       "50%    0.000000e+00      0.000000e+00  0.000000e+00  0.000000e+00   \n",
       "75%    0.000000e+00      0.000000e+00  0.000000e+00  0.000000e+00   \n",
       "max    1.000000e+00      1.000000e+00  1.000000e+00  1.000000e+00   \n",
       "\n",
       "       Manhattan_DO     Queens_DO  Staten_Island_DO  \n",
       "count  1.667322e+07  1.667322e+07      1.667322e+07  \n",
       "mean   8.926352e-01  5.258733e-02      3.726335e-04  \n",
       "std    3.095764e-01  2.232082e-01      1.930012e-02  \n",
       "min    0.000000e+00  0.000000e+00      0.000000e+00  \n",
       "25%    1.000000e+00  0.000000e+00      0.000000e+00  \n",
       "50%    1.000000e+00  0.000000e+00      0.000000e+00  \n",
       "75%    1.000000e+00  0.000000e+00      0.000000e+00  \n",
       "max    1.000000e+00  1.000000e+00      1.000000e+00  \n",
       "\n",
       "[8 rows x 22 columns]"
      ]
     },
     "execution_count": 20,
     "metadata": {},
     "output_type": "execute_result"
    }
   ],
   "source": [
    "pandemic_taxi_data.describe()"
   ]
  },
  {
   "cell_type": "markdown",
   "metadata": {},
   "source": [
    "# 2.4 Counts and Percents Unique Values <a id='2.4_Counts_And_Percents'></a>\n",
    "\n",
    "The following cell will count the cardinality of each column and see how their ratios are."
   ]
  },
  {
   "cell_type": "code",
   "execution_count": 21,
   "metadata": {},
   "outputs": [
    {
     "name": "stdout",
     "output_type": "stream",
     "text": [
      "The cardinality of VendorID is: 3\n",
      "The cardinality of tpep_pickup_datetime is: 6336458\n",
      "The cardinality of tpep_dropoff_datetime is: 6342811\n",
      "The cardinality of passenger_count is: 11\n",
      "The cardinality of trip_distance is: 5544\n",
      "The cardinality of RatecodeID is: 8\n",
      "The cardinality of store_and_fwd_flag is: 3\n",
      "The cardinality of PULocationID is: 258\n",
      "The cardinality of DOLocationID is: 258\n",
      "The cardinality of payment_type is: 6\n",
      "The cardinality of fare_amount is: 8682\n",
      "The cardinality of extra is: 78\n",
      "The cardinality of mta_tax is: 16\n",
      "The cardinality of tip_amount is: 3932\n",
      "The cardinality of tolls_amount is: 1461\n",
      "The cardinality of improvement_surcharge is: 3\n",
      "The cardinality of total_amount is: 13972\n",
      "The cardinality of congestion_surcharge is: 10\n",
      "The cardinality of zone_PU is: 258\n",
      "The cardinality of LocationID_PU is: 258\n",
      "The cardinality of Borough_PU is: 6\n",
      "The cardinality of zone_DO is: 258\n",
      "The cardinality of LocationID_DO is: 258\n",
      "The cardinality of Borough_DO is: 6\n",
      "The cardinality of Bronx_PU is: 2\n",
      "The cardinality of Brooklyn_PU is: 2\n",
      "The cardinality of Manhattan_PU is: 2\n",
      "The cardinality of Queens_PU is: 2\n",
      "The cardinality of Staten_Island_PU is: 2\n",
      "The cardinality of Bronx_DO is: 2\n",
      "The cardinality of Brooklyn_DO is: 2\n",
      "The cardinality of Manhattan_DO is: 2\n",
      "The cardinality of Queens_DO is: 2\n",
      "The cardinality of Staten_Island_DO is: 2\n"
     ]
    }
   ],
   "source": [
    "for item in pandemic_taxi_data.columns:\n",
    "    len_unique = len(pandemic_taxi_data[item].unique())\n",
    "    print('The cardinality of {} is: {}'.format(item, len_unique))  "
   ]
  },
  {
   "cell_type": "markdown",
   "metadata": {},
   "source": [
    "# 3. Data Cleaning <a id='3_Data_Cleaning'></a>\n",
    "\n",
    "This section will cover how I clean the data's nan values, outliers and checking for duplicates."
   ]
  },
  {
   "cell_type": "code",
   "execution_count": 22,
   "metadata": {
    "scrolled": true
   },
   "outputs": [
    {
     "data": {
      "text/plain": [
       "VendorID                 278223\n",
       "tpep_pickup_datetime          0\n",
       "tpep_dropoff_datetime         0\n",
       "passenger_count          278223\n",
       "trip_distance                 0\n",
       "RatecodeID               278223\n",
       "store_and_fwd_flag       278223\n",
       "PULocationID                  0\n",
       "DOLocationID                  0\n",
       "payment_type             278223\n",
       "fare_amount                   0\n",
       "extra                         0\n",
       "mta_tax                       0\n",
       "tip_amount                    0\n",
       "tolls_amount                  0\n",
       "improvement_surcharge         0\n",
       "total_amount                  0\n",
       "congestion_surcharge          0\n",
       "zone_PU                       0\n",
       "LocationID_PU                 0\n",
       "Borough_PU                 1475\n",
       "zone_DO                       0\n",
       "LocationID_DO                 0\n",
       "Borough_DO                29108\n",
       "Bronx_PU                      0\n",
       "Brooklyn_PU                   0\n",
       "Manhattan_PU                  0\n",
       "Queens_PU                     0\n",
       "Staten_Island_PU              0\n",
       "Bronx_DO                      0\n",
       "Brooklyn_DO                   0\n",
       "Manhattan_DO                  0\n",
       "Queens_DO                     0\n",
       "Staten_Island_DO              0\n",
       "dtype: int64"
      ]
     },
     "execution_count": 22,
     "metadata": {},
     "output_type": "execute_result"
    }
   ],
   "source": [
    "pandemic_taxi_data.isna().sum()"
   ]
  },
  {
   "cell_type": "code",
   "execution_count": null,
   "metadata": {},
   "outputs": [],
   "source": [
    "col_with_null_vals = ['VendorID', 'passenger_count', 'RatecodeID',\n",
    "                      'payment_type', 'Manhattan_PU', 'Queens_PU', 'Bronx_PU', 'Brooklyn_PU',\n",
    "                     'Staten_Island_PU', 'Manhattan_DO', 'Queens_DO', 'Bronx_DO', 'Brooklyn_DO',\n",
    "                     'Staten_Island_DO']\n",
    "\n",
    "df_nulls = pandemic_taxi_data[col_with_null_vals].isnull()\n",
    "df_nulls.columns = ['V', 'p', 'R', 'p_type', 'Man_PU', 'Q_PU', 'BX_PU', 'BK_PU', 'SI_PU',\n",
    "                   'Man_DO', 'Q_DO', 'BX_DO', 'BK_DO', 'SI_DO']\n",
    "\n",
    "df_nulls.to_csv('./datasetsTFNullTable.csv')"
   ]
  },
  {
   "cell_type": "markdown",
   "metadata": {},
   "source": [
    "# 3.1 Filling NULL values <a id='3.1_Filling_NULL_values'></a>\n",
    "\n",
    "This lets us know that there are seven columns with NaN values. What I'll do with the NaN values is substitute the NaNs with 0s"
   ]
  },
  {
   "cell_type": "code",
   "execution_count": null,
   "metadata": {
    "scrolled": true
   },
   "outputs": [],
   "source": [
    "pandemic_taxi_data.tail()"
   ]
  },
  {
   "cell_type": "code",
   "execution_count": null,
   "metadata": {},
   "outputs": [],
   "source": [
    "a = (pandemic_taxi_data['tpep_dropoff_datetime'].astype('datetime64') - \n",
    " pandemic_taxi_data['tpep_pickup_datetime'].astype('datetime64'))"
   ]
  },
  {
   "cell_type": "code",
   "execution_count": null,
   "metadata": {
    "scrolled": true
   },
   "outputs": [],
   "source": [
    "mins = [(a[i].components[1] * 60) + a[i].components[2] + (round(a[i].components[3] / 60, 2)) for i in range(len(a))]\n",
    "mins"
   ]
  },
  {
   "cell_type": "code",
   "execution_count": null,
   "metadata": {
    "scrolled": true
   },
   "outputs": [],
   "source": [
    "pandemic_taxi_data.columns"
   ]
  },
  {
   "cell_type": "code",
   "execution_count": null,
   "metadata": {
    "scrolled": true
   },
   "outputs": [],
   "source": [
    "pandemic_taxi_data.index"
   ]
  },
  {
   "cell_type": "code",
   "execution_count": null,
   "metadata": {
    "scrolled": false
   },
   "outputs": [],
   "source": [
    "pandemic_taxi_data['Mins_In_Ride'] = mins\n",
    "pandemic_taxi_data.index = pandemic_taxi_data['tpep_pickup_datetime']\n",
    "pandemic_taxi_data = pandemic_taxi_data.drop(['tpep_pickup_datetime', 'tpep_dropoff_datetime'], axis=1)\n",
    "pandemic_taxi_data.tail()"
   ]
  },
  {
   "cell_type": "code",
   "execution_count": null,
   "metadata": {},
   "outputs": [],
   "source": [
    "pandemic_taxi_data['VendorID'] = pandemic_taxi_data['VendorID'].fillna(0)\n",
    "pandemic_taxi_data['passenger_count'] = pandemic_taxi_data['passenger_count'].fillna(0)\n",
    "pandemic_taxi_data['RatecodeID'] = pandemic_taxi_data['RatecodeID'].fillna(0)"
   ]
  },
  {
   "cell_type": "code",
   "execution_count": null,
   "metadata": {},
   "outputs": [],
   "source": [
    "pandemic_taxi_data['store_and_fwd_flag'] = pandemic_taxi_data['store_and_fwd_flag'].astype('string')\n",
    "pandemic_taxi_data['store_and_fwd_flag'] = pandemic_taxi_data['store_and_fwd_flag'].fillna('NK') # Not Known\n",
    "pandemic_taxi_data['store_and_fwd_flag'] = pandemic_taxi_data['store_and_fwd_flag'].astype('category')\n",
    "\n",
    "pandemic_taxi_data['payment_type'] = pandemic_taxi_data['payment_type'].fillna(5) # For Unknown\n",
    "\n",
    "pandemic_taxi_data['Borough_PU'] = pandemic_taxi_data['Borough_PU'].astype('string')\n",
    "pandemic_taxi_data['Borough_PU'] = pandemic_taxi_data['Borough_PU'].fillna('Unknown')\n",
    "pandemic_taxi_data['Borough_PU'] = pandemic_taxi_data['Borough_PU'].astype('category')\n",
    "\n",
    "pandemic_taxi_data['Borough_DO'] = pandemic_taxi_data['Borough_DO'].astype('string')\n",
    "pandemic_taxi_data['Borough_DO'] = pandemic_taxi_data['Borough_DO'].fillna('Unknown')\n",
    "pandemic_taxi_data['Borough_DO'] = pandemic_taxi_data['Borough_DO'].astype('category')"
   ]
  },
  {
   "cell_type": "code",
   "execution_count": null,
   "metadata": {
    "scrolled": true
   },
   "outputs": [],
   "source": [
    "pandemic_taxi_data.isna().sum()"
   ]
  },
  {
   "cell_type": "markdown",
   "metadata": {},
   "source": [
    "# 3.2 Checking For Outliers <a id='3.2_Checking_For_Duplicates'></a>\n",
    "\n",
    "Any duplicates based off VendorID, trip_distance, total_amount should be dropped"
   ]
  },
  {
   "cell_type": "code",
   "execution_count": null,
   "metadata": {
    "scrolled": true
   },
   "outputs": [],
   "source": [
    "pandemic_taxi_data.head()"
   ]
  },
  {
   "cell_type": "markdown",
   "metadata": {},
   "source": [
    "Time to remove wrongly inputted data"
   ]
  },
  {
   "cell_type": "code",
   "execution_count": null,
   "metadata": {
    "scrolled": true
   },
   "outputs": [],
   "source": [
    "list_of_dates = pandemic_taxi_data.index\n",
    "list_of_dates = list(map(lambda x: datetime.strptime(x, '%Y-%m-%d %H:%M:%S'), list_of_dates))\n",
    "list_of_dates"
   ]
  },
  {
   "cell_type": "code",
   "execution_count": null,
   "metadata": {},
   "outputs": [],
   "source": [
    "# There appears to be the years 2008, 2009, 2003, and 2019 and erroneous dates in here so I will remove them.\n",
    "pandemic_taxi_data.index = list_of_dates\n",
    "indicies = []\n",
    "for i in range(len(pandemic_taxi_data)):\n",
    "    if pandemic_taxi_data.index[i].year != 2020 or pandemic_taxi_data.index[i].month > 6:\n",
    "        indicies.append(pandemic_taxi_data.index[i])\n",
    "indicies"
   ]
  },
  {
   "cell_type": "code",
   "execution_count": null,
   "metadata": {},
   "outputs": [],
   "source": [
    "pandemic_taxi_data = pandemic_taxi_data.drop(indicies, axis=0)"
   ]
  },
  {
   "cell_type": "code",
   "execution_count": null,
   "metadata": {
    "scrolled": false
   },
   "outputs": [],
   "source": [
    "# Time to remove outliers before resampling them into groups of days\n",
    "pandemic_taxi_data.describe().T"
   ]
  },
  {
   "cell_type": "code",
   "execution_count": null,
   "metadata": {},
   "outputs": [],
   "source": [
    "len(pandemic_taxi_data)"
   ]
  },
  {
   "cell_type": "code",
   "execution_count": null,
   "metadata": {
    "scrolled": true
   },
   "outputs": [],
   "source": [
    "bad_columns = ['trip_distance', 'RatecodeID', 'fare_amount', 'extra', 'mta_tax', 'tip_amount',\n",
    "               'tolls_amount', 'improvement_surcharge', 'total_amount', 'Mins_In_Ride']\n",
    "for column in bad_columns:\n",
    "    mn = pandemic_taxi_data[column].mean()\n",
    "    std = pandemic_taxi_data[column].std()\n",
    "    cut_off = 3 * std\n",
    "    lower, upper = mn - cut_off, mn + cut_off\n",
    "    pandemic_taxi_data = pandemic_taxi_data[(pandemic_taxi_data[column] < upper) & (pandemic_taxi_data[column] > lower)]"
   ]
  },
  {
   "cell_type": "code",
   "execution_count": null,
   "metadata": {
    "scrolled": true
   },
   "outputs": [],
   "source": [
    "# Drop rows in trip_distance and fare amount that are less than 0\n",
    "pandemic_taxi_data = pandemic_taxi_data[pandemic_taxi_data['trip_distance'] > 0]\n",
    "pandemic_taxi_data = pandemic_taxi_data[pandemic_taxi_data['fare_amount'] > 0]\n",
    "len(pandemic_taxi_data)"
   ]
  },
  {
   "cell_type": "code",
   "execution_count": null,
   "metadata": {},
   "outputs": [],
   "source": [
    "pandemic_taxi_data.describe().T"
   ]
  },
  {
   "cell_type": "code",
   "execution_count": null,
   "metadata": {
    "scrolled": true
   },
   "outputs": [],
   "source": [
    "# next task is to group the index by hour\n",
    "pandemic_taxi_data = pandemic_taxi_data.resample('H').mean()\n",
    "pandemic_taxi_data.head()"
   ]
  },
  {
   "cell_type": "code",
   "execution_count": null,
   "metadata": {},
   "outputs": [],
   "source": [
    "# Last step is to make a random walk of the total_amount. In other words, make the next entiries' total_amount\n",
    "# value be dependent of the current one\n",
    "shifted_values = pandemic_taxi_data[['total_amount']]\n",
    "shifted_values = shifted_values.shift(1, axis=0)\n",
    "pandemic_taxi_data['total_amount'] = shifted_values\n",
    "pandemic_taxi_data['total_amount'].head()"
   ]
  },
  {
   "cell_type": "markdown",
   "metadata": {},
   "source": [
    "# 3.3 Finished Cleaning <a id='3.3_Finished_Cleaning'></a>"
   ]
  },
  {
   "cell_type": "code",
   "execution_count": null,
   "metadata": {},
   "outputs": [],
   "source": [
    "pandemic_taxi_data.to_csv('./datasets/Clean_Pandemic_Taxi_Data.csv')"
   ]
  }
 ],
 "metadata": {
  "kernelspec": {
   "display_name": "Python 3",
   "language": "python",
   "name": "python3"
  },
  "language_info": {
   "codemirror_mode": {
    "name": "ipython",
    "version": 3
   },
   "file_extension": ".py",
   "mimetype": "text/x-python",
   "name": "python",
   "nbconvert_exporter": "python",
   "pygments_lexer": "ipython3",
   "version": "3.7.4"
  }
 },
 "nbformat": 4,
 "nbformat_minor": 2
}
