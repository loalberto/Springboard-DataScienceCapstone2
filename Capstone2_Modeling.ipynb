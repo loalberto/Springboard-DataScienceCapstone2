{
 "cells": [
  {
   "cell_type": "code",
   "execution_count": 1,
   "metadata": {},
   "outputs": [],
   "source": [
    "import pandas as pd\n",
    "import numpy as np\n",
    "from sklearn.linear_model import LinearRegression"
   ]
  },
  {
   "cell_type": "code",
   "execution_count": 2,
   "metadata": {},
   "outputs": [
    {
     "data": {
      "text/html": [
       "<div>\n",
       "<style scoped>\n",
       "    .dataframe tbody tr th:only-of-type {\n",
       "        vertical-align: middle;\n",
       "    }\n",
       "\n",
       "    .dataframe tbody tr th {\n",
       "        vertical-align: top;\n",
       "    }\n",
       "\n",
       "    .dataframe thead th {\n",
       "        text-align: right;\n",
       "    }\n",
       "</style>\n",
       "<table border=\"1\" class=\"dataframe\">\n",
       "  <thead>\n",
       "    <tr style=\"text-align: right;\">\n",
       "      <th></th>\n",
       "      <th>avg_trip_distance_hour</th>\n",
       "      <th>avg_fare_amount_hour</th>\n",
       "      <th>avg_tolls_amount_hour</th>\n",
       "      <th>avg_tip_amount_hour</th>\n",
       "      <th>avg_Brooklyn_PU_hour</th>\n",
       "      <th>avg_Manhattan_PU_hour</th>\n",
       "      <th>avg_Queens_PU_hour</th>\n",
       "      <th>avg_Staten_Island_PU_hour</th>\n",
       "      <th>avg_Bronx_DO_hour</th>\n",
       "      <th>avg_Brooklyn_DO_hour</th>\n",
       "      <th>...</th>\n",
       "      <th>avg_Queens_DO_hour</th>\n",
       "      <th>avg_Staten_Island_DO_hour</th>\n",
       "      <th>avg_Mins_In_Ride_hour</th>\n",
       "      <th>Year</th>\n",
       "      <th>Month</th>\n",
       "      <th>Day</th>\n",
       "      <th>Hour</th>\n",
       "      <th>Minute</th>\n",
       "      <th>Second</th>\n",
       "      <th>avg_total_amount_hour</th>\n",
       "    </tr>\n",
       "  </thead>\n",
       "  <tbody>\n",
       "    <tr>\n",
       "      <th>2580</th>\n",
       "      <td>2.236724</td>\n",
       "      <td>9.381992</td>\n",
       "      <td>0.000000</td>\n",
       "      <td>1.243851</td>\n",
       "      <td>0.028736</td>\n",
       "      <td>0.932950</td>\n",
       "      <td>0.022989</td>\n",
       "      <td>0.0</td>\n",
       "      <td>0.038314</td>\n",
       "      <td>0.024904</td>\n",
       "      <td>...</td>\n",
       "      <td>0.028736</td>\n",
       "      <td>0.0</td>\n",
       "      <td>8.662280</td>\n",
       "      <td>2020</td>\n",
       "      <td>4</td>\n",
       "      <td>17</td>\n",
       "      <td>13</td>\n",
       "      <td>0</td>\n",
       "      <td>0</td>\n",
       "      <td>13.582953</td>\n",
       "    </tr>\n",
       "    <tr>\n",
       "      <th>2534</th>\n",
       "      <td>2.240061</td>\n",
       "      <td>9.397930</td>\n",
       "      <td>0.000000</td>\n",
       "      <td>1.381967</td>\n",
       "      <td>0.014344</td>\n",
       "      <td>0.948770</td>\n",
       "      <td>0.024590</td>\n",
       "      <td>0.0</td>\n",
       "      <td>0.043033</td>\n",
       "      <td>0.026639</td>\n",
       "      <td>...</td>\n",
       "      <td>0.024590</td>\n",
       "      <td>0.0</td>\n",
       "      <td>8.702090</td>\n",
       "      <td>2020</td>\n",
       "      <td>4</td>\n",
       "      <td>15</td>\n",
       "      <td>15</td>\n",
       "      <td>0</td>\n",
       "      <td>0</td>\n",
       "      <td>13.496905</td>\n",
       "    </tr>\n",
       "    <tr>\n",
       "      <th>1653</th>\n",
       "      <td>2.469164</td>\n",
       "      <td>10.333324</td>\n",
       "      <td>0.000353</td>\n",
       "      <td>2.063430</td>\n",
       "      <td>0.010463</td>\n",
       "      <td>0.963948</td>\n",
       "      <td>0.024581</td>\n",
       "      <td>0.0</td>\n",
       "      <td>0.005546</td>\n",
       "      <td>0.059876</td>\n",
       "      <td>...</td>\n",
       "      <td>0.035926</td>\n",
       "      <td>0.0</td>\n",
       "      <td>10.659279</td>\n",
       "      <td>2020</td>\n",
       "      <td>3</td>\n",
       "      <td>9</td>\n",
       "      <td>22</td>\n",
       "      <td>0</td>\n",
       "      <td>0</td>\n",
       "      <td>16.207518</td>\n",
       "    </tr>\n",
       "    <tr>\n",
       "      <th>4281</th>\n",
       "      <td>2.099069</td>\n",
       "      <td>9.251151</td>\n",
       "      <td>0.000000</td>\n",
       "      <td>1.604006</td>\n",
       "      <td>0.022082</td>\n",
       "      <td>0.955836</td>\n",
       "      <td>0.020505</td>\n",
       "      <td>0.0</td>\n",
       "      <td>0.012618</td>\n",
       "      <td>0.031546</td>\n",
       "      <td>...</td>\n",
       "      <td>0.034700</td>\n",
       "      <td>0.0</td>\n",
       "      <td>8.363486</td>\n",
       "      <td>2020</td>\n",
       "      <td>6</td>\n",
       "      <td>27</td>\n",
       "      <td>10</td>\n",
       "      <td>0</td>\n",
       "      <td>0</td>\n",
       "      <td>13.726811</td>\n",
       "    </tr>\n",
       "    <tr>\n",
       "      <th>3057</th>\n",
       "      <td>2.511803</td>\n",
       "      <td>10.052960</td>\n",
       "      <td>0.004345</td>\n",
       "      <td>1.380512</td>\n",
       "      <td>0.037951</td>\n",
       "      <td>0.922201</td>\n",
       "      <td>0.017078</td>\n",
       "      <td>0.0</td>\n",
       "      <td>0.036053</td>\n",
       "      <td>0.039848</td>\n",
       "      <td>...</td>\n",
       "      <td>0.022770</td>\n",
       "      <td>0.0</td>\n",
       "      <td>9.328482</td>\n",
       "      <td>2020</td>\n",
       "      <td>5</td>\n",
       "      <td>7</td>\n",
       "      <td>10</td>\n",
       "      <td>0</td>\n",
       "      <td>0</td>\n",
       "      <td>13.604888</td>\n",
       "    </tr>\n",
       "  </tbody>\n",
       "</table>\n",
       "<p>5 rows × 21 columns</p>\n",
       "</div>"
      ],
      "text/plain": [
       "      avg_trip_distance_hour  avg_fare_amount_hour  avg_tolls_amount_hour  \\\n",
       "2580                2.236724              9.381992               0.000000   \n",
       "2534                2.240061              9.397930               0.000000   \n",
       "1653                2.469164             10.333324               0.000353   \n",
       "4281                2.099069              9.251151               0.000000   \n",
       "3057                2.511803             10.052960               0.004345   \n",
       "\n",
       "      avg_tip_amount_hour  avg_Brooklyn_PU_hour  avg_Manhattan_PU_hour  \\\n",
       "2580             1.243851              0.028736               0.932950   \n",
       "2534             1.381967              0.014344               0.948770   \n",
       "1653             2.063430              0.010463               0.963948   \n",
       "4281             1.604006              0.022082               0.955836   \n",
       "3057             1.380512              0.037951               0.922201   \n",
       "\n",
       "      avg_Queens_PU_hour  avg_Staten_Island_PU_hour  avg_Bronx_DO_hour  \\\n",
       "2580            0.022989                        0.0           0.038314   \n",
       "2534            0.024590                        0.0           0.043033   \n",
       "1653            0.024581                        0.0           0.005546   \n",
       "4281            0.020505                        0.0           0.012618   \n",
       "3057            0.017078                        0.0           0.036053   \n",
       "\n",
       "      avg_Brooklyn_DO_hour  ...  avg_Queens_DO_hour  \\\n",
       "2580              0.024904  ...            0.028736   \n",
       "2534              0.026639  ...            0.024590   \n",
       "1653              0.059876  ...            0.035926   \n",
       "4281              0.031546  ...            0.034700   \n",
       "3057              0.039848  ...            0.022770   \n",
       "\n",
       "      avg_Staten_Island_DO_hour  avg_Mins_In_Ride_hour  Year  Month  Day  \\\n",
       "2580                        0.0               8.662280  2020      4   17   \n",
       "2534                        0.0               8.702090  2020      4   15   \n",
       "1653                        0.0              10.659279  2020      3    9   \n",
       "4281                        0.0               8.363486  2020      6   27   \n",
       "3057                        0.0               9.328482  2020      5    7   \n",
       "\n",
       "      Hour  Minute  Second  avg_total_amount_hour  \n",
       "2580    13       0       0              13.582953  \n",
       "2534    15       0       0              13.496905  \n",
       "1653    22       0       0              16.207518  \n",
       "4281    10       0       0              13.726811  \n",
       "3057    10       0       0              13.604888  \n",
       "\n",
       "[5 rows x 21 columns]"
      ]
     },
     "execution_count": 2,
     "metadata": {},
     "output_type": "execute_result"
    }
   ],
   "source": [
    "training_data = pd.read_csv('./datasets/Train_Data.csv', index_col=0)\n",
    "testing_data = pd.read_csv('./datasets/Test_Data.csv', index_col=0)\n",
    "training_data.head()"
   ]
  },
  {
   "cell_type": "code",
   "execution_count": 3,
   "metadata": {
    "scrolled": true
   },
   "outputs": [
    {
     "name": "stdout",
     "output_type": "stream",
     "text": [
      "<class 'pandas.core.frame.DataFrame'>\n",
      "Int64Index: 3056 entries, 2580 to 598\n",
      "Data columns (total 21 columns):\n",
      " #   Column                     Non-Null Count  Dtype  \n",
      "---  ------                     --------------  -----  \n",
      " 0   avg_trip_distance_hour     3056 non-null   float64\n",
      " 1   avg_fare_amount_hour       3056 non-null   float64\n",
      " 2   avg_tolls_amount_hour      3056 non-null   float64\n",
      " 3   avg_tip_amount_hour        3056 non-null   float64\n",
      " 4   avg_Brooklyn_PU_hour       3056 non-null   float64\n",
      " 5   avg_Manhattan_PU_hour      3056 non-null   float64\n",
      " 6   avg_Queens_PU_hour         3056 non-null   float64\n",
      " 7   avg_Staten_Island_PU_hour  3056 non-null   float64\n",
      " 8   avg_Bronx_DO_hour          3056 non-null   float64\n",
      " 9   avg_Brooklyn_DO_hour       3056 non-null   float64\n",
      " 10  avg_Manhattan_DO_hour      3056 non-null   float64\n",
      " 11  avg_Queens_DO_hour         3056 non-null   float64\n",
      " 12  avg_Staten_Island_DO_hour  3056 non-null   float64\n",
      " 13  avg_Mins_In_Ride_hour      3056 non-null   float64\n",
      " 14  Year                       3056 non-null   int64  \n",
      " 15  Month                      3056 non-null   int64  \n",
      " 16  Day                        3056 non-null   int64  \n",
      " 17  Hour                       3056 non-null   int64  \n",
      " 18  Minute                     3056 non-null   int64  \n",
      " 19  Second                     3056 non-null   int64  \n",
      " 20  avg_total_amount_hour      3056 non-null   float64\n",
      "dtypes: float64(15), int64(6)\n",
      "memory usage: 525.2 KB\n"
     ]
    }
   ],
   "source": [
    "training_data.fillna(0).info()"
   ]
  },
  {
   "cell_type": "code",
   "execution_count": 10,
   "metadata": {},
   "outputs": [
    {
     "data": {
      "text/plain": [
       "avg_trip_distance_hour       3056\n",
       "avg_fare_amount_hour         3056\n",
       "avg_tolls_amount_hour        3056\n",
       "avg_tip_amount_hour          3056\n",
       "avg_Brooklyn_PU_hour         3056\n",
       "avg_Manhattan_PU_hour        3056\n",
       "avg_Queens_PU_hour           3056\n",
       "avg_Staten_Island_PU_hour    3056\n",
       "avg_Bronx_DO_hour            3056\n",
       "avg_Brooklyn_DO_hour         3056\n",
       "avg_Manhattan_DO_hour        3056\n",
       "avg_Queens_DO_hour           3056\n",
       "avg_Staten_Island_DO_hour    3056\n",
       "avg_Mins_In_Ride_hour        3056\n",
       "Year                         3056\n",
       "Month                        3056\n",
       "Day                          3056\n",
       "Hour                         3056\n",
       "Minute                       3056\n",
       "Second                       3056\n",
       "avg_total_amount_hour        3056\n",
       "dtype: int64"
      ]
     },
     "execution_count": 10,
     "metadata": {},
     "output_type": "execute_result"
    }
   ],
   "source": [
    "training_data.isnull().count()"
   ]
  },
  {
   "cell_type": "code",
   "execution_count": 4,
   "metadata": {},
   "outputs": [
    {
     "name": "stdout",
     "output_type": "stream",
     "text": [
      "(3056, 21)\n"
     ]
    },
    {
     "data": {
      "text/plain": [
       "(1310, 21)"
      ]
     },
     "execution_count": 4,
     "metadata": {},
     "output_type": "execute_result"
    }
   ],
   "source": [
    "print(training_data.shape)\n",
    "testing_data.shape"
   ]
  },
  {
   "cell_type": "code",
   "execution_count": 6,
   "metadata": {},
   "outputs": [],
   "source": [
    "# splitting the data into training and testing variables\n",
    "X_train = training_data.drop(['avg_total_amount_hour'], axis=1)\n",
    "X_test = testing_data.drop(['avg_total_amount_hour'], axis=1)\n",
    "y_train = training_data['avg_total_amount_hour']\n",
    "y_test = testing_data['avg_total_amount_hour']"
   ]
  },
  {
   "cell_type": "code",
   "execution_count": 7,
   "metadata": {},
   "outputs": [
    {
     "ename": "ValueError",
     "evalue": "Input contains NaN, infinity or a value too large for dtype('float64').",
     "output_type": "error",
     "traceback": [
      "\u001b[0;31m---------------------------------------------------------------------------\u001b[0m",
      "\u001b[0;31mValueError\u001b[0m                                Traceback (most recent call last)",
      "\u001b[0;32m<ipython-input-7-a3d3d7049c5f>\u001b[0m in \u001b[0;36m<module>\u001b[0;34m\u001b[0m\n\u001b[1;32m      1\u001b[0m \u001b[0;31m# This first model will test on the raw data using Linear Regression\u001b[0m\u001b[0;34m\u001b[0m\u001b[0;34m\u001b[0m\u001b[0;34m\u001b[0m\u001b[0m\n\u001b[1;32m      2\u001b[0m \u001b[0mlinreg\u001b[0m \u001b[0;34m=\u001b[0m \u001b[0mLinearRegression\u001b[0m\u001b[0;34m(\u001b[0m\u001b[0;34m)\u001b[0m\u001b[0;34m\u001b[0m\u001b[0;34m\u001b[0m\u001b[0m\n\u001b[0;32m----> 3\u001b[0;31m \u001b[0mlinreg\u001b[0m\u001b[0;34m.\u001b[0m\u001b[0mfit\u001b[0m\u001b[0;34m(\u001b[0m\u001b[0mX_train\u001b[0m\u001b[0;34m,\u001b[0m \u001b[0my_train\u001b[0m\u001b[0;34m)\u001b[0m\u001b[0;34m\u001b[0m\u001b[0;34m\u001b[0m\u001b[0m\n\u001b[0m",
      "\u001b[0;32m/opt/anaconda3/lib/python3.7/site-packages/sklearn/linear_model/_base.py\u001b[0m in \u001b[0;36mfit\u001b[0;34m(self, X, y, sample_weight)\u001b[0m\n\u001b[1;32m    517\u001b[0m \u001b[0;34m\u001b[0m\u001b[0m\n\u001b[1;32m    518\u001b[0m         X, y = self._validate_data(X, y, accept_sparse=accept_sparse,\n\u001b[0;32m--> 519\u001b[0;31m                                    y_numeric=True, multi_output=True)\n\u001b[0m\u001b[1;32m    520\u001b[0m \u001b[0;34m\u001b[0m\u001b[0m\n\u001b[1;32m    521\u001b[0m         \u001b[0;32mif\u001b[0m \u001b[0msample_weight\u001b[0m \u001b[0;32mis\u001b[0m \u001b[0;32mnot\u001b[0m \u001b[0;32mNone\u001b[0m\u001b[0;34m:\u001b[0m\u001b[0;34m\u001b[0m\u001b[0;34m\u001b[0m\u001b[0m\n",
      "\u001b[0;32m/opt/anaconda3/lib/python3.7/site-packages/sklearn/base.py\u001b[0m in \u001b[0;36m_validate_data\u001b[0;34m(self, X, y, reset, validate_separately, **check_params)\u001b[0m\n\u001b[1;32m    431\u001b[0m                 \u001b[0my\u001b[0m \u001b[0;34m=\u001b[0m \u001b[0mcheck_array\u001b[0m\u001b[0;34m(\u001b[0m\u001b[0my\u001b[0m\u001b[0;34m,\u001b[0m \u001b[0;34m**\u001b[0m\u001b[0mcheck_y_params\u001b[0m\u001b[0;34m)\u001b[0m\u001b[0;34m\u001b[0m\u001b[0;34m\u001b[0m\u001b[0m\n\u001b[1;32m    432\u001b[0m             \u001b[0;32melse\u001b[0m\u001b[0;34m:\u001b[0m\u001b[0;34m\u001b[0m\u001b[0;34m\u001b[0m\u001b[0m\n\u001b[0;32m--> 433\u001b[0;31m                 \u001b[0mX\u001b[0m\u001b[0;34m,\u001b[0m \u001b[0my\u001b[0m \u001b[0;34m=\u001b[0m \u001b[0mcheck_X_y\u001b[0m\u001b[0;34m(\u001b[0m\u001b[0mX\u001b[0m\u001b[0;34m,\u001b[0m \u001b[0my\u001b[0m\u001b[0;34m,\u001b[0m \u001b[0;34m**\u001b[0m\u001b[0mcheck_params\u001b[0m\u001b[0;34m)\u001b[0m\u001b[0;34m\u001b[0m\u001b[0;34m\u001b[0m\u001b[0m\n\u001b[0m\u001b[1;32m    434\u001b[0m             \u001b[0mout\u001b[0m \u001b[0;34m=\u001b[0m \u001b[0mX\u001b[0m\u001b[0;34m,\u001b[0m \u001b[0my\u001b[0m\u001b[0;34m\u001b[0m\u001b[0;34m\u001b[0m\u001b[0m\n\u001b[1;32m    435\u001b[0m \u001b[0;34m\u001b[0m\u001b[0m\n",
      "\u001b[0;32m/opt/anaconda3/lib/python3.7/site-packages/sklearn/utils/validation.py\u001b[0m in \u001b[0;36minner_f\u001b[0;34m(*args, **kwargs)\u001b[0m\n\u001b[1;32m     61\u001b[0m             \u001b[0mextra_args\u001b[0m \u001b[0;34m=\u001b[0m \u001b[0mlen\u001b[0m\u001b[0;34m(\u001b[0m\u001b[0margs\u001b[0m\u001b[0;34m)\u001b[0m \u001b[0;34m-\u001b[0m \u001b[0mlen\u001b[0m\u001b[0;34m(\u001b[0m\u001b[0mall_args\u001b[0m\u001b[0;34m)\u001b[0m\u001b[0;34m\u001b[0m\u001b[0;34m\u001b[0m\u001b[0m\n\u001b[1;32m     62\u001b[0m             \u001b[0;32mif\u001b[0m \u001b[0mextra_args\u001b[0m \u001b[0;34m<=\u001b[0m \u001b[0;36m0\u001b[0m\u001b[0;34m:\u001b[0m\u001b[0;34m\u001b[0m\u001b[0;34m\u001b[0m\u001b[0m\n\u001b[0;32m---> 63\u001b[0;31m                 \u001b[0;32mreturn\u001b[0m \u001b[0mf\u001b[0m\u001b[0;34m(\u001b[0m\u001b[0;34m*\u001b[0m\u001b[0margs\u001b[0m\u001b[0;34m,\u001b[0m \u001b[0;34m**\u001b[0m\u001b[0mkwargs\u001b[0m\u001b[0;34m)\u001b[0m\u001b[0;34m\u001b[0m\u001b[0;34m\u001b[0m\u001b[0m\n\u001b[0m\u001b[1;32m     64\u001b[0m \u001b[0;34m\u001b[0m\u001b[0m\n\u001b[1;32m     65\u001b[0m             \u001b[0;31m# extra_args > 0\u001b[0m\u001b[0;34m\u001b[0m\u001b[0;34m\u001b[0m\u001b[0;34m\u001b[0m\u001b[0m\n",
      "\u001b[0;32m/opt/anaconda3/lib/python3.7/site-packages/sklearn/utils/validation.py\u001b[0m in \u001b[0;36mcheck_X_y\u001b[0;34m(X, y, accept_sparse, accept_large_sparse, dtype, order, copy, force_all_finite, ensure_2d, allow_nd, multi_output, ensure_min_samples, ensure_min_features, y_numeric, estimator)\u001b[0m\n\u001b[1;32m    819\u001b[0m                     \u001b[0mensure_min_samples\u001b[0m\u001b[0;34m=\u001b[0m\u001b[0mensure_min_samples\u001b[0m\u001b[0;34m,\u001b[0m\u001b[0;34m\u001b[0m\u001b[0;34m\u001b[0m\u001b[0m\n\u001b[1;32m    820\u001b[0m                     \u001b[0mensure_min_features\u001b[0m\u001b[0;34m=\u001b[0m\u001b[0mensure_min_features\u001b[0m\u001b[0;34m,\u001b[0m\u001b[0;34m\u001b[0m\u001b[0;34m\u001b[0m\u001b[0m\n\u001b[0;32m--> 821\u001b[0;31m                     estimator=estimator)\n\u001b[0m\u001b[1;32m    822\u001b[0m     \u001b[0;32mif\u001b[0m \u001b[0mmulti_output\u001b[0m\u001b[0;34m:\u001b[0m\u001b[0;34m\u001b[0m\u001b[0;34m\u001b[0m\u001b[0m\n\u001b[1;32m    823\u001b[0m         y = check_array(y, accept_sparse='csr', force_all_finite=True,\n",
      "\u001b[0;32m/opt/anaconda3/lib/python3.7/site-packages/sklearn/utils/validation.py\u001b[0m in \u001b[0;36minner_f\u001b[0;34m(*args, **kwargs)\u001b[0m\n\u001b[1;32m     61\u001b[0m             \u001b[0mextra_args\u001b[0m \u001b[0;34m=\u001b[0m \u001b[0mlen\u001b[0m\u001b[0;34m(\u001b[0m\u001b[0margs\u001b[0m\u001b[0;34m)\u001b[0m \u001b[0;34m-\u001b[0m \u001b[0mlen\u001b[0m\u001b[0;34m(\u001b[0m\u001b[0mall_args\u001b[0m\u001b[0;34m)\u001b[0m\u001b[0;34m\u001b[0m\u001b[0;34m\u001b[0m\u001b[0m\n\u001b[1;32m     62\u001b[0m             \u001b[0;32mif\u001b[0m \u001b[0mextra_args\u001b[0m \u001b[0;34m<=\u001b[0m \u001b[0;36m0\u001b[0m\u001b[0;34m:\u001b[0m\u001b[0;34m\u001b[0m\u001b[0;34m\u001b[0m\u001b[0m\n\u001b[0;32m---> 63\u001b[0;31m                 \u001b[0;32mreturn\u001b[0m \u001b[0mf\u001b[0m\u001b[0;34m(\u001b[0m\u001b[0;34m*\u001b[0m\u001b[0margs\u001b[0m\u001b[0;34m,\u001b[0m \u001b[0;34m**\u001b[0m\u001b[0mkwargs\u001b[0m\u001b[0;34m)\u001b[0m\u001b[0;34m\u001b[0m\u001b[0;34m\u001b[0m\u001b[0m\n\u001b[0m\u001b[1;32m     64\u001b[0m \u001b[0;34m\u001b[0m\u001b[0m\n\u001b[1;32m     65\u001b[0m             \u001b[0;31m# extra_args > 0\u001b[0m\u001b[0;34m\u001b[0m\u001b[0;34m\u001b[0m\u001b[0;34m\u001b[0m\u001b[0m\n",
      "\u001b[0;32m/opt/anaconda3/lib/python3.7/site-packages/sklearn/utils/validation.py\u001b[0m in \u001b[0;36mcheck_array\u001b[0;34m(array, accept_sparse, accept_large_sparse, dtype, order, copy, force_all_finite, ensure_2d, allow_nd, ensure_min_samples, ensure_min_features, estimator)\u001b[0m\n\u001b[1;32m    662\u001b[0m         \u001b[0;32mif\u001b[0m \u001b[0mforce_all_finite\u001b[0m\u001b[0;34m:\u001b[0m\u001b[0;34m\u001b[0m\u001b[0;34m\u001b[0m\u001b[0m\n\u001b[1;32m    663\u001b[0m             _assert_all_finite(array,\n\u001b[0;32m--> 664\u001b[0;31m                                allow_nan=force_all_finite == 'allow-nan')\n\u001b[0m\u001b[1;32m    665\u001b[0m \u001b[0;34m\u001b[0m\u001b[0m\n\u001b[1;32m    666\u001b[0m     \u001b[0;32mif\u001b[0m \u001b[0mensure_min_samples\u001b[0m \u001b[0;34m>\u001b[0m \u001b[0;36m0\u001b[0m\u001b[0;34m:\u001b[0m\u001b[0;34m\u001b[0m\u001b[0;34m\u001b[0m\u001b[0m\n",
      "\u001b[0;32m/opt/anaconda3/lib/python3.7/site-packages/sklearn/utils/validation.py\u001b[0m in \u001b[0;36m_assert_all_finite\u001b[0;34m(X, allow_nan, msg_dtype)\u001b[0m\n\u001b[1;32m    104\u001b[0m                     \u001b[0mmsg_err\u001b[0m\u001b[0;34m.\u001b[0m\u001b[0mformat\u001b[0m\u001b[0;34m\u001b[0m\u001b[0;34m\u001b[0m\u001b[0m\n\u001b[1;32m    105\u001b[0m                     (type_err,\n\u001b[0;32m--> 106\u001b[0;31m                      msg_dtype if msg_dtype is not None else X.dtype)\n\u001b[0m\u001b[1;32m    107\u001b[0m             )\n\u001b[1;32m    108\u001b[0m     \u001b[0;31m# for object dtype data, we only check for NaNs (GH-13254)\u001b[0m\u001b[0;34m\u001b[0m\u001b[0;34m\u001b[0m\u001b[0;34m\u001b[0m\u001b[0m\n",
      "\u001b[0;31mValueError\u001b[0m: Input contains NaN, infinity or a value too large for dtype('float64')."
     ]
    }
   ],
   "source": [
    "# This first model will test on the raw data using Linear Regression\n",
    "linreg = LinearRegression()\n",
    "linreg.fit(X_train, y_train)"
   ]
  },
  {
   "cell_type": "code",
   "execution_count": null,
   "metadata": {},
   "outputs": [],
   "source": []
  }
 ],
 "metadata": {
  "kernelspec": {
   "display_name": "Python 3",
   "language": "python",
   "name": "python3"
  },
  "language_info": {
   "codemirror_mode": {
    "name": "ipython",
    "version": 3
   },
   "file_extension": ".py",
   "mimetype": "text/x-python",
   "name": "python",
   "nbconvert_exporter": "python",
   "pygments_lexer": "ipython3",
   "version": "3.7.4"
  }
 },
 "nbformat": 4,
 "nbformat_minor": 2
}
